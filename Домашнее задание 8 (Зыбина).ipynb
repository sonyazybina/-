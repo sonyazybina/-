{
 "cells": [
  {
   "cell_type": "code",
   "execution_count": 1,
   "id": "1bead1c1",
   "metadata": {},
   "outputs": [],
   "source": [
    "import pandas as pd\n",
    "import numpy as np\n",
    "import statsmodels.formula.api as smf\n",
    "import seaborn as sns\n",
    "import re\n",
    "import scipy.stats as stats"
   ]
  },
  {
   "cell_type": "code",
   "execution_count": 2,
   "id": "456ef721",
   "metadata": {},
   "outputs": [
    {
     "data": {
      "text/html": [
       "<div>\n",
       "<style scoped>\n",
       "    .dataframe tbody tr th:only-of-type {\n",
       "        vertical-align: middle;\n",
       "    }\n",
       "\n",
       "    .dataframe tbody tr th {\n",
       "        vertical-align: top;\n",
       "    }\n",
       "\n",
       "    .dataframe thead th {\n",
       "        text-align: right;\n",
       "    }\n",
       "</style>\n",
       "<table border=\"1\" class=\"dataframe\">\n",
       "  <thead>\n",
       "    <tr style=\"text-align: right;\">\n",
       "      <th></th>\n",
       "      <th>age</th>\n",
       "      <th>black</th>\n",
       "      <th>case</th>\n",
       "      <th>clerical</th>\n",
       "      <th>construc</th>\n",
       "      <th>educ</th>\n",
       "      <th>earns74</th>\n",
       "      <th>gdhlth</th>\n",
       "      <th>inlf</th>\n",
       "      <th>leis1</th>\n",
       "      <th>...</th>\n",
       "      <th>spwrk75</th>\n",
       "      <th>totwrk</th>\n",
       "      <th>union</th>\n",
       "      <th>worknrm</th>\n",
       "      <th>workscnd</th>\n",
       "      <th>exper</th>\n",
       "      <th>yngkid</th>\n",
       "      <th>yrsmarr</th>\n",
       "      <th>hrwage</th>\n",
       "      <th>agesq</th>\n",
       "    </tr>\n",
       "  </thead>\n",
       "  <tbody>\n",
       "    <tr>\n",
       "      <th>0</th>\n",
       "      <td>32</td>\n",
       "      <td>0</td>\n",
       "      <td>1</td>\n",
       "      <td>0.000000</td>\n",
       "      <td>0.000000</td>\n",
       "      <td>12</td>\n",
       "      <td>0</td>\n",
       "      <td>0</td>\n",
       "      <td>1</td>\n",
       "      <td>3529</td>\n",
       "      <td>...</td>\n",
       "      <td>0</td>\n",
       "      <td>3438</td>\n",
       "      <td>0</td>\n",
       "      <td>3438</td>\n",
       "      <td>0</td>\n",
       "      <td>14</td>\n",
       "      <td>0</td>\n",
       "      <td>13</td>\n",
       "      <td>7.070004</td>\n",
       "      <td>1024</td>\n",
       "    </tr>\n",
       "    <tr>\n",
       "      <th>1</th>\n",
       "      <td>31</td>\n",
       "      <td>0</td>\n",
       "      <td>2</td>\n",
       "      <td>0.000000</td>\n",
       "      <td>0.000000</td>\n",
       "      <td>14</td>\n",
       "      <td>9500</td>\n",
       "      <td>1</td>\n",
       "      <td>1</td>\n",
       "      <td>2140</td>\n",
       "      <td>...</td>\n",
       "      <td>0</td>\n",
       "      <td>5020</td>\n",
       "      <td>0</td>\n",
       "      <td>5020</td>\n",
       "      <td>0</td>\n",
       "      <td>11</td>\n",
       "      <td>0</td>\n",
       "      <td>0</td>\n",
       "      <td>1.429999</td>\n",
       "      <td>961</td>\n",
       "    </tr>\n",
       "    <tr>\n",
       "      <th>2</th>\n",
       "      <td>44</td>\n",
       "      <td>0</td>\n",
       "      <td>3</td>\n",
       "      <td>0.000000</td>\n",
       "      <td>0.000000</td>\n",
       "      <td>17</td>\n",
       "      <td>42500</td>\n",
       "      <td>1</td>\n",
       "      <td>1</td>\n",
       "      <td>4595</td>\n",
       "      <td>...</td>\n",
       "      <td>1</td>\n",
       "      <td>2815</td>\n",
       "      <td>0</td>\n",
       "      <td>2815</td>\n",
       "      <td>0</td>\n",
       "      <td>21</td>\n",
       "      <td>0</td>\n",
       "      <td>0</td>\n",
       "      <td>20.529997</td>\n",
       "      <td>1936</td>\n",
       "    </tr>\n",
       "    <tr>\n",
       "      <th>3</th>\n",
       "      <td>30</td>\n",
       "      <td>0</td>\n",
       "      <td>4</td>\n",
       "      <td>0.000000</td>\n",
       "      <td>0.000000</td>\n",
       "      <td>12</td>\n",
       "      <td>42500</td>\n",
       "      <td>1</td>\n",
       "      <td>1</td>\n",
       "      <td>3211</td>\n",
       "      <td>...</td>\n",
       "      <td>1</td>\n",
       "      <td>3786</td>\n",
       "      <td>0</td>\n",
       "      <td>3786</td>\n",
       "      <td>0</td>\n",
       "      <td>12</td>\n",
       "      <td>0</td>\n",
       "      <td>12</td>\n",
       "      <td>9.619998</td>\n",
       "      <td>900</td>\n",
       "    </tr>\n",
       "    <tr>\n",
       "      <th>4</th>\n",
       "      <td>64</td>\n",
       "      <td>0</td>\n",
       "      <td>5</td>\n",
       "      <td>0.000000</td>\n",
       "      <td>0.000000</td>\n",
       "      <td>14</td>\n",
       "      <td>2500</td>\n",
       "      <td>1</td>\n",
       "      <td>1</td>\n",
       "      <td>4052</td>\n",
       "      <td>...</td>\n",
       "      <td>1</td>\n",
       "      <td>2580</td>\n",
       "      <td>0</td>\n",
       "      <td>2580</td>\n",
       "      <td>0</td>\n",
       "      <td>44</td>\n",
       "      <td>0</td>\n",
       "      <td>33</td>\n",
       "      <td>2.750000</td>\n",
       "      <td>4096</td>\n",
       "    </tr>\n",
       "    <tr>\n",
       "      <th>...</th>\n",
       "      <td>...</td>\n",
       "      <td>...</td>\n",
       "      <td>...</td>\n",
       "      <td>...</td>\n",
       "      <td>...</td>\n",
       "      <td>...</td>\n",
       "      <td>...</td>\n",
       "      <td>...</td>\n",
       "      <td>...</td>\n",
       "      <td>...</td>\n",
       "      <td>...</td>\n",
       "      <td>...</td>\n",
       "      <td>...</td>\n",
       "      <td>...</td>\n",
       "      <td>...</td>\n",
       "      <td>...</td>\n",
       "      <td>...</td>\n",
       "      <td>...</td>\n",
       "      <td>...</td>\n",
       "      <td>...</td>\n",
       "      <td>...</td>\n",
       "    </tr>\n",
       "    <tr>\n",
       "      <th>701</th>\n",
       "      <td>45</td>\n",
       "      <td>0</td>\n",
       "      <td>702</td>\n",
       "      <td>0.182331</td>\n",
       "      <td>0.030075</td>\n",
       "      <td>12</td>\n",
       "      <td>5500</td>\n",
       "      <td>1</td>\n",
       "      <td>0</td>\n",
       "      <td>5069</td>\n",
       "      <td>...</td>\n",
       "      <td>1</td>\n",
       "      <td>2026</td>\n",
       "      <td>0</td>\n",
       "      <td>2026</td>\n",
       "      <td>0</td>\n",
       "      <td>27</td>\n",
       "      <td>0</td>\n",
       "      <td>18</td>\n",
       "      <td>NaN</td>\n",
       "      <td>2025</td>\n",
       "    </tr>\n",
       "    <tr>\n",
       "      <th>702</th>\n",
       "      <td>34</td>\n",
       "      <td>0</td>\n",
       "      <td>703</td>\n",
       "      <td>0.182331</td>\n",
       "      <td>0.030075</td>\n",
       "      <td>10</td>\n",
       "      <td>2500</td>\n",
       "      <td>0</td>\n",
       "      <td>0</td>\n",
       "      <td>5885</td>\n",
       "      <td>...</td>\n",
       "      <td>0</td>\n",
       "      <td>675</td>\n",
       "      <td>1</td>\n",
       "      <td>465</td>\n",
       "      <td>210</td>\n",
       "      <td>18</td>\n",
       "      <td>0</td>\n",
       "      <td>4</td>\n",
       "      <td>NaN</td>\n",
       "      <td>1156</td>\n",
       "    </tr>\n",
       "    <tr>\n",
       "      <th>703</th>\n",
       "      <td>37</td>\n",
       "      <td>0</td>\n",
       "      <td>704</td>\n",
       "      <td>0.182331</td>\n",
       "      <td>0.030075</td>\n",
       "      <td>12</td>\n",
       "      <td>3500</td>\n",
       "      <td>1</td>\n",
       "      <td>0</td>\n",
       "      <td>4719</td>\n",
       "      <td>...</td>\n",
       "      <td>1</td>\n",
       "      <td>1851</td>\n",
       "      <td>0</td>\n",
       "      <td>1851</td>\n",
       "      <td>0</td>\n",
       "      <td>19</td>\n",
       "      <td>0</td>\n",
       "      <td>17</td>\n",
       "      <td>NaN</td>\n",
       "      <td>1369</td>\n",
       "    </tr>\n",
       "    <tr>\n",
       "      <th>704</th>\n",
       "      <td>54</td>\n",
       "      <td>0</td>\n",
       "      <td>705</td>\n",
       "      <td>0.182331</td>\n",
       "      <td>0.030075</td>\n",
       "      <td>17</td>\n",
       "      <td>32500</td>\n",
       "      <td>1</td>\n",
       "      <td>0</td>\n",
       "      <td>5149</td>\n",
       "      <td>...</td>\n",
       "      <td>1</td>\n",
       "      <td>1961</td>\n",
       "      <td>1</td>\n",
       "      <td>1481</td>\n",
       "      <td>480</td>\n",
       "      <td>31</td>\n",
       "      <td>0</td>\n",
       "      <td>22</td>\n",
       "      <td>NaN</td>\n",
       "      <td>2916</td>\n",
       "    </tr>\n",
       "    <tr>\n",
       "      <th>705</th>\n",
       "      <td>30</td>\n",
       "      <td>0</td>\n",
       "      <td>706</td>\n",
       "      <td>0.182331</td>\n",
       "      <td>0.030075</td>\n",
       "      <td>16</td>\n",
       "      <td>6750</td>\n",
       "      <td>1</td>\n",
       "      <td>0</td>\n",
       "      <td>4747</td>\n",
       "      <td>...</td>\n",
       "      <td>0</td>\n",
       "      <td>2363</td>\n",
       "      <td>0</td>\n",
       "      <td>2363</td>\n",
       "      <td>0</td>\n",
       "      <td>8</td>\n",
       "      <td>1</td>\n",
       "      <td>9</td>\n",
       "      <td>NaN</td>\n",
       "      <td>900</td>\n",
       "    </tr>\n",
       "  </tbody>\n",
       "</table>\n",
       "<p>706 rows × 34 columns</p>\n",
       "</div>"
      ],
      "text/plain": [
       "     age  black  case  clerical  construc  educ  earns74  gdhlth  inlf  leis1  \\\n",
       "0     32      0     1  0.000000  0.000000    12        0       0     1   3529   \n",
       "1     31      0     2  0.000000  0.000000    14     9500       1     1   2140   \n",
       "2     44      0     3  0.000000  0.000000    17    42500       1     1   4595   \n",
       "3     30      0     4  0.000000  0.000000    12    42500       1     1   3211   \n",
       "4     64      0     5  0.000000  0.000000    14     2500       1     1   4052   \n",
       "..   ...    ...   ...       ...       ...   ...      ...     ...   ...    ...   \n",
       "701   45      0   702  0.182331  0.030075    12     5500       1     0   5069   \n",
       "702   34      0   703  0.182331  0.030075    10     2500       0     0   5885   \n",
       "703   37      0   704  0.182331  0.030075    12     3500       1     0   4719   \n",
       "704   54      0   705  0.182331  0.030075    17    32500       1     0   5149   \n",
       "705   30      0   706  0.182331  0.030075    16     6750       1     0   4747   \n",
       "\n",
       "     ...  spwrk75  totwrk  union  worknrm  workscnd  exper  yngkid  yrsmarr  \\\n",
       "0    ...        0    3438      0     3438         0     14       0       13   \n",
       "1    ...        0    5020      0     5020         0     11       0        0   \n",
       "2    ...        1    2815      0     2815         0     21       0        0   \n",
       "3    ...        1    3786      0     3786         0     12       0       12   \n",
       "4    ...        1    2580      0     2580         0     44       0       33   \n",
       "..   ...      ...     ...    ...      ...       ...    ...     ...      ...   \n",
       "701  ...        1    2026      0     2026         0     27       0       18   \n",
       "702  ...        0     675      1      465       210     18       0        4   \n",
       "703  ...        1    1851      0     1851         0     19       0       17   \n",
       "704  ...        1    1961      1     1481       480     31       0       22   \n",
       "705  ...        0    2363      0     2363         0      8       1        9   \n",
       "\n",
       "        hrwage  agesq  \n",
       "0     7.070004   1024  \n",
       "1     1.429999    961  \n",
       "2    20.529997   1936  \n",
       "3     9.619998    900  \n",
       "4     2.750000   4096  \n",
       "..         ...    ...  \n",
       "701        NaN   2025  \n",
       "702        NaN   1156  \n",
       "703        NaN   1369  \n",
       "704        NaN   2916  \n",
       "705        NaN    900  \n",
       "\n",
       "[706 rows x 34 columns]"
      ]
     },
     "execution_count": 2,
     "metadata": {},
     "output_type": "execute_result"
    }
   ],
   "source": [
    "df = pd.read_csv('https://raw.githubusercontent.com/ryupepa/Econometrica/master/python-notebooks/data-csv/sleep75.csv')\n",
    "df"
   ]
  },
  {
   "cell_type": "code",
   "execution_count": 3,
   "id": "7eeb456c",
   "metadata": {},
   "outputs": [
    {
     "data": {
      "image/png": "[encoded data removed]",
      "text/plain": [
       "<Figure size 567.75x500 with 1 Axes>"
      ]
     },
     "metadata": {},
     "output_type": "display_data"
    }
   ],
   "source": [
    "sns.lmplot(x='totwrk', y='sleep', hue='educ', data=df);"
   ]
  },
  {
   "cell_type": "code",
   "execution_count": 6,
   "id": "c3ba1338",
   "metadata": {},
   "outputs": [
    {
     "data": {
      "text/plain": [
       "<seaborn.axisgrid.FacetGrid at 0x7fdda338f220>"
      ]
     },
     "execution_count": 6,
     "metadata": {},
     "output_type": "execute_result"
    },
    {
     "data": {
      "image/png": "[encoded data removed]",
      "text/plain": [
       "<Figure size 1058.88x500 with 2 Axes>"
      ]
     },
     "metadata": {},
     "output_type": "display_data"
    }
   ],
   "source": [
    "sns.lmplot(x='totwrk', y='sleep', hue='male', col='south', data=df)"
   ]
  },
  {
   "cell_type": "code",
   "execution_count": 3,
   "id": "79ec0092",
   "metadata": {},
   "outputs": [
    {
     "data": {
      "text/plain": [
       "<seaborn.axisgrid.FacetGrid at 0x7fed32b14b80>"
      ]
     },
     "execution_count": 3,
     "metadata": {},
     "output_type": "execute_result"
    },
    {
     "data": {
      "image/png": "[encoded data removed]",
      "text/plain": [
       "<Figure size 1058.88x1000 with 4 Axes>"
      ]
     },
     "metadata": {},
     "output_type": "display_data"
    }
   ],
   "source": [
    "sns.lmplot(x='totwrk', y='sleep', hue='male', col='south', row='yngkid', data=df)"
   ]
  },
  {
   "cell_type": "markdown",
   "id": "92d57423",
   "metadata": {},
   "source": [
    "# Задача 1.2 sleep equation #1"
   ]
  },
  {
   "cell_type": "markdown",
   "id": "f84b5dd4",
   "metadata": {},
   "source": [
    "$$H_0: \\beta_{totwrk:male} = \\beta_{male} = \\beta_{age:male} = \\beta_{smsa:male} = 0$$\n",
    "$$H_1: \\beta_{totwrk:male}^2 + \\beta_{male}^2 + \\beta_{age:male}^2 + \\beta_{smsa:male}^2 > 0$$"
   ]
  },
  {
   "cell_type": "code",
   "execution_count": 8,
   "id": "e2791051",
   "metadata": {},
   "outputs": [],
   "source": [
    "data_string = '''R2                      0.115          0.126'''"
   ]
  },
  {
   "cell_type": "code",
   "execution_count": 9,
   "id": "d35bbaa9",
   "metadata": {},
   "outputs": [
    {
     "data": {
      "text/plain": [
       "['0.115', '0.126']"
      ]
     },
     "execution_count": 9,
     "metadata": {},
     "output_type": "execute_result"
    }
   ],
   "source": [
    "re.findall(r'([-+]?\\d+.\\d+)', data_string)"
   ]
  },
  {
   "cell_type": "code",
   "execution_count": 10,
   "id": "395acc69",
   "metadata": {},
   "outputs": [],
   "source": [
    "R_res, R_unres = np.float_(re.findall(r'([-+]?\\d+.\\d+)', data_string))"
   ]
  },
  {
   "cell_type": "code",
   "execution_count": 11,
   "id": "5ed2d96f",
   "metadata": {},
   "outputs": [
    {
     "data": {
      "text/plain": [
       "0.115"
      ]
     },
     "execution_count": 11,
     "metadata": {},
     "output_type": "execute_result"
    }
   ],
   "source": [
    "R_res"
   ]
  },
  {
   "cell_type": "code",
   "execution_count": 12,
   "id": "9710c963",
   "metadata": {},
   "outputs": [
    {
     "data": {
      "text/plain": [
       "0.126"
      ]
     },
     "execution_count": 12,
     "metadata": {},
     "output_type": "execute_result"
    }
   ],
   "source": [
    "R_unres"
   ]
  },
  {
   "cell_type": "code",
   "execution_count": 13,
   "id": "312d1aae",
   "metadata": {},
   "outputs": [
    {
     "data": {
      "text/plain": [
       "2.196"
      ]
     },
     "execution_count": 13,
     "metadata": {},
     "output_type": "execute_result"
    }
   ],
   "source": [
    "F_obs = (R_unres-R_res)/(1-R_unres)*(len(df)-8)/4\n",
    "F_obs.round(3)"
   ]
  },
  {
   "cell_type": "code",
   "execution_count": 14,
   "id": "1062590a",
   "metadata": {},
   "outputs": [
    {
     "data": {
      "text/plain": [
       "2.38"
      ]
     },
     "execution_count": 14,
     "metadata": {},
     "output_type": "execute_result"
    }
   ],
   "source": [
    "alpha = 0.05\n",
    "stats.f.ppf(1-alpha,4,len(df)-8).round(2)"
   ]
  },
  {
   "cell_type": "markdown",
   "id": "cc94b945",
   "metadata": {},
   "source": [
    "$F_{obs}<F_{cr}$ Данный согласуются с гипотезой $H_0$"
   ]
  },
  {
   "cell_type": "markdown",
   "id": "2f16e97f",
   "metadata": {},
   "source": [
    "# Задача 1.3 sleep equation #2"
   ]
  },
  {
   "cell_type": "markdown",
   "id": "58958e4d",
   "metadata": {},
   "source": [
    "$$H_0: \\beta_{totwrk:south} = \\beta_{south} = \\beta_{age:south} = \\beta_{smsa:south} = 0$$\n",
    "$$H_1: \\beta_{totwrk:south}^2 + \\beta_{south}^2 + \\beta_{age:south}^2 + \\beta_{smsa:south}^2 > 0$$"
   ]
  },
  {
   "cell_type": "code",
   "execution_count": 15,
   "id": "478c35a2",
   "metadata": {},
   "outputs": [],
   "source": [
    "data_string = '''R2                      0.115          0.131'''"
   ]
  },
  {
   "cell_type": "code",
   "execution_count": 16,
   "id": "11662c1f",
   "metadata": {},
   "outputs": [
    {
     "data": {
      "text/plain": [
       "['0.115', '0.131']"
      ]
     },
     "execution_count": 16,
     "metadata": {},
     "output_type": "execute_result"
    }
   ],
   "source": [
    "re.findall(r'([-+]?\\d+.\\d+)', data_string)"
   ]
  },
  {
   "cell_type": "code",
   "execution_count": 17,
   "id": "797d9dd3",
   "metadata": {},
   "outputs": [],
   "source": [
    "R_res, R_unres = np.float_(re.findall(r'([-+]?\\d+.\\d+)', data_string))"
   ]
  },
  {
   "cell_type": "code",
   "execution_count": 18,
   "id": "e4b9d897",
   "metadata": {},
   "outputs": [
    {
     "data": {
      "text/plain": [
       "0.115"
      ]
     },
     "execution_count": 18,
     "metadata": {},
     "output_type": "execute_result"
    }
   ],
   "source": [
    "R_res"
   ]
  },
  {
   "cell_type": "code",
   "execution_count": 19,
   "id": "27f57ef3",
   "metadata": {},
   "outputs": [
    {
     "data": {
      "text/plain": [
       "0.131"
      ]
     },
     "execution_count": 19,
     "metadata": {},
     "output_type": "execute_result"
    }
   ],
   "source": [
    "R_unres"
   ]
  },
  {
   "cell_type": "code",
   "execution_count": 20,
   "id": "21892c1f",
   "metadata": {},
   "outputs": [
    {
     "data": {
      "text/plain": [
       "3.213"
      ]
     },
     "execution_count": 20,
     "metadata": {},
     "output_type": "execute_result"
    }
   ],
   "source": [
    "F_obs = (R_unres-R_res)/(1-R_unres)*(len(df)-8)/4\n",
    "F_obs.round(3)"
   ]
  },
  {
   "cell_type": "code",
   "execution_count": 22,
   "id": "df06486f",
   "metadata": {},
   "outputs": [
    {
     "data": {
      "text/plain": [
       "1.95"
      ]
     },
     "execution_count": 22,
     "metadata": {},
     "output_type": "execute_result"
    }
   ],
   "source": [
    "alpha = 0.1\n",
    "stats.f.ppf(1-alpha,4,len(df)-8).round(2)"
   ]
  },
  {
   "cell_type": "markdown",
   "id": "7b9ab698",
   "metadata": {},
   "source": [
    "$F_{obs}<F_{cr}$ Данный согласуются с гипотезой $H_0$"
   ]
  },
  {
   "cell_type": "markdown",
   "id": "d8ab2328",
   "metadata": {},
   "source": [
    "# Задача 1.4 wage equation #1"
   ]
  },
  {
   "cell_type": "markdown",
   "id": "5ddecd0c",
   "metadata": {},
   "source": [
    "$$H_0: \\beta_{age:south} = \\beta_{south} = \\beta_{IQ:south} = \\beta_{urban:south} = \\beta_{married:south} = 0$$\n",
    "$$H_1: \\beta_{age:south}^2 + \\beta_{south}^2 + \\beta_{IQ:south}^2 + \\beta_{urban:south}^2 + \\beta_{married:south}^2 > 0$$"
   ]
  },
  {
   "cell_type": "code",
   "execution_count": 23,
   "id": "206ba237",
   "metadata": {},
   "outputs": [],
   "source": [
    "data_string = '''R2                      0.188          0.205'''"
   ]
  },
  {
   "cell_type": "code",
   "execution_count": 24,
   "id": "4cff8482",
   "metadata": {},
   "outputs": [
    {
     "data": {
      "text/plain": [
       "['0.188', '0.205']"
      ]
     },
     "execution_count": 24,
     "metadata": {},
     "output_type": "execute_result"
    }
   ],
   "source": [
    "re.findall(r'([-+]?\\d+.\\d+)', data_string)"
   ]
  },
  {
   "cell_type": "code",
   "execution_count": 25,
   "id": "47da8461",
   "metadata": {},
   "outputs": [],
   "source": [
    "R_res, R_unres = np.float_(re.findall(r'([-+]?\\d+.\\d+)', data_string))"
   ]
  },
  {
   "cell_type": "code",
   "execution_count": 26,
   "id": "4ef93ed3",
   "metadata": {},
   "outputs": [
    {
     "data": {
      "text/plain": [
       "0.188"
      ]
     },
     "execution_count": 26,
     "metadata": {},
     "output_type": "execute_result"
    }
   ],
   "source": [
    "R_res"
   ]
  },
  {
   "cell_type": "code",
   "execution_count": 27,
   "id": "684ac6fd",
   "metadata": {},
   "outputs": [
    {
     "data": {
      "text/plain": [
       "0.205"
      ]
     },
     "execution_count": 27,
     "metadata": {},
     "output_type": "execute_result"
    }
   ],
   "source": [
    "R_unres"
   ]
  },
  {
   "cell_type": "code",
   "execution_count": 34,
   "id": "f7ad3395",
   "metadata": {},
   "outputs": [
    {
     "data": {
      "text/plain": [
       "2.977"
      ]
     },
     "execution_count": 34,
     "metadata": {},
     "output_type": "execute_result"
    }
   ],
   "source": [
    "F_obs = (R_unres-R_res)/(1-R_unres)*(len(df)-10)/5\n",
    "F_obs.round(3)"
   ]
  },
  {
   "cell_type": "code",
   "execution_count": 37,
   "id": "162a20c5",
   "metadata": {},
   "outputs": [
    {
     "data": {
      "text/plain": [
       "2.23"
      ]
     },
     "execution_count": 37,
     "metadata": {},
     "output_type": "execute_result"
    }
   ],
   "source": [
    "alpha = 0.05\n",
    "stats.f.ppf(1-alpha,5,len(df)-10).round(2)"
   ]
  },
  {
   "cell_type": "markdown",
   "id": "374f88a3",
   "metadata": {},
   "source": [
    "$F_{obs}>F_{cr}$ Данный согласуются с гипотезой $H_1$"
   ]
  },
  {
   "cell_type": "markdown",
   "id": "d2f8fbe8",
   "metadata": {},
   "source": [
    "# Задача 1.5 wage equation #2"
   ]
  },
  {
   "cell_type": "markdown",
   "id": "471062a3",
   "metadata": {},
   "source": [
    "$$H_0: \\beta_{age:urban} = \\beta_{urban} = \\beta_{IQ:urban} = \\beta_{south:urban} = \\beta_{married:urban} = 0$$\n",
    "$$H_1: \\beta_{age:urban}^2 + \\beta_{urban}^2 + \\beta_{IQ:urban}^2 + \\beta_{south:urban}^2 + \\beta_{married:urban}^2 > 0$$"
   ]
  },
  {
   "cell_type": "code",
   "execution_count": 39,
   "id": "bb8b5bf5",
   "metadata": {},
   "outputs": [],
   "source": [
    "data_string = '''R2                      0.146          0.182'''"
   ]
  },
  {
   "cell_type": "code",
   "execution_count": 40,
   "id": "3c759c5f",
   "metadata": {},
   "outputs": [
    {
     "data": {
      "text/plain": [
       "['0.146', '0.182']"
      ]
     },
     "execution_count": 40,
     "metadata": {},
     "output_type": "execute_result"
    }
   ],
   "source": [
    "re.findall(r'([-+]?\\d+.\\d+)', data_string)"
   ]
  },
  {
   "cell_type": "code",
   "execution_count": 41,
   "id": "dddd82d3",
   "metadata": {},
   "outputs": [],
   "source": [
    "R_res, R_unres = np.float_(re.findall(r'([-+]?\\d+.\\d+)', data_string))"
   ]
  },
  {
   "cell_type": "code",
   "execution_count": 42,
   "id": "f1648201",
   "metadata": {},
   "outputs": [
    {
     "data": {
      "text/plain": [
       "0.146"
      ]
     },
     "execution_count": 42,
     "metadata": {},
     "output_type": "execute_result"
    }
   ],
   "source": [
    "R_res"
   ]
  },
  {
   "cell_type": "code",
   "execution_count": 43,
   "id": "5b690c3a",
   "metadata": {},
   "outputs": [
    {
     "data": {
      "text/plain": [
       "0.182"
      ]
     },
     "execution_count": 43,
     "metadata": {},
     "output_type": "execute_result"
    }
   ],
   "source": [
    "R_unres"
   ]
  },
  {
   "cell_type": "code",
   "execution_count": 44,
   "id": "c2b2e3c7",
   "metadata": {},
   "outputs": [
    {
     "data": {
      "text/plain": [
       "7.68"
      ]
     },
     "execution_count": 44,
     "metadata": {},
     "output_type": "execute_result"
    }
   ],
   "source": [
    "F_obs = (R_unres-R_res)/(1-R_unres)*(len(df)-8)/4\n",
    "F_obs.round(3)"
   ]
  },
  {
   "cell_type": "code",
   "execution_count": 45,
   "id": "b1510273",
   "metadata": {},
   "outputs": [
    {
     "data": {
      "text/plain": [
       "1.95"
      ]
     },
     "execution_count": 45,
     "metadata": {},
     "output_type": "execute_result"
    }
   ],
   "source": [
    "alpha = 0.1\n",
    "stats.f.ppf(1-alpha,4,len(df)-8).round(2)"
   ]
  },
  {
   "cell_type": "markdown",
   "id": "47a98d17",
   "metadata": {},
   "source": [
    "$F_{obs}>F_{cr}$ Данный согласуются с гипотезой $H_1$"
   ]
  },
  {
   "cell_type": "markdown",
   "id": "69f3af43",
   "metadata": {},
   "source": [
    "# Задача 2.1 diamond equation #1"
   ]
  },
  {
   "cell_type": "markdown",
   "id": "55db1335",
   "metadata": {},
   "source": [
    "$$H_0: \\beta_{colourE} = \\beta_{colourF} = \\beta_{colourG} = \\beta_{colourH} = \\beta_{colourI} = 0$$\n",
    "$$H_1: \\beta_{colourE}^2 + \\beta_{colourF}^2 + \\beta_{colourG}^2 + \\beta_{colourH}^2 + \\beta_{colourI}^2 > 0$$"
   ]
  },
  {
   "cell_type": "code",
   "execution_count": 46,
   "id": "f5ac7837",
   "metadata": {},
   "outputs": [
    {
     "data": {
      "text/html": [
       "<div>\n",
       "<style scoped>\n",
       "    .dataframe tbody tr th:only-of-type {\n",
       "        vertical-align: middle;\n",
       "    }\n",
       "\n",
       "    .dataframe tbody tr th {\n",
       "        vertical-align: top;\n",
       "    }\n",
       "\n",
       "    .dataframe thead th {\n",
       "        text-align: right;\n",
       "    }\n",
       "</style>\n",
       "<table border=\"1\" class=\"dataframe\">\n",
       "  <thead>\n",
       "    <tr style=\"text-align: right;\">\n",
       "      <th></th>\n",
       "      <th>carat</th>\n",
       "      <th>colour</th>\n",
       "      <th>clarity</th>\n",
       "      <th>certification</th>\n",
       "      <th>price</th>\n",
       "    </tr>\n",
       "  </thead>\n",
       "  <tbody>\n",
       "    <tr>\n",
       "      <th>0</th>\n",
       "      <td>0.30</td>\n",
       "      <td>D</td>\n",
       "      <td>VS2</td>\n",
       "      <td>GIA</td>\n",
       "      <td>1302</td>\n",
       "    </tr>\n",
       "    <tr>\n",
       "      <th>1</th>\n",
       "      <td>0.30</td>\n",
       "      <td>E</td>\n",
       "      <td>VS1</td>\n",
       "      <td>GIA</td>\n",
       "      <td>1510</td>\n",
       "    </tr>\n",
       "    <tr>\n",
       "      <th>2</th>\n",
       "      <td>0.30</td>\n",
       "      <td>G</td>\n",
       "      <td>VVS1</td>\n",
       "      <td>GIA</td>\n",
       "      <td>1510</td>\n",
       "    </tr>\n",
       "    <tr>\n",
       "      <th>3</th>\n",
       "      <td>0.30</td>\n",
       "      <td>G</td>\n",
       "      <td>VS1</td>\n",
       "      <td>GIA</td>\n",
       "      <td>1260</td>\n",
       "    </tr>\n",
       "    <tr>\n",
       "      <th>4</th>\n",
       "      <td>0.31</td>\n",
       "      <td>D</td>\n",
       "      <td>VS1</td>\n",
       "      <td>GIA</td>\n",
       "      <td>1641</td>\n",
       "    </tr>\n",
       "    <tr>\n",
       "      <th>...</th>\n",
       "      <td>...</td>\n",
       "      <td>...</td>\n",
       "      <td>...</td>\n",
       "      <td>...</td>\n",
       "      <td>...</td>\n",
       "    </tr>\n",
       "    <tr>\n",
       "      <th>303</th>\n",
       "      <td>1.01</td>\n",
       "      <td>I</td>\n",
       "      <td>VS1</td>\n",
       "      <td>HRD</td>\n",
       "      <td>8175</td>\n",
       "    </tr>\n",
       "    <tr>\n",
       "      <th>304</th>\n",
       "      <td>1.02</td>\n",
       "      <td>F</td>\n",
       "      <td>VVS2</td>\n",
       "      <td>HRD</td>\n",
       "      <td>10796</td>\n",
       "    </tr>\n",
       "    <tr>\n",
       "      <th>305</th>\n",
       "      <td>1.06</td>\n",
       "      <td>H</td>\n",
       "      <td>VVS2</td>\n",
       "      <td>HRD</td>\n",
       "      <td>9890</td>\n",
       "    </tr>\n",
       "    <tr>\n",
       "      <th>306</th>\n",
       "      <td>1.02</td>\n",
       "      <td>H</td>\n",
       "      <td>VS2</td>\n",
       "      <td>HRD</td>\n",
       "      <td>8959</td>\n",
       "    </tr>\n",
       "    <tr>\n",
       "      <th>307</th>\n",
       "      <td>1.09</td>\n",
       "      <td>I</td>\n",
       "      <td>VVS2</td>\n",
       "      <td>HRD</td>\n",
       "      <td>9107</td>\n",
       "    </tr>\n",
       "  </tbody>\n",
       "</table>\n",
       "<p>308 rows × 5 columns</p>\n",
       "</div>"
      ],
      "text/plain": [
       "     carat colour clarity certification  price\n",
       "0     0.30      D     VS2           GIA   1302\n",
       "1     0.30      E     VS1           GIA   1510\n",
       "2     0.30      G    VVS1           GIA   1510\n",
       "3     0.30      G     VS1           GIA   1260\n",
       "4     0.31      D     VS1           GIA   1641\n",
       "..     ...    ...     ...           ...    ...\n",
       "303   1.01      I     VS1           HRD   8175\n",
       "304   1.02      F    VVS2           HRD  10796\n",
       "305   1.06      H    VVS2           HRD   9890\n",
       "306   1.02      H     VS2           HRD   8959\n",
       "307   1.09      I    VVS2           HRD   9107\n",
       "\n",
       "[308 rows x 5 columns]"
      ]
     },
     "execution_count": 46,
     "metadata": {},
     "output_type": "execute_result"
    }
   ],
   "source": [
    "df = pd.read_csv('https://raw.githubusercontent.com/ryupepa/Econometrica/master/python-notebooks/data-csv/Diamond.csv')\n",
    "df"
   ]
  },
  {
   "cell_type": "code",
   "execution_count": 47,
   "id": "a8ad67ec",
   "metadata": {},
   "outputs": [
    {
     "data": {
      "text/html": [
       "<div>\n",
       "<style scoped>\n",
       "    .dataframe tbody tr th:only-of-type {\n",
       "        vertical-align: middle;\n",
       "    }\n",
       "\n",
       "    .dataframe tbody tr th {\n",
       "        vertical-align: top;\n",
       "    }\n",
       "\n",
       "    .dataframe thead th {\n",
       "        text-align: right;\n",
       "    }\n",
       "</style>\n",
       "<table border=\"1\" class=\"dataframe\">\n",
       "  <thead>\n",
       "    <tr style=\"text-align: right;\">\n",
       "      <th></th>\n",
       "      <th>carat</th>\n",
       "      <th>colour</th>\n",
       "      <th>certification</th>\n",
       "      <th>price</th>\n",
       "    </tr>\n",
       "  </thead>\n",
       "  <tbody>\n",
       "    <tr>\n",
       "      <th>0</th>\n",
       "      <td>0.30</td>\n",
       "      <td>D</td>\n",
       "      <td>GIA</td>\n",
       "      <td>1302</td>\n",
       "    </tr>\n",
       "    <tr>\n",
       "      <th>1</th>\n",
       "      <td>0.30</td>\n",
       "      <td>E</td>\n",
       "      <td>GIA</td>\n",
       "      <td>1510</td>\n",
       "    </tr>\n",
       "    <tr>\n",
       "      <th>2</th>\n",
       "      <td>0.30</td>\n",
       "      <td>G</td>\n",
       "      <td>GIA</td>\n",
       "      <td>1510</td>\n",
       "    </tr>\n",
       "    <tr>\n",
       "      <th>3</th>\n",
       "      <td>0.30</td>\n",
       "      <td>G</td>\n",
       "      <td>GIA</td>\n",
       "      <td>1260</td>\n",
       "    </tr>\n",
       "    <tr>\n",
       "      <th>4</th>\n",
       "      <td>0.31</td>\n",
       "      <td>D</td>\n",
       "      <td>GIA</td>\n",
       "      <td>1641</td>\n",
       "    </tr>\n",
       "    <tr>\n",
       "      <th>5</th>\n",
       "      <td>0.31</td>\n",
       "      <td>E</td>\n",
       "      <td>GIA</td>\n",
       "      <td>1555</td>\n",
       "    </tr>\n",
       "  </tbody>\n",
       "</table>\n",
       "</div>"
      ],
      "text/plain": [
       "   carat colour certification  price\n",
       "0   0.30      D           GIA   1302\n",
       "1   0.30      E           GIA   1510\n",
       "2   0.30      G           GIA   1510\n",
       "3   0.30      G           GIA   1260\n",
       "4   0.31      D           GIA   1641\n",
       "5   0.31      E           GIA   1555"
      ]
     },
     "execution_count": 47,
     "metadata": {},
     "output_type": "execute_result"
    }
   ],
   "source": [
    "df.loc[0:5,['carat','colour','certification','price']]"
   ]
  },
  {
   "cell_type": "code",
   "execution_count": 48,
   "id": "2ecfec96",
   "metadata": {},
   "outputs": [
    {
     "data": {
      "text/html": [
       "<div>\n",
       "<style scoped>\n",
       "    .dataframe tbody tr th:only-of-type {\n",
       "        vertical-align: middle;\n",
       "    }\n",
       "\n",
       "    .dataframe tbody tr th {\n",
       "        vertical-align: top;\n",
       "    }\n",
       "\n",
       "    .dataframe thead th {\n",
       "        text-align: right;\n",
       "    }\n",
       "</style>\n",
       "<table border=\"1\" class=\"dataframe\">\n",
       "  <thead>\n",
       "    <tr style=\"text-align: right;\">\n",
       "      <th></th>\n",
       "      <th>carat</th>\n",
       "      <th>price</th>\n",
       "      <th>colour_D</th>\n",
       "      <th>colour_E</th>\n",
       "      <th>colour_F</th>\n",
       "      <th>colour_G</th>\n",
       "      <th>colour_H</th>\n",
       "      <th>colour_I</th>\n",
       "      <th>certification_GIA</th>\n",
       "      <th>certification_HRD</th>\n",
       "      <th>certification_IGI</th>\n",
       "    </tr>\n",
       "  </thead>\n",
       "  <tbody>\n",
       "    <tr>\n",
       "      <th>0</th>\n",
       "      <td>0.30</td>\n",
       "      <td>1302</td>\n",
       "      <td>1</td>\n",
       "      <td>0</td>\n",
       "      <td>0</td>\n",
       "      <td>0</td>\n",
       "      <td>0</td>\n",
       "      <td>0</td>\n",
       "      <td>1</td>\n",
       "      <td>0</td>\n",
       "      <td>0</td>\n",
       "    </tr>\n",
       "    <tr>\n",
       "      <th>1</th>\n",
       "      <td>0.30</td>\n",
       "      <td>1510</td>\n",
       "      <td>0</td>\n",
       "      <td>1</td>\n",
       "      <td>0</td>\n",
       "      <td>0</td>\n",
       "      <td>0</td>\n",
       "      <td>0</td>\n",
       "      <td>1</td>\n",
       "      <td>0</td>\n",
       "      <td>0</td>\n",
       "    </tr>\n",
       "    <tr>\n",
       "      <th>2</th>\n",
       "      <td>0.30</td>\n",
       "      <td>1510</td>\n",
       "      <td>0</td>\n",
       "      <td>0</td>\n",
       "      <td>0</td>\n",
       "      <td>1</td>\n",
       "      <td>0</td>\n",
       "      <td>0</td>\n",
       "      <td>1</td>\n",
       "      <td>0</td>\n",
       "      <td>0</td>\n",
       "    </tr>\n",
       "    <tr>\n",
       "      <th>3</th>\n",
       "      <td>0.30</td>\n",
       "      <td>1260</td>\n",
       "      <td>0</td>\n",
       "      <td>0</td>\n",
       "      <td>0</td>\n",
       "      <td>1</td>\n",
       "      <td>0</td>\n",
       "      <td>0</td>\n",
       "      <td>1</td>\n",
       "      <td>0</td>\n",
       "      <td>0</td>\n",
       "    </tr>\n",
       "    <tr>\n",
       "      <th>4</th>\n",
       "      <td>0.31</td>\n",
       "      <td>1641</td>\n",
       "      <td>1</td>\n",
       "      <td>0</td>\n",
       "      <td>0</td>\n",
       "      <td>0</td>\n",
       "      <td>0</td>\n",
       "      <td>0</td>\n",
       "      <td>1</td>\n",
       "      <td>0</td>\n",
       "      <td>0</td>\n",
       "    </tr>\n",
       "    <tr>\n",
       "      <th>...</th>\n",
       "      <td>...</td>\n",
       "      <td>...</td>\n",
       "      <td>...</td>\n",
       "      <td>...</td>\n",
       "      <td>...</td>\n",
       "      <td>...</td>\n",
       "      <td>...</td>\n",
       "      <td>...</td>\n",
       "      <td>...</td>\n",
       "      <td>...</td>\n",
       "      <td>...</td>\n",
       "    </tr>\n",
       "    <tr>\n",
       "      <th>303</th>\n",
       "      <td>1.01</td>\n",
       "      <td>8175</td>\n",
       "      <td>0</td>\n",
       "      <td>0</td>\n",
       "      <td>0</td>\n",
       "      <td>0</td>\n",
       "      <td>0</td>\n",
       "      <td>1</td>\n",
       "      <td>0</td>\n",
       "      <td>1</td>\n",
       "      <td>0</td>\n",
       "    </tr>\n",
       "    <tr>\n",
       "      <th>304</th>\n",
       "      <td>1.02</td>\n",
       "      <td>10796</td>\n",
       "      <td>0</td>\n",
       "      <td>0</td>\n",
       "      <td>1</td>\n",
       "      <td>0</td>\n",
       "      <td>0</td>\n",
       "      <td>0</td>\n",
       "      <td>0</td>\n",
       "      <td>1</td>\n",
       "      <td>0</td>\n",
       "    </tr>\n",
       "    <tr>\n",
       "      <th>305</th>\n",
       "      <td>1.06</td>\n",
       "      <td>9890</td>\n",
       "      <td>0</td>\n",
       "      <td>0</td>\n",
       "      <td>0</td>\n",
       "      <td>0</td>\n",
       "      <td>1</td>\n",
       "      <td>0</td>\n",
       "      <td>0</td>\n",
       "      <td>1</td>\n",
       "      <td>0</td>\n",
       "    </tr>\n",
       "    <tr>\n",
       "      <th>306</th>\n",
       "      <td>1.02</td>\n",
       "      <td>8959</td>\n",
       "      <td>0</td>\n",
       "      <td>0</td>\n",
       "      <td>0</td>\n",
       "      <td>0</td>\n",
       "      <td>1</td>\n",
       "      <td>0</td>\n",
       "      <td>0</td>\n",
       "      <td>1</td>\n",
       "      <td>0</td>\n",
       "    </tr>\n",
       "    <tr>\n",
       "      <th>307</th>\n",
       "      <td>1.09</td>\n",
       "      <td>9107</td>\n",
       "      <td>0</td>\n",
       "      <td>0</td>\n",
       "      <td>0</td>\n",
       "      <td>0</td>\n",
       "      <td>0</td>\n",
       "      <td>1</td>\n",
       "      <td>0</td>\n",
       "      <td>1</td>\n",
       "      <td>0</td>\n",
       "    </tr>\n",
       "  </tbody>\n",
       "</table>\n",
       "<p>308 rows × 11 columns</p>\n",
       "</div>"
      ],
      "text/plain": [
       "     carat  price  colour_D  colour_E  colour_F  colour_G  colour_H  colour_I  \\\n",
       "0     0.30   1302         1         0         0         0         0         0   \n",
       "1     0.30   1510         0         1         0         0         0         0   \n",
       "2     0.30   1510         0         0         0         1         0         0   \n",
       "3     0.30   1260         0         0         0         1         0         0   \n",
       "4     0.31   1641         1         0         0         0         0         0   \n",
       "..     ...    ...       ...       ...       ...       ...       ...       ...   \n",
       "303   1.01   8175         0         0         0         0         0         1   \n",
       "304   1.02  10796         0         0         1         0         0         0   \n",
       "305   1.06   9890         0         0         0         0         1         0   \n",
       "306   1.02   8959         0         0         0         0         1         0   \n",
       "307   1.09   9107         0         0         0         0         0         1   \n",
       "\n",
       "     certification_GIA  certification_HRD  certification_IGI  \n",
       "0                    1                  0                  0  \n",
       "1                    1                  0                  0  \n",
       "2                    1                  0                  0  \n",
       "3                    1                  0                  0  \n",
       "4                    1                  0                  0  \n",
       "..                 ...                ...                ...  \n",
       "303                  0                  1                  0  \n",
       "304                  0                  1                  0  \n",
       "305                  0                  1                  0  \n",
       "306                  0                  1                  0  \n",
       "307                  0                  1                  0  \n",
       "\n",
       "[308 rows x 11 columns]"
      ]
     },
     "execution_count": 48,
     "metadata": {},
     "output_type": "execute_result"
    }
   ],
   "source": [
    "df_all = pd.get_dummies(df.loc[:,['carat','colour','certification','price']])\n",
    "df_all"
   ]
  },
  {
   "cell_type": "code",
   "execution_count": 49,
   "id": "60e66fb8",
   "metadata": {},
   "outputs": [
    {
     "data": {
      "text/plain": [
       "Intercept            5.866015\n",
       "carat                5.667499\n",
       "I(carat ** 2)       -2.153394\n",
       "colour_E            -0.076348\n",
       "colour_F            -0.152412\n",
       "colour_G            -0.227155\n",
       "colour_H            -0.313470\n",
       "colour_I            -0.408190\n",
       "certification_HRD    0.042463\n",
       "certification_IGI    0.085451\n",
       "dtype: float64"
      ]
     },
     "execution_count": 49,
     "metadata": {},
     "output_type": "execute_result"
    }
   ],
   "source": [
    "model_d = smf.ols(formula='np.log(price)~carat+I(carat**2)+colour_E+colour_F+colour_G+colour_H+colour_I+certification_HRD+certification_IGI',data=df_all).fit()\n",
    "model_d.params"
   ]
  },
  {
   "cell_type": "code",
   "execution_count": 50,
   "id": "09070005",
   "metadata": {},
   "outputs": [
    {
     "data": {
      "text/plain": [
       "<class 'statsmodels.stats.contrast.ContrastResults'>\n",
       "<F test: F=71.54686523424247, p=5.202465260125759e-49, df_denom=298, df_num=5>"
      ]
     },
     "execution_count": 50,
     "metadata": {},
     "output_type": "execute_result"
    }
   ],
   "source": [
    "model_d.f_test('colour_E=colour_F=colour_G=colour_H=colour_I=0')"
   ]
  },
  {
   "cell_type": "code",
   "execution_count": 51,
   "id": "2817738a",
   "metadata": {},
   "outputs": [
    {
     "data": {
      "text/plain": [
       "3.08"
      ]
     },
     "execution_count": 51,
     "metadata": {},
     "output_type": "execute_result"
    }
   ],
   "source": [
    "alpha=0.01\n",
    "stats.f.ppf(1-alpha,5,len(df_all)-5).round(2)"
   ]
  },
  {
   "cell_type": "markdown",
   "id": "a7ee177e",
   "metadata": {},
   "source": [
    "$F_{cr}<F_{obs}$ Нулевую гипотезу отвергаем"
   ]
  },
  {
   "cell_type": "markdown",
   "id": "14f0c3f1",
   "metadata": {},
   "source": [
    "# Задача 2.2 diamond equation #2"
   ]
  },
  {
   "cell_type": "markdown",
   "id": "48a9fabb",
   "metadata": {},
   "source": [
    "$$H_0: \\beta_{colourE} = \\beta_{colourF} = \\beta_{colourG} = \\beta_{colourH} = \\beta_{colourI} = \\beta_{colourJ} = 0$$\n",
    "$$H_1: \\beta_{colourE}^2 + \\beta_{colourF}^2 + \\beta_{colourG}^2 + \\beta_{colourH}^2 + \\beta_{colourI}^2 + \\beta_{colourJ} > 0$$"
   ]
  },
  {
   "cell_type": "code",
   "execution_count": 57,
   "id": "945cf12e",
   "metadata": {},
   "outputs": [
    {
     "data": {
      "text/html": [
       "<div>\n",
       "<style scoped>\n",
       "    .dataframe tbody tr th:only-of-type {\n",
       "        vertical-align: middle;\n",
       "    }\n",
       "\n",
       "    .dataframe tbody tr th {\n",
       "        vertical-align: top;\n",
       "    }\n",
       "\n",
       "    .dataframe thead th {\n",
       "        text-align: right;\n",
       "    }\n",
       "</style>\n",
       "<table border=\"1\" class=\"dataframe\">\n",
       "  <thead>\n",
       "    <tr style=\"text-align: right;\">\n",
       "      <th></th>\n",
       "      <th>carat</th>\n",
       "      <th>cut</th>\n",
       "      <th>color</th>\n",
       "      <th>clarity</th>\n",
       "      <th>depth</th>\n",
       "      <th>table</th>\n",
       "      <th>price</th>\n",
       "      <th>x</th>\n",
       "      <th>y</th>\n",
       "      <th>z</th>\n",
       "    </tr>\n",
       "  </thead>\n",
       "  <tbody>\n",
       "    <tr>\n",
       "      <th>0</th>\n",
       "      <td>0.23</td>\n",
       "      <td>Ideal</td>\n",
       "      <td>E</td>\n",
       "      <td>SI2</td>\n",
       "      <td>61.5</td>\n",
       "      <td>55.0</td>\n",
       "      <td>326</td>\n",
       "      <td>3.95</td>\n",
       "      <td>3.98</td>\n",
       "      <td>2.43</td>\n",
       "    </tr>\n",
       "    <tr>\n",
       "      <th>1</th>\n",
       "      <td>0.21</td>\n",
       "      <td>Premium</td>\n",
       "      <td>E</td>\n",
       "      <td>SI1</td>\n",
       "      <td>59.8</td>\n",
       "      <td>61.0</td>\n",
       "      <td>326</td>\n",
       "      <td>3.89</td>\n",
       "      <td>3.84</td>\n",
       "      <td>2.31</td>\n",
       "    </tr>\n",
       "    <tr>\n",
       "      <th>2</th>\n",
       "      <td>0.23</td>\n",
       "      <td>Good</td>\n",
       "      <td>E</td>\n",
       "      <td>VS1</td>\n",
       "      <td>56.9</td>\n",
       "      <td>65.0</td>\n",
       "      <td>327</td>\n",
       "      <td>4.05</td>\n",
       "      <td>4.07</td>\n",
       "      <td>2.31</td>\n",
       "    </tr>\n",
       "    <tr>\n",
       "      <th>3</th>\n",
       "      <td>0.29</td>\n",
       "      <td>Premium</td>\n",
       "      <td>I</td>\n",
       "      <td>VS2</td>\n",
       "      <td>62.4</td>\n",
       "      <td>58.0</td>\n",
       "      <td>334</td>\n",
       "      <td>4.20</td>\n",
       "      <td>4.23</td>\n",
       "      <td>2.63</td>\n",
       "    </tr>\n",
       "    <tr>\n",
       "      <th>4</th>\n",
       "      <td>0.31</td>\n",
       "      <td>Good</td>\n",
       "      <td>J</td>\n",
       "      <td>SI2</td>\n",
       "      <td>63.3</td>\n",
       "      <td>58.0</td>\n",
       "      <td>335</td>\n",
       "      <td>4.34</td>\n",
       "      <td>4.35</td>\n",
       "      <td>2.75</td>\n",
       "    </tr>\n",
       "    <tr>\n",
       "      <th>...</th>\n",
       "      <td>...</td>\n",
       "      <td>...</td>\n",
       "      <td>...</td>\n",
       "      <td>...</td>\n",
       "      <td>...</td>\n",
       "      <td>...</td>\n",
       "      <td>...</td>\n",
       "      <td>...</td>\n",
       "      <td>...</td>\n",
       "      <td>...</td>\n",
       "    </tr>\n",
       "    <tr>\n",
       "      <th>53935</th>\n",
       "      <td>0.72</td>\n",
       "      <td>Ideal</td>\n",
       "      <td>D</td>\n",
       "      <td>SI1</td>\n",
       "      <td>60.8</td>\n",
       "      <td>57.0</td>\n",
       "      <td>2757</td>\n",
       "      <td>5.75</td>\n",
       "      <td>5.76</td>\n",
       "      <td>3.50</td>\n",
       "    </tr>\n",
       "    <tr>\n",
       "      <th>53936</th>\n",
       "      <td>0.72</td>\n",
       "      <td>Good</td>\n",
       "      <td>D</td>\n",
       "      <td>SI1</td>\n",
       "      <td>63.1</td>\n",
       "      <td>55.0</td>\n",
       "      <td>2757</td>\n",
       "      <td>5.69</td>\n",
       "      <td>5.75</td>\n",
       "      <td>3.61</td>\n",
       "    </tr>\n",
       "    <tr>\n",
       "      <th>53937</th>\n",
       "      <td>0.70</td>\n",
       "      <td>Very Good</td>\n",
       "      <td>D</td>\n",
       "      <td>SI1</td>\n",
       "      <td>62.8</td>\n",
       "      <td>60.0</td>\n",
       "      <td>2757</td>\n",
       "      <td>5.66</td>\n",
       "      <td>5.68</td>\n",
       "      <td>3.56</td>\n",
       "    </tr>\n",
       "    <tr>\n",
       "      <th>53938</th>\n",
       "      <td>0.86</td>\n",
       "      <td>Premium</td>\n",
       "      <td>H</td>\n",
       "      <td>SI2</td>\n",
       "      <td>61.0</td>\n",
       "      <td>58.0</td>\n",
       "      <td>2757</td>\n",
       "      <td>6.15</td>\n",
       "      <td>6.12</td>\n",
       "      <td>3.74</td>\n",
       "    </tr>\n",
       "    <tr>\n",
       "      <th>53939</th>\n",
       "      <td>0.75</td>\n",
       "      <td>Ideal</td>\n",
       "      <td>D</td>\n",
       "      <td>SI2</td>\n",
       "      <td>62.2</td>\n",
       "      <td>55.0</td>\n",
       "      <td>2757</td>\n",
       "      <td>5.83</td>\n",
       "      <td>5.87</td>\n",
       "      <td>3.64</td>\n",
       "    </tr>\n",
       "  </tbody>\n",
       "</table>\n",
       "<p>53940 rows × 10 columns</p>\n",
       "</div>"
      ],
      "text/plain": [
       "       carat        cut color clarity  depth  table  price     x     y     z\n",
       "0       0.23      Ideal     E     SI2   61.5   55.0    326  3.95  3.98  2.43\n",
       "1       0.21    Premium     E     SI1   59.8   61.0    326  3.89  3.84  2.31\n",
       "2       0.23       Good     E     VS1   56.9   65.0    327  4.05  4.07  2.31\n",
       "3       0.29    Premium     I     VS2   62.4   58.0    334  4.20  4.23  2.63\n",
       "4       0.31       Good     J     SI2   63.3   58.0    335  4.34  4.35  2.75\n",
       "...      ...        ...   ...     ...    ...    ...    ...   ...   ...   ...\n",
       "53935   0.72      Ideal     D     SI1   60.8   57.0   2757  5.75  5.76  3.50\n",
       "53936   0.72       Good     D     SI1   63.1   55.0   2757  5.69  5.75  3.61\n",
       "53937   0.70  Very Good     D     SI1   62.8   60.0   2757  5.66  5.68  3.56\n",
       "53938   0.86    Premium     H     SI2   61.0   58.0   2757  6.15  6.12  3.74\n",
       "53939   0.75      Ideal     D     SI2   62.2   55.0   2757  5.83  5.87  3.64\n",
       "\n",
       "[53940 rows x 10 columns]"
      ]
     },
     "execution_count": 57,
     "metadata": {},
     "output_type": "execute_result"
    }
   ],
   "source": [
    "df = pd.read_csv('https://raw.githubusercontent.com/artamonoff/Econometrica/master/python-notebooks/data-csv/diamonds.csv')\n",
    "df"
   ]
  },
  {
   "cell_type": "code",
   "execution_count": 61,
   "id": "a0343b81",
   "metadata": {},
   "outputs": [
    {
     "data": {
      "text/html": [
       "<div>\n",
       "<style scoped>\n",
       "    .dataframe tbody tr th:only-of-type {\n",
       "        vertical-align: middle;\n",
       "    }\n",
       "\n",
       "    .dataframe tbody tr th {\n",
       "        vertical-align: top;\n",
       "    }\n",
       "\n",
       "    .dataframe thead th {\n",
       "        text-align: right;\n",
       "    }\n",
       "</style>\n",
       "<table border=\"1\" class=\"dataframe\">\n",
       "  <thead>\n",
       "    <tr style=\"text-align: right;\">\n",
       "      <th></th>\n",
       "      <th>price</th>\n",
       "      <th>carat</th>\n",
       "      <th>x</th>\n",
       "      <th>y</th>\n",
       "      <th>z</th>\n",
       "      <th>color_D</th>\n",
       "      <th>color_E</th>\n",
       "      <th>color_F</th>\n",
       "      <th>color_G</th>\n",
       "      <th>color_H</th>\n",
       "      <th>color_I</th>\n",
       "      <th>color_J</th>\n",
       "      <th>cut_Fair</th>\n",
       "      <th>cut_Good</th>\n",
       "      <th>cut_Ideal</th>\n",
       "      <th>cut_Premium</th>\n",
       "      <th>cut_Very Good</th>\n",
       "    </tr>\n",
       "  </thead>\n",
       "  <tbody>\n",
       "    <tr>\n",
       "      <th>0</th>\n",
       "      <td>326</td>\n",
       "      <td>0.23</td>\n",
       "      <td>3.95</td>\n",
       "      <td>3.98</td>\n",
       "      <td>2.43</td>\n",
       "      <td>0</td>\n",
       "      <td>1</td>\n",
       "      <td>0</td>\n",
       "      <td>0</td>\n",
       "      <td>0</td>\n",
       "      <td>0</td>\n",
       "      <td>0</td>\n",
       "      <td>0</td>\n",
       "      <td>0</td>\n",
       "      <td>1</td>\n",
       "      <td>0</td>\n",
       "      <td>0</td>\n",
       "    </tr>\n",
       "    <tr>\n",
       "      <th>1</th>\n",
       "      <td>326</td>\n",
       "      <td>0.21</td>\n",
       "      <td>3.89</td>\n",
       "      <td>3.84</td>\n",
       "      <td>2.31</td>\n",
       "      <td>0</td>\n",
       "      <td>1</td>\n",
       "      <td>0</td>\n",
       "      <td>0</td>\n",
       "      <td>0</td>\n",
       "      <td>0</td>\n",
       "      <td>0</td>\n",
       "      <td>0</td>\n",
       "      <td>0</td>\n",
       "      <td>0</td>\n",
       "      <td>1</td>\n",
       "      <td>0</td>\n",
       "    </tr>\n",
       "    <tr>\n",
       "      <th>2</th>\n",
       "      <td>327</td>\n",
       "      <td>0.23</td>\n",
       "      <td>4.05</td>\n",
       "      <td>4.07</td>\n",
       "      <td>2.31</td>\n",
       "      <td>0</td>\n",
       "      <td>1</td>\n",
       "      <td>0</td>\n",
       "      <td>0</td>\n",
       "      <td>0</td>\n",
       "      <td>0</td>\n",
       "      <td>0</td>\n",
       "      <td>0</td>\n",
       "      <td>1</td>\n",
       "      <td>0</td>\n",
       "      <td>0</td>\n",
       "      <td>0</td>\n",
       "    </tr>\n",
       "    <tr>\n",
       "      <th>3</th>\n",
       "      <td>334</td>\n",
       "      <td>0.29</td>\n",
       "      <td>4.20</td>\n",
       "      <td>4.23</td>\n",
       "      <td>2.63</td>\n",
       "      <td>0</td>\n",
       "      <td>0</td>\n",
       "      <td>0</td>\n",
       "      <td>0</td>\n",
       "      <td>0</td>\n",
       "      <td>1</td>\n",
       "      <td>0</td>\n",
       "      <td>0</td>\n",
       "      <td>0</td>\n",
       "      <td>0</td>\n",
       "      <td>1</td>\n",
       "      <td>0</td>\n",
       "    </tr>\n",
       "    <tr>\n",
       "      <th>4</th>\n",
       "      <td>335</td>\n",
       "      <td>0.31</td>\n",
       "      <td>4.34</td>\n",
       "      <td>4.35</td>\n",
       "      <td>2.75</td>\n",
       "      <td>0</td>\n",
       "      <td>0</td>\n",
       "      <td>0</td>\n",
       "      <td>0</td>\n",
       "      <td>0</td>\n",
       "      <td>0</td>\n",
       "      <td>1</td>\n",
       "      <td>0</td>\n",
       "      <td>1</td>\n",
       "      <td>0</td>\n",
       "      <td>0</td>\n",
       "      <td>0</td>\n",
       "    </tr>\n",
       "    <tr>\n",
       "      <th>...</th>\n",
       "      <td>...</td>\n",
       "      <td>...</td>\n",
       "      <td>...</td>\n",
       "      <td>...</td>\n",
       "      <td>...</td>\n",
       "      <td>...</td>\n",
       "      <td>...</td>\n",
       "      <td>...</td>\n",
       "      <td>...</td>\n",
       "      <td>...</td>\n",
       "      <td>...</td>\n",
       "      <td>...</td>\n",
       "      <td>...</td>\n",
       "      <td>...</td>\n",
       "      <td>...</td>\n",
       "      <td>...</td>\n",
       "      <td>...</td>\n",
       "    </tr>\n",
       "    <tr>\n",
       "      <th>53935</th>\n",
       "      <td>2757</td>\n",
       "      <td>0.72</td>\n",
       "      <td>5.75</td>\n",
       "      <td>5.76</td>\n",
       "      <td>3.50</td>\n",
       "      <td>1</td>\n",
       "      <td>0</td>\n",
       "      <td>0</td>\n",
       "      <td>0</td>\n",
       "      <td>0</td>\n",
       "      <td>0</td>\n",
       "      <td>0</td>\n",
       "      <td>0</td>\n",
       "      <td>0</td>\n",
       "      <td>1</td>\n",
       "      <td>0</td>\n",
       "      <td>0</td>\n",
       "    </tr>\n",
       "    <tr>\n",
       "      <th>53936</th>\n",
       "      <td>2757</td>\n",
       "      <td>0.72</td>\n",
       "      <td>5.69</td>\n",
       "      <td>5.75</td>\n",
       "      <td>3.61</td>\n",
       "      <td>1</td>\n",
       "      <td>0</td>\n",
       "      <td>0</td>\n",
       "      <td>0</td>\n",
       "      <td>0</td>\n",
       "      <td>0</td>\n",
       "      <td>0</td>\n",
       "      <td>0</td>\n",
       "      <td>1</td>\n",
       "      <td>0</td>\n",
       "      <td>0</td>\n",
       "      <td>0</td>\n",
       "    </tr>\n",
       "    <tr>\n",
       "      <th>53937</th>\n",
       "      <td>2757</td>\n",
       "      <td>0.70</td>\n",
       "      <td>5.66</td>\n",
       "      <td>5.68</td>\n",
       "      <td>3.56</td>\n",
       "      <td>1</td>\n",
       "      <td>0</td>\n",
       "      <td>0</td>\n",
       "      <td>0</td>\n",
       "      <td>0</td>\n",
       "      <td>0</td>\n",
       "      <td>0</td>\n",
       "      <td>0</td>\n",
       "      <td>0</td>\n",
       "      <td>0</td>\n",
       "      <td>0</td>\n",
       "      <td>1</td>\n",
       "    </tr>\n",
       "    <tr>\n",
       "      <th>53938</th>\n",
       "      <td>2757</td>\n",
       "      <td>0.86</td>\n",
       "      <td>6.15</td>\n",
       "      <td>6.12</td>\n",
       "      <td>3.74</td>\n",
       "      <td>0</td>\n",
       "      <td>0</td>\n",
       "      <td>0</td>\n",
       "      <td>0</td>\n",
       "      <td>1</td>\n",
       "      <td>0</td>\n",
       "      <td>0</td>\n",
       "      <td>0</td>\n",
       "      <td>0</td>\n",
       "      <td>0</td>\n",
       "      <td>1</td>\n",
       "      <td>0</td>\n",
       "    </tr>\n",
       "    <tr>\n",
       "      <th>53939</th>\n",
       "      <td>2757</td>\n",
       "      <td>0.75</td>\n",
       "      <td>5.83</td>\n",
       "      <td>5.87</td>\n",
       "      <td>3.64</td>\n",
       "      <td>1</td>\n",
       "      <td>0</td>\n",
       "      <td>0</td>\n",
       "      <td>0</td>\n",
       "      <td>0</td>\n",
       "      <td>0</td>\n",
       "      <td>0</td>\n",
       "      <td>0</td>\n",
       "      <td>0</td>\n",
       "      <td>1</td>\n",
       "      <td>0</td>\n",
       "      <td>0</td>\n",
       "    </tr>\n",
       "  </tbody>\n",
       "</table>\n",
       "<p>53940 rows × 17 columns</p>\n",
       "</div>"
      ],
      "text/plain": [
       "       price  carat     x     y     z  color_D  color_E  color_F  color_G  \\\n",
       "0        326   0.23  3.95  3.98  2.43        0        1        0        0   \n",
       "1        326   0.21  3.89  3.84  2.31        0        1        0        0   \n",
       "2        327   0.23  4.05  4.07  2.31        0        1        0        0   \n",
       "3        334   0.29  4.20  4.23  2.63        0        0        0        0   \n",
       "4        335   0.31  4.34  4.35  2.75        0        0        0        0   \n",
       "...      ...    ...   ...   ...   ...      ...      ...      ...      ...   \n",
       "53935   2757   0.72  5.75  5.76  3.50        1        0        0        0   \n",
       "53936   2757   0.72  5.69  5.75  3.61        1        0        0        0   \n",
       "53937   2757   0.70  5.66  5.68  3.56        1        0        0        0   \n",
       "53938   2757   0.86  6.15  6.12  3.74        0        0        0        0   \n",
       "53939   2757   0.75  5.83  5.87  3.64        1        0        0        0   \n",
       "\n",
       "       color_H  color_I  color_J  cut_Fair  cut_Good  cut_Ideal  cut_Premium  \\\n",
       "0            0        0        0         0         0          1            0   \n",
       "1            0        0        0         0         0          0            1   \n",
       "2            0        0        0         0         1          0            0   \n",
       "3            0        1        0         0         0          0            1   \n",
       "4            0        0        1         0         1          0            0   \n",
       "...        ...      ...      ...       ...       ...        ...          ...   \n",
       "53935        0        0        0         0         0          1            0   \n",
       "53936        0        0        0         0         1          0            0   \n",
       "53937        0        0        0         0         0          0            0   \n",
       "53938        1        0        0         0         0          0            1   \n",
       "53939        0        0        0         0         0          1            0   \n",
       "\n",
       "       cut_Very Good  \n",
       "0                  0  \n",
       "1                  0  \n",
       "2                  0  \n",
       "3                  0  \n",
       "4                  0  \n",
       "...              ...  \n",
       "53935              0  \n",
       "53936              0  \n",
       "53937              1  \n",
       "53938              0  \n",
       "53939              0  \n",
       "\n",
       "[53940 rows x 17 columns]"
      ]
     },
     "execution_count": 61,
     "metadata": {},
     "output_type": "execute_result"
    }
   ],
   "source": [
    "df_all = pd.get_dummies(df.loc[:,['price','carat','color','cut','x','y','z' ]])\n",
    "df_all"
   ]
  },
  {
   "cell_type": "code",
   "execution_count": 62,
   "id": "e92beb39",
   "metadata": {},
   "outputs": [
    {
     "data": {
      "text/html": [
       "<div>\n",
       "<style scoped>\n",
       "    .dataframe tbody tr th:only-of-type {\n",
       "        vertical-align: middle;\n",
       "    }\n",
       "\n",
       "    .dataframe tbody tr th {\n",
       "        vertical-align: top;\n",
       "    }\n",
       "\n",
       "    .dataframe thead th {\n",
       "        text-align: right;\n",
       "    }\n",
       "</style>\n",
       "<table border=\"1\" class=\"dataframe\">\n",
       "  <thead>\n",
       "    <tr style=\"text-align: right;\">\n",
       "      <th></th>\n",
       "      <th>price</th>\n",
       "      <th>carat</th>\n",
       "      <th>x</th>\n",
       "      <th>y</th>\n",
       "      <th>z</th>\n",
       "      <th>color_D</th>\n",
       "      <th>color_E</th>\n",
       "      <th>color_F</th>\n",
       "      <th>color_G</th>\n",
       "      <th>color_H</th>\n",
       "      <th>color_I</th>\n",
       "      <th>color_J</th>\n",
       "      <th>cut_Fair</th>\n",
       "      <th>cut_Good</th>\n",
       "      <th>cut_Ideal</th>\n",
       "      <th>cut_Premium</th>\n",
       "      <th>cut_VeryGood</th>\n",
       "    </tr>\n",
       "  </thead>\n",
       "  <tbody>\n",
       "    <tr>\n",
       "      <th>0</th>\n",
       "      <td>326</td>\n",
       "      <td>0.23</td>\n",
       "      <td>3.95</td>\n",
       "      <td>3.98</td>\n",
       "      <td>2.43</td>\n",
       "      <td>0</td>\n",
       "      <td>1</td>\n",
       "      <td>0</td>\n",
       "      <td>0</td>\n",
       "      <td>0</td>\n",
       "      <td>0</td>\n",
       "      <td>0</td>\n",
       "      <td>0</td>\n",
       "      <td>0</td>\n",
       "      <td>1</td>\n",
       "      <td>0</td>\n",
       "      <td>0</td>\n",
       "    </tr>\n",
       "    <tr>\n",
       "      <th>1</th>\n",
       "      <td>326</td>\n",
       "      <td>0.21</td>\n",
       "      <td>3.89</td>\n",
       "      <td>3.84</td>\n",
       "      <td>2.31</td>\n",
       "      <td>0</td>\n",
       "      <td>1</td>\n",
       "      <td>0</td>\n",
       "      <td>0</td>\n",
       "      <td>0</td>\n",
       "      <td>0</td>\n",
       "      <td>0</td>\n",
       "      <td>0</td>\n",
       "      <td>0</td>\n",
       "      <td>0</td>\n",
       "      <td>1</td>\n",
       "      <td>0</td>\n",
       "    </tr>\n",
       "    <tr>\n",
       "      <th>2</th>\n",
       "      <td>327</td>\n",
       "      <td>0.23</td>\n",
       "      <td>4.05</td>\n",
       "      <td>4.07</td>\n",
       "      <td>2.31</td>\n",
       "      <td>0</td>\n",
       "      <td>1</td>\n",
       "      <td>0</td>\n",
       "      <td>0</td>\n",
       "      <td>0</td>\n",
       "      <td>0</td>\n",
       "      <td>0</td>\n",
       "      <td>0</td>\n",
       "      <td>1</td>\n",
       "      <td>0</td>\n",
       "      <td>0</td>\n",
       "      <td>0</td>\n",
       "    </tr>\n",
       "    <tr>\n",
       "      <th>3</th>\n",
       "      <td>334</td>\n",
       "      <td>0.29</td>\n",
       "      <td>4.20</td>\n",
       "      <td>4.23</td>\n",
       "      <td>2.63</td>\n",
       "      <td>0</td>\n",
       "      <td>0</td>\n",
       "      <td>0</td>\n",
       "      <td>0</td>\n",
       "      <td>0</td>\n",
       "      <td>1</td>\n",
       "      <td>0</td>\n",
       "      <td>0</td>\n",
       "      <td>0</td>\n",
       "      <td>0</td>\n",
       "      <td>1</td>\n",
       "      <td>0</td>\n",
       "    </tr>\n",
       "    <tr>\n",
       "      <th>4</th>\n",
       "      <td>335</td>\n",
       "      <td>0.31</td>\n",
       "      <td>4.34</td>\n",
       "      <td>4.35</td>\n",
       "      <td>2.75</td>\n",
       "      <td>0</td>\n",
       "      <td>0</td>\n",
       "      <td>0</td>\n",
       "      <td>0</td>\n",
       "      <td>0</td>\n",
       "      <td>0</td>\n",
       "      <td>1</td>\n",
       "      <td>0</td>\n",
       "      <td>1</td>\n",
       "      <td>0</td>\n",
       "      <td>0</td>\n",
       "      <td>0</td>\n",
       "    </tr>\n",
       "    <tr>\n",
       "      <th>...</th>\n",
       "      <td>...</td>\n",
       "      <td>...</td>\n",
       "      <td>...</td>\n",
       "      <td>...</td>\n",
       "      <td>...</td>\n",
       "      <td>...</td>\n",
       "      <td>...</td>\n",
       "      <td>...</td>\n",
       "      <td>...</td>\n",
       "      <td>...</td>\n",
       "      <td>...</td>\n",
       "      <td>...</td>\n",
       "      <td>...</td>\n",
       "      <td>...</td>\n",
       "      <td>...</td>\n",
       "      <td>...</td>\n",
       "      <td>...</td>\n",
       "    </tr>\n",
       "    <tr>\n",
       "      <th>53935</th>\n",
       "      <td>2757</td>\n",
       "      <td>0.72</td>\n",
       "      <td>5.75</td>\n",
       "      <td>5.76</td>\n",
       "      <td>3.50</td>\n",
       "      <td>1</td>\n",
       "      <td>0</td>\n",
       "      <td>0</td>\n",
       "      <td>0</td>\n",
       "      <td>0</td>\n",
       "      <td>0</td>\n",
       "      <td>0</td>\n",
       "      <td>0</td>\n",
       "      <td>0</td>\n",
       "      <td>1</td>\n",
       "      <td>0</td>\n",
       "      <td>0</td>\n",
       "    </tr>\n",
       "    <tr>\n",
       "      <th>53936</th>\n",
       "      <td>2757</td>\n",
       "      <td>0.72</td>\n",
       "      <td>5.69</td>\n",
       "      <td>5.75</td>\n",
       "      <td>3.61</td>\n",
       "      <td>1</td>\n",
       "      <td>0</td>\n",
       "      <td>0</td>\n",
       "      <td>0</td>\n",
       "      <td>0</td>\n",
       "      <td>0</td>\n",
       "      <td>0</td>\n",
       "      <td>0</td>\n",
       "      <td>1</td>\n",
       "      <td>0</td>\n",
       "      <td>0</td>\n",
       "      <td>0</td>\n",
       "    </tr>\n",
       "    <tr>\n",
       "      <th>53937</th>\n",
       "      <td>2757</td>\n",
       "      <td>0.70</td>\n",
       "      <td>5.66</td>\n",
       "      <td>5.68</td>\n",
       "      <td>3.56</td>\n",
       "      <td>1</td>\n",
       "      <td>0</td>\n",
       "      <td>0</td>\n",
       "      <td>0</td>\n",
       "      <td>0</td>\n",
       "      <td>0</td>\n",
       "      <td>0</td>\n",
       "      <td>0</td>\n",
       "      <td>0</td>\n",
       "      <td>0</td>\n",
       "      <td>0</td>\n",
       "      <td>1</td>\n",
       "    </tr>\n",
       "    <tr>\n",
       "      <th>53938</th>\n",
       "      <td>2757</td>\n",
       "      <td>0.86</td>\n",
       "      <td>6.15</td>\n",
       "      <td>6.12</td>\n",
       "      <td>3.74</td>\n",
       "      <td>0</td>\n",
       "      <td>0</td>\n",
       "      <td>0</td>\n",
       "      <td>0</td>\n",
       "      <td>1</td>\n",
       "      <td>0</td>\n",
       "      <td>0</td>\n",
       "      <td>0</td>\n",
       "      <td>0</td>\n",
       "      <td>0</td>\n",
       "      <td>1</td>\n",
       "      <td>0</td>\n",
       "    </tr>\n",
       "    <tr>\n",
       "      <th>53939</th>\n",
       "      <td>2757</td>\n",
       "      <td>0.75</td>\n",
       "      <td>5.83</td>\n",
       "      <td>5.87</td>\n",
       "      <td>3.64</td>\n",
       "      <td>1</td>\n",
       "      <td>0</td>\n",
       "      <td>0</td>\n",
       "      <td>0</td>\n",
       "      <td>0</td>\n",
       "      <td>0</td>\n",
       "      <td>0</td>\n",
       "      <td>0</td>\n",
       "      <td>0</td>\n",
       "      <td>1</td>\n",
       "      <td>0</td>\n",
       "      <td>0</td>\n",
       "    </tr>\n",
       "  </tbody>\n",
       "</table>\n",
       "<p>53940 rows × 17 columns</p>\n",
       "</div>"
      ],
      "text/plain": [
       "       price  carat     x     y     z  color_D  color_E  color_F  color_G  \\\n",
       "0        326   0.23  3.95  3.98  2.43        0        1        0        0   \n",
       "1        326   0.21  3.89  3.84  2.31        0        1        0        0   \n",
       "2        327   0.23  4.05  4.07  2.31        0        1        0        0   \n",
       "3        334   0.29  4.20  4.23  2.63        0        0        0        0   \n",
       "4        335   0.31  4.34  4.35  2.75        0        0        0        0   \n",
       "...      ...    ...   ...   ...   ...      ...      ...      ...      ...   \n",
       "53935   2757   0.72  5.75  5.76  3.50        1        0        0        0   \n",
       "53936   2757   0.72  5.69  5.75  3.61        1        0        0        0   \n",
       "53937   2757   0.70  5.66  5.68  3.56        1        0        0        0   \n",
       "53938   2757   0.86  6.15  6.12  3.74        0        0        0        0   \n",
       "53939   2757   0.75  5.83  5.87  3.64        1        0        0        0   \n",
       "\n",
       "       color_H  color_I  color_J  cut_Fair  cut_Good  cut_Ideal  cut_Premium  \\\n",
       "0            0        0        0         0         0          1            0   \n",
       "1            0        0        0         0         0          0            1   \n",
       "2            0        0        0         0         1          0            0   \n",
       "3            0        1        0         0         0          0            1   \n",
       "4            0        0        1         0         1          0            0   \n",
       "...        ...      ...      ...       ...       ...        ...          ...   \n",
       "53935        0        0        0         0         0          1            0   \n",
       "53936        0        0        0         0         1          0            0   \n",
       "53937        0        0        0         0         0          0            0   \n",
       "53938        1        0        0         0         0          0            1   \n",
       "53939        0        0        0         0         0          1            0   \n",
       "\n",
       "       cut_VeryGood  \n",
       "0                 0  \n",
       "1                 0  \n",
       "2                 0  \n",
       "3                 0  \n",
       "4                 0  \n",
       "...             ...  \n",
       "53935             0  \n",
       "53936             0  \n",
       "53937             1  \n",
       "53938             0  \n",
       "53939             0  \n",
       "\n",
       "[53940 rows x 17 columns]"
      ]
     },
     "execution_count": 62,
     "metadata": {},
     "output_type": "execute_result"
    }
   ],
   "source": [
    "df_all = df_all.rename(columns={'cut_Very Good': 'cut_VeryGood'})\n",
    "df_all"
   ]
  },
  {
   "cell_type": "code",
   "execution_count": 63,
   "id": "364bc961",
   "metadata": {},
   "outputs": [
    {
     "data": {
      "text/plain": [
       "Intercept        3.991634\n",
       "carat            2.535459\n",
       "I(carat ** 2)   -0.645788\n",
       "color_E         -0.030235\n",
       "color_F         -0.039489\n",
       "color_G         -0.071381\n",
       "color_H         -0.210150\n",
       "color_I         -0.307512\n",
       "color_J         -0.432402\n",
       "cut_Good         0.118383\n",
       "cut_VeryGood     0.177357\n",
       "cut_Premium      0.161182\n",
       "cut_Ideal        0.250758\n",
       "x                0.338985\n",
       "y                0.014541\n",
       "z                0.063132\n",
       "dtype: float64"
      ]
     },
     "execution_count": 63,
     "metadata": {},
     "output_type": "execute_result"
    }
   ],
   "source": [
    "model_d = smf.ols(formula='np.log(price)~carat+I(carat**2)+color_E+color_F+color_G+color_H+color_I+color_J+cut_Good+cut_VeryGood+cut_Premium+cut_Ideal+x+y+z',data=df_all).fit()\n",
    "model_d.params"
   ]
  },
  {
   "cell_type": "code",
   "execution_count": 64,
   "id": "0d470f2b",
   "metadata": {},
   "outputs": [
    {
     "data": {
      "text/plain": [
       "<class 'statsmodels.stats.contrast.ContrastResults'>\n",
       "<F test: F=2282.3701477852487, p=0.0, df_denom=5.39e+04, df_num=6>"
      ]
     },
     "execution_count": 64,
     "metadata": {},
     "output_type": "execute_result"
    }
   ],
   "source": [
    "model_d.f_test('color_E=color_F=color_G=color_H=color_I=color_J=0')"
   ]
  },
  {
   "cell_type": "code",
   "execution_count": 65,
   "id": "3c93c26c",
   "metadata": {},
   "outputs": [
    {
     "data": {
      "text/plain": [
       "2.1"
      ]
     },
     "execution_count": 65,
     "metadata": {},
     "output_type": "execute_result"
    }
   ],
   "source": [
    "stats.f.ppf(1-0.05,6,len(df_all)-6).round(2)"
   ]
  },
  {
   "cell_type": "code",
   "execution_count": 66,
   "id": "5c9f98c4",
   "metadata": {},
   "outputs": [
    {
     "data": {
      "text/plain": [
       "<class 'statsmodels.stats.contrast.ContrastResults'>\n",
       "<F test: F=797.0664644236602, p=0.0, df_denom=5.39e+04, df_num=4>"
      ]
     },
     "execution_count": 66,
     "metadata": {},
     "output_type": "execute_result"
    }
   ],
   "source": [
    "model_d.f_test('cut_Good=cut_VeryGood=cut_Premium=cut_Ideal=0')"
   ]
  },
  {
   "cell_type": "code",
   "execution_count": 67,
   "id": "b642828b",
   "metadata": {},
   "outputs": [
    {
     "data": {
      "text/plain": [
       "2.37"
      ]
     },
     "execution_count": 67,
     "metadata": {},
     "output_type": "execute_result"
    }
   ],
   "source": [
    "alpha=0.05\n",
    "stats.f.ppf(1-alpha,4,len(df_all)-16).round(2)"
   ]
  },
  {
   "cell_type": "markdown",
   "id": "f93a0d32",
   "metadata": {},
   "source": [
    "$F_{cr}<F_{obs}$ Нулевую гипотезу отвергаем"
   ]
  },
  {
   "cell_type": "code",
   "execution_count": null,
   "id": "47069605",
   "metadata": {},
   "outputs": [],
   "source": []
  }
 ],
 "metadata": {
  "kernelspec": {
   "display_name": "Python 3 (ipykernel)",
   "language": "python",
   "name": "python3"
  },
  "language_info": {
   "codemirror_mode": {
    "name": "ipython",
    "version": 3
   },
   "file_extension": ".py",
   "mimetype": "text/x-python",
   "name": "python",
   "nbconvert_exporter": "python",
   "pygments_lexer": "ipython3",
   "version": "3.9.13"
  }
 },
 "nbformat": 4,
 "nbformat_minor": 5
}
