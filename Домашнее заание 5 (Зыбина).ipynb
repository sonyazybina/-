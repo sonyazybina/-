{
 "cells": [
  {
   "cell_type": "code",
   "execution_count": 11,
   "id": "801d7513",
   "metadata": {},
   "outputs": [],
   "source": [
    "import pandas as pd\n",
    "import numpy as np\n",
    "import io\n",
    "import statsmodels.formula.api as smf\n",
    "import scipy.stats as stats\n",
    "import re"
   ]
  },
  {
   "cell_type": "markdown",
   "id": "e54595ac",
   "metadata": {},
   "source": [
    "# 1 F-тест: значимость регрессии"
   ]
  },
  {
   "cell_type": "markdown",
   "id": "ec5693bd",
   "metadata": {},
   "source": [
    "# Задача 1.1 sleep equation #1"
   ]
  },
  {
   "cell_type": "code",
   "execution_count": 40,
   "id": "7dd0daa4",
   "metadata": {},
   "outputs": [],
   "source": [
    "datа_string = '''\n",
    "Observations     706         706         706         706    \n",
    "R2              0.132       0.131       0.128       0.007   \n",
    "AdjustedR2     0.121       0.123       0.121       0.002 ''' "
   ]
  },
  {
   "cell_type": "code",
   "execution_count": 41,
   "id": "8474d130",
   "metadata": {},
   "outputs": [
    {
     "data": {
      "text/html": [
       "<div>\n",
       "<style scoped>\n",
       "    .dataframe tbody tr th:only-of-type {\n",
       "        vertical-align: middle;\n",
       "    }\n",
       "\n",
       "    .dataframe tbody tr th {\n",
       "        vertical-align: top;\n",
       "    }\n",
       "\n",
       "    .dataframe thead th {\n",
       "        text-align: right;\n",
       "    }\n",
       "</style>\n",
       "<table border=\"1\" class=\"dataframe\">\n",
       "  <thead>\n",
       "    <tr style=\"text-align: right;\">\n",
       "      <th></th>\n",
       "      <th>1</th>\n",
       "      <th>2</th>\n",
       "      <th>3</th>\n",
       "      <th>4</th>\n",
       "    </tr>\n",
       "    <tr>\n",
       "      <th>0</th>\n",
       "      <th></th>\n",
       "      <th></th>\n",
       "      <th></th>\n",
       "      <th></th>\n",
       "    </tr>\n",
       "  </thead>\n",
       "  <tbody>\n",
       "    <tr>\n",
       "      <th>Observations</th>\n",
       "      <td>706.000</td>\n",
       "      <td>706.000</td>\n",
       "      <td>706.000</td>\n",
       "      <td>706.000</td>\n",
       "    </tr>\n",
       "    <tr>\n",
       "      <th>R2</th>\n",
       "      <td>0.132</td>\n",
       "      <td>0.131</td>\n",
       "      <td>0.128</td>\n",
       "      <td>0.007</td>\n",
       "    </tr>\n",
       "    <tr>\n",
       "      <th>AdjustedR2</th>\n",
       "      <td>0.121</td>\n",
       "      <td>0.123</td>\n",
       "      <td>0.121</td>\n",
       "      <td>0.002</td>\n",
       "    </tr>\n",
       "  </tbody>\n",
       "</table>\n",
       "</div>"
      ],
      "text/plain": [
       "                    1        2        3        4\n",
       "0                                               \n",
       "Observations  706.000  706.000  706.000  706.000\n",
       "R2              0.132    0.131    0.128    0.007\n",
       "AdjustedR2      0.121    0.123    0.121    0.002"
      ]
     },
     "execution_count": 41,
     "metadata": {},
     "output_type": "execute_result"
    }
   ],
   "source": [
    "df = pd.read_csv(io.StringIO(datа_string), sep = '\\s+', header=None, index_col=0)\n",
    "df"
   ]
  },
  {
   "cell_type": "code",
   "execution_count": 42,
   "id": "83a37ebc",
   "metadata": {},
   "outputs": [
    {
     "data": {
      "text/html": [
       "<div>\n",
       "<style scoped>\n",
       "    .dataframe tbody tr th:only-of-type {\n",
       "        vertical-align: middle;\n",
       "    }\n",
       "\n",
       "    .dataframe tbody tr th {\n",
       "        vertical-align: top;\n",
       "    }\n",
       "\n",
       "    .dataframe thead th {\n",
       "        text-align: right;\n",
       "    }\n",
       "</style>\n",
       "<table border=\"1\" class=\"dataframe\">\n",
       "  <thead>\n",
       "    <tr style=\"text-align: right;\">\n",
       "      <th></th>\n",
       "      <th>Observations</th>\n",
       "      <th>R2</th>\n",
       "      <th>AdjustedR2</th>\n",
       "    </tr>\n",
       "  </thead>\n",
       "  <tbody>\n",
       "    <tr>\n",
       "      <th>1</th>\n",
       "      <td>706.0</td>\n",
       "      <td>0.132</td>\n",
       "      <td>0.121</td>\n",
       "    </tr>\n",
       "    <tr>\n",
       "      <th>2</th>\n",
       "      <td>706.0</td>\n",
       "      <td>0.131</td>\n",
       "      <td>0.123</td>\n",
       "    </tr>\n",
       "    <tr>\n",
       "      <th>3</th>\n",
       "      <td>706.0</td>\n",
       "      <td>0.128</td>\n",
       "      <td>0.121</td>\n",
       "    </tr>\n",
       "    <tr>\n",
       "      <th>4</th>\n",
       "      <td>706.0</td>\n",
       "      <td>0.007</td>\n",
       "      <td>0.002</td>\n",
       "    </tr>\n",
       "  </tbody>\n",
       "</table>\n",
       "</div>"
      ],
      "text/plain": [
       "0  Observations     R2  AdjustedR2\n",
       "1         706.0  0.132       0.121\n",
       "2         706.0  0.131       0.123\n",
       "3         706.0  0.128       0.121\n",
       "4         706.0  0.007       0.002"
      ]
     },
     "execution_count": 42,
     "metadata": {},
     "output_type": "execute_result"
    }
   ],
   "source": [
    "df = df.transpose()\n",
    "df"
   ]
  },
  {
   "cell_type": "code",
   "execution_count": 43,
   "id": "6d453eb3",
   "metadata": {},
   "outputs": [
    {
     "data": {
      "text/html": [
       "<div>\n",
       "<style scoped>\n",
       "    .dataframe tbody tr th:only-of-type {\n",
       "        vertical-align: middle;\n",
       "    }\n",
       "\n",
       "    .dataframe tbody tr th {\n",
       "        vertical-align: top;\n",
       "    }\n",
       "\n",
       "    .dataframe thead th {\n",
       "        text-align: right;\n",
       "    }\n",
       "</style>\n",
       "<table border=\"1\" class=\"dataframe\">\n",
       "  <thead>\n",
       "    <tr style=\"text-align: right;\">\n",
       "      <th></th>\n",
       "      <th>Observations</th>\n",
       "      <th>R2</th>\n",
       "      <th>AdjustedR2</th>\n",
       "      <th>m</th>\n",
       "    </tr>\n",
       "  </thead>\n",
       "  <tbody>\n",
       "    <tr>\n",
       "      <th>1</th>\n",
       "      <td>706.0</td>\n",
       "      <td>0.132</td>\n",
       "      <td>0.121</td>\n",
       "      <td>10</td>\n",
       "    </tr>\n",
       "    <tr>\n",
       "      <th>2</th>\n",
       "      <td>706.0</td>\n",
       "      <td>0.131</td>\n",
       "      <td>0.123</td>\n",
       "      <td>8</td>\n",
       "    </tr>\n",
       "    <tr>\n",
       "      <th>3</th>\n",
       "      <td>706.0</td>\n",
       "      <td>0.128</td>\n",
       "      <td>0.121</td>\n",
       "      <td>6</td>\n",
       "    </tr>\n",
       "    <tr>\n",
       "      <th>4</th>\n",
       "      <td>706.0</td>\n",
       "      <td>0.007</td>\n",
       "      <td>0.002</td>\n",
       "      <td>5</td>\n",
       "    </tr>\n",
       "  </tbody>\n",
       "</table>\n",
       "</div>"
      ],
      "text/plain": [
       "0  Observations     R2  AdjustedR2   m\n",
       "1         706.0  0.132       0.121  10\n",
       "2         706.0  0.131       0.123   8\n",
       "3         706.0  0.128       0.121   6\n",
       "4         706.0  0.007       0.002   5"
      ]
     },
     "execution_count": 43,
     "metadata": {},
     "output_type": "execute_result"
    }
   ],
   "source": [
    "df['m'] = [10,8,6,5]\n",
    "df"
   ]
  },
  {
   "cell_type": "code",
   "execution_count": 44,
   "id": "e71804d1",
   "metadata": {},
   "outputs": [
    {
     "data": {
      "text/html": [
       "<div>\n",
       "<style scoped>\n",
       "    .dataframe tbody tr th:only-of-type {\n",
       "        vertical-align: middle;\n",
       "    }\n",
       "\n",
       "    .dataframe tbody tr th {\n",
       "        vertical-align: top;\n",
       "    }\n",
       "\n",
       "    .dataframe thead th {\n",
       "        text-align: right;\n",
       "    }\n",
       "</style>\n",
       "<table border=\"1\" class=\"dataframe\">\n",
       "  <thead>\n",
       "    <tr style=\"text-align: right;\">\n",
       "      <th></th>\n",
       "      <th>Observations</th>\n",
       "      <th>R2</th>\n",
       "      <th>AdjustedR2</th>\n",
       "      <th>m</th>\n",
       "      <th>F_nab</th>\n",
       "    </tr>\n",
       "  </thead>\n",
       "  <tbody>\n",
       "    <tr>\n",
       "      <th>1</th>\n",
       "      <td>706.0</td>\n",
       "      <td>0.132</td>\n",
       "      <td>0.121</td>\n",
       "      <td>10</td>\n",
       "      <td>11.760369</td>\n",
       "    </tr>\n",
       "    <tr>\n",
       "      <th>2</th>\n",
       "      <td>706.0</td>\n",
       "      <td>0.131</td>\n",
       "      <td>0.123</td>\n",
       "      <td>8</td>\n",
       "      <td>15.031728</td>\n",
       "    </tr>\n",
       "    <tr>\n",
       "      <th>3</th>\n",
       "      <td>706.0</td>\n",
       "      <td>0.128</td>\n",
       "      <td>0.121</td>\n",
       "      <td>6</td>\n",
       "      <td>20.550459</td>\n",
       "    </tr>\n",
       "    <tr>\n",
       "      <th>4</th>\n",
       "      <td>706.0</td>\n",
       "      <td>0.007</td>\n",
       "      <td>0.002</td>\n",
       "      <td>5</td>\n",
       "      <td>1.235398</td>\n",
       "    </tr>\n",
       "  </tbody>\n",
       "</table>\n",
       "</div>"
      ],
      "text/plain": [
       "0  Observations     R2  AdjustedR2   m      F_nab\n",
       "1         706.0  0.132       0.121  10  11.760369\n",
       "2         706.0  0.131       0.123   8  15.031728\n",
       "3         706.0  0.128       0.121   6  20.550459\n",
       "4         706.0  0.007       0.002   5   1.235398"
      ]
     },
     "execution_count": 44,
     "metadata": {},
     "output_type": "execute_result"
    }
   ],
   "source": [
    "df['F_nab'] = (df['R2']/(1-df['R2']))*((df['Observations']-df['m'])/(df['m']-1))\n",
    "df"
   ]
  },
  {
   "cell_type": "code",
   "execution_count": 45,
   "id": "28ec0454",
   "metadata": {},
   "outputs": [
    {
     "data": {
      "text/html": [
       "<div>\n",
       "<style scoped>\n",
       "    .dataframe tbody tr th:only-of-type {\n",
       "        vertical-align: middle;\n",
       "    }\n",
       "\n",
       "    .dataframe tbody tr th {\n",
       "        vertical-align: top;\n",
       "    }\n",
       "\n",
       "    .dataframe thead th {\n",
       "        text-align: right;\n",
       "    }\n",
       "</style>\n",
       "<table border=\"1\" class=\"dataframe\">\n",
       "  <thead>\n",
       "    <tr style=\"text-align: right;\">\n",
       "      <th></th>\n",
       "      <th>Observations</th>\n",
       "      <th>R2</th>\n",
       "      <th>AdjustedR2</th>\n",
       "      <th>m</th>\n",
       "      <th>F_nab</th>\n",
       "      <th>F_cr</th>\n",
       "    </tr>\n",
       "  </thead>\n",
       "  <tbody>\n",
       "    <tr>\n",
       "      <th>1</th>\n",
       "      <td>706.0</td>\n",
       "      <td>0.132</td>\n",
       "      <td>0.121</td>\n",
       "      <td>10</td>\n",
       "      <td>11.760369</td>\n",
       "      <td>1.893317</td>\n",
       "    </tr>\n",
       "    <tr>\n",
       "      <th>2</th>\n",
       "      <td>706.0</td>\n",
       "      <td>0.131</td>\n",
       "      <td>0.123</td>\n",
       "      <td>8</td>\n",
       "      <td>15.031728</td>\n",
       "      <td>2.022681</td>\n",
       "    </tr>\n",
       "    <tr>\n",
       "      <th>3</th>\n",
       "      <td>706.0</td>\n",
       "      <td>0.128</td>\n",
       "      <td>0.121</td>\n",
       "      <td>6</td>\n",
       "      <td>20.550459</td>\n",
       "      <td>2.226901</td>\n",
       "    </tr>\n",
       "    <tr>\n",
       "      <th>4</th>\n",
       "      <td>706.0</td>\n",
       "      <td>0.007</td>\n",
       "      <td>0.002</td>\n",
       "      <td>5</td>\n",
       "      <td>1.235398</td>\n",
       "      <td>2.384638</td>\n",
       "    </tr>\n",
       "  </tbody>\n",
       "</table>\n",
       "</div>"
      ],
      "text/plain": [
       "0  Observations     R2  AdjustedR2   m      F_nab      F_cr\n",
       "1         706.0  0.132       0.121  10  11.760369  1.893317\n",
       "2         706.0  0.131       0.123   8  15.031728  2.022681\n",
       "3         706.0  0.128       0.121   6  20.550459  2.226901\n",
       "4         706.0  0.007       0.002   5   1.235398  2.384638"
      ]
     },
     "execution_count": 45,
     "metadata": {},
     "output_type": "execute_result"
    }
   ],
   "source": [
    "alpha = 0.05\n",
    "df['F_cr'] = stats.f.ppf(1-alpha,df['m']-1,df['Observations'] - df['m'])\n",
    "df"
   ]
  },
  {
   "cell_type": "code",
   "execution_count": 47,
   "id": "79702412",
   "metadata": {},
   "outputs": [
    {
     "data": {
      "text/html": [
       "<div>\n",
       "<style scoped>\n",
       "    .dataframe tbody tr th:only-of-type {\n",
       "        vertical-align: middle;\n",
       "    }\n",
       "\n",
       "    .dataframe tbody tr th {\n",
       "        vertical-align: top;\n",
       "    }\n",
       "\n",
       "    .dataframe thead th {\n",
       "        text-align: right;\n",
       "    }\n",
       "</style>\n",
       "<table border=\"1\" class=\"dataframe\">\n",
       "  <thead>\n",
       "    <tr style=\"text-align: right;\">\n",
       "      <th></th>\n",
       "      <th>Observations</th>\n",
       "      <th>R2</th>\n",
       "      <th>AdjustedR2</th>\n",
       "      <th>m</th>\n",
       "      <th>F_nab</th>\n",
       "      <th>F_cr</th>\n",
       "      <th>znachimost</th>\n",
       "    </tr>\n",
       "  </thead>\n",
       "  <tbody>\n",
       "    <tr>\n",
       "      <th>1</th>\n",
       "      <td>706.0</td>\n",
       "      <td>0.132</td>\n",
       "      <td>0.121</td>\n",
       "      <td>10</td>\n",
       "      <td>11.760369</td>\n",
       "      <td>1.893317</td>\n",
       "      <td>znachima</td>\n",
       "    </tr>\n",
       "    <tr>\n",
       "      <th>2</th>\n",
       "      <td>706.0</td>\n",
       "      <td>0.131</td>\n",
       "      <td>0.123</td>\n",
       "      <td>8</td>\n",
       "      <td>15.031728</td>\n",
       "      <td>2.022681</td>\n",
       "      <td>znachima</td>\n",
       "    </tr>\n",
       "    <tr>\n",
       "      <th>3</th>\n",
       "      <td>706.0</td>\n",
       "      <td>0.128</td>\n",
       "      <td>0.121</td>\n",
       "      <td>6</td>\n",
       "      <td>20.550459</td>\n",
       "      <td>2.226901</td>\n",
       "      <td>znachima</td>\n",
       "    </tr>\n",
       "    <tr>\n",
       "      <th>4</th>\n",
       "      <td>706.0</td>\n",
       "      <td>0.007</td>\n",
       "      <td>0.002</td>\n",
       "      <td>5</td>\n",
       "      <td>1.235398</td>\n",
       "      <td>2.384638</td>\n",
       "      <td>neznachimo</td>\n",
       "    </tr>\n",
       "  </tbody>\n",
       "</table>\n",
       "</div>"
      ],
      "text/plain": [
       "0  Observations     R2  AdjustedR2   m      F_nab      F_cr  znachimost\n",
       "1         706.0  0.132       0.121  10  11.760369  1.893317    znachima\n",
       "2         706.0  0.131       0.123   8  15.031728  2.022681    znachima\n",
       "3         706.0  0.128       0.121   6  20.550459  2.226901    znachima\n",
       "4         706.0  0.007       0.002   5   1.235398  2.384638  neznachimo"
      ]
     },
     "execution_count": 47,
     "metadata": {},
     "output_type": "execute_result"
    }
   ],
   "source": [
    "df['znachimost'] = df.apply(lambda x : 'znachima' if x['F_nab'] > x['F_cr'] else 'neznachimo', axis = 1)\n",
    "df"
   ]
  },
  {
   "cell_type": "markdown",
   "id": "eac36c5a",
   "metadata": {},
   "source": [
    "$$H_0: \\beta_{0} = \\beta_{1} = \\dots = 0$$\n",
    "$$H_1: \\beta_{0}^2 + \\beta_{1}^2  + \\dots + \\beta_k^2 > 0$$"
   ]
  },
  {
   "cell_type": "markdown",
   "id": "10fa02c5",
   "metadata": {},
   "source": [
    "# Задача 1.2 cost equation #1"
   ]
  },
  {
   "cell_type": "code",
   "execution_count": 27,
   "id": "76ff359f",
   "metadata": {},
   "outputs": [],
   "source": [
    "date_string = '''\n",
    "Observations   158       158       158       158      158  \n",
    "R2             0.982     0.965     0.982     0.053    0.026 \n",
    "Adjusted_R2    0.982     0.965     0.982     0.035    0.020''' "
   ]
  },
  {
   "cell_type": "code",
   "execution_count": 28,
   "id": "3ae7fe47",
   "metadata": {},
   "outputs": [
    {
     "data": {
      "text/html": [
       "<div>\n",
       "<style scoped>\n",
       "    .dataframe tbody tr th:only-of-type {\n",
       "        vertical-align: middle;\n",
       "    }\n",
       "\n",
       "    .dataframe tbody tr th {\n",
       "        vertical-align: top;\n",
       "    }\n",
       "\n",
       "    .dataframe thead th {\n",
       "        text-align: right;\n",
       "    }\n",
       "</style>\n",
       "<table border=\"1\" class=\"dataframe\">\n",
       "  <thead>\n",
       "    <tr style=\"text-align: right;\">\n",
       "      <th></th>\n",
       "      <th>1</th>\n",
       "      <th>2</th>\n",
       "      <th>3</th>\n",
       "      <th>4</th>\n",
       "      <th>5</th>\n",
       "    </tr>\n",
       "    <tr>\n",
       "      <th>0</th>\n",
       "      <th></th>\n",
       "      <th></th>\n",
       "      <th></th>\n",
       "      <th></th>\n",
       "      <th></th>\n",
       "    </tr>\n",
       "  </thead>\n",
       "  <tbody>\n",
       "    <tr>\n",
       "      <th>Observations</th>\n",
       "      <td>158.000</td>\n",
       "      <td>158.000</td>\n",
       "      <td>158.000</td>\n",
       "      <td>158.000</td>\n",
       "      <td>158.000</td>\n",
       "    </tr>\n",
       "    <tr>\n",
       "      <th>R2</th>\n",
       "      <td>0.982</td>\n",
       "      <td>0.965</td>\n",
       "      <td>0.982</td>\n",
       "      <td>0.053</td>\n",
       "      <td>0.026</td>\n",
       "    </tr>\n",
       "    <tr>\n",
       "      <th>Adjusted_R2</th>\n",
       "      <td>0.982</td>\n",
       "      <td>0.965</td>\n",
       "      <td>0.982</td>\n",
       "      <td>0.035</td>\n",
       "      <td>0.020</td>\n",
       "    </tr>\n",
       "  </tbody>\n",
       "</table>\n",
       "</div>"
      ],
      "text/plain": [
       "                    1        2        3        4        5\n",
       "0                                                        \n",
       "Observations  158.000  158.000  158.000  158.000  158.000\n",
       "R2              0.982    0.965    0.982    0.053    0.026\n",
       "Adjusted_R2     0.982    0.965    0.982    0.035    0.020"
      ]
     },
     "execution_count": 28,
     "metadata": {},
     "output_type": "execute_result"
    }
   ],
   "source": [
    "df = pd.read_csv(io.StringIO(date_string), sep = '\\s+', header=None, index_col=0)\n",
    "df"
   ]
  },
  {
   "cell_type": "code",
   "execution_count": 29,
   "id": "42fcc56b",
   "metadata": {},
   "outputs": [
    {
     "data": {
      "text/html": [
       "<div>\n",
       "<style scoped>\n",
       "    .dataframe tbody tr th:only-of-type {\n",
       "        vertical-align: middle;\n",
       "    }\n",
       "\n",
       "    .dataframe tbody tr th {\n",
       "        vertical-align: top;\n",
       "    }\n",
       "\n",
       "    .dataframe thead th {\n",
       "        text-align: right;\n",
       "    }\n",
       "</style>\n",
       "<table border=\"1\" class=\"dataframe\">\n",
       "  <thead>\n",
       "    <tr style=\"text-align: right;\">\n",
       "      <th></th>\n",
       "      <th>Observations</th>\n",
       "      <th>R2</th>\n",
       "      <th>Adjusted_R2</th>\n",
       "    </tr>\n",
       "  </thead>\n",
       "  <tbody>\n",
       "    <tr>\n",
       "      <th>1</th>\n",
       "      <td>158.0</td>\n",
       "      <td>0.982</td>\n",
       "      <td>0.982</td>\n",
       "    </tr>\n",
       "    <tr>\n",
       "      <th>2</th>\n",
       "      <td>158.0</td>\n",
       "      <td>0.965</td>\n",
       "      <td>0.965</td>\n",
       "    </tr>\n",
       "    <tr>\n",
       "      <th>3</th>\n",
       "      <td>158.0</td>\n",
       "      <td>0.982</td>\n",
       "      <td>0.982</td>\n",
       "    </tr>\n",
       "    <tr>\n",
       "      <th>4</th>\n",
       "      <td>158.0</td>\n",
       "      <td>0.053</td>\n",
       "      <td>0.035</td>\n",
       "    </tr>\n",
       "    <tr>\n",
       "      <th>5</th>\n",
       "      <td>158.0</td>\n",
       "      <td>0.026</td>\n",
       "      <td>0.020</td>\n",
       "    </tr>\n",
       "  </tbody>\n",
       "</table>\n",
       "</div>"
      ],
      "text/plain": [
       "0  Observations     R2  Adjusted_R2\n",
       "1         158.0  0.982        0.982\n",
       "2         158.0  0.965        0.965\n",
       "3         158.0  0.982        0.982\n",
       "4         158.0  0.053        0.035\n",
       "5         158.0  0.026        0.020"
      ]
     },
     "execution_count": 29,
     "metadata": {},
     "output_type": "execute_result"
    }
   ],
   "source": [
    "df = df.transpose()\n",
    "df"
   ]
  },
  {
   "cell_type": "code",
   "execution_count": 30,
   "id": "64765fe7",
   "metadata": {},
   "outputs": [
    {
     "data": {
      "text/html": [
       "<div>\n",
       "<style scoped>\n",
       "    .dataframe tbody tr th:only-of-type {\n",
       "        vertical-align: middle;\n",
       "    }\n",
       "\n",
       "    .dataframe tbody tr th {\n",
       "        vertical-align: top;\n",
       "    }\n",
       "\n",
       "    .dataframe thead th {\n",
       "        text-align: right;\n",
       "    }\n",
       "</style>\n",
       "<table border=\"1\" class=\"dataframe\">\n",
       "  <thead>\n",
       "    <tr style=\"text-align: right;\">\n",
       "      <th></th>\n",
       "      <th>Observations</th>\n",
       "      <th>R2</th>\n",
       "      <th>Adjusted_R2</th>\n",
       "      <th>m</th>\n",
       "    </tr>\n",
       "  </thead>\n",
       "  <tbody>\n",
       "    <tr>\n",
       "      <th>1</th>\n",
       "      <td>158.0</td>\n",
       "      <td>0.982</td>\n",
       "      <td>0.982</td>\n",
       "      <td>5</td>\n",
       "    </tr>\n",
       "    <tr>\n",
       "      <th>2</th>\n",
       "      <td>158.0</td>\n",
       "      <td>0.965</td>\n",
       "      <td>0.965</td>\n",
       "      <td>2</td>\n",
       "    </tr>\n",
       "    <tr>\n",
       "      <th>3</th>\n",
       "      <td>158.0</td>\n",
       "      <td>0.982</td>\n",
       "      <td>0.982</td>\n",
       "      <td>4</td>\n",
       "    </tr>\n",
       "    <tr>\n",
       "      <th>4</th>\n",
       "      <td>158.0</td>\n",
       "      <td>0.053</td>\n",
       "      <td>0.035</td>\n",
       "      <td>4</td>\n",
       "    </tr>\n",
       "    <tr>\n",
       "      <th>5</th>\n",
       "      <td>158.0</td>\n",
       "      <td>0.026</td>\n",
       "      <td>0.020</td>\n",
       "      <td>2</td>\n",
       "    </tr>\n",
       "  </tbody>\n",
       "</table>\n",
       "</div>"
      ],
      "text/plain": [
       "0  Observations     R2  Adjusted_R2  m\n",
       "1         158.0  0.982        0.982  5\n",
       "2         158.0  0.965        0.965  2\n",
       "3         158.0  0.982        0.982  4\n",
       "4         158.0  0.053        0.035  4\n",
       "5         158.0  0.026        0.020  2"
      ]
     },
     "execution_count": 30,
     "metadata": {},
     "output_type": "execute_result"
    }
   ],
   "source": [
    "df['m'] = [5,2,4,4,2]\n",
    "df"
   ]
  },
  {
   "cell_type": "code",
   "execution_count": 34,
   "id": "4a8ef3ff",
   "metadata": {},
   "outputs": [
    {
     "data": {
      "text/html": [
       "<div>\n",
       "<style scoped>\n",
       "    .dataframe tbody tr th:only-of-type {\n",
       "        vertical-align: middle;\n",
       "    }\n",
       "\n",
       "    .dataframe tbody tr th {\n",
       "        vertical-align: top;\n",
       "    }\n",
       "\n",
       "    .dataframe thead th {\n",
       "        text-align: right;\n",
       "    }\n",
       "</style>\n",
       "<table border=\"1\" class=\"dataframe\">\n",
       "  <thead>\n",
       "    <tr style=\"text-align: right;\">\n",
       "      <th></th>\n",
       "      <th>Observations</th>\n",
       "      <th>R2</th>\n",
       "      <th>Adjusted_R2</th>\n",
       "      <th>m</th>\n",
       "      <th>F_nab</th>\n",
       "      <th>F_cr</th>\n",
       "    </tr>\n",
       "  </thead>\n",
       "  <tbody>\n",
       "    <tr>\n",
       "      <th>1</th>\n",
       "      <td>158.0</td>\n",
       "      <td>0.98</td>\n",
       "      <td>0.98</td>\n",
       "      <td>5</td>\n",
       "      <td>2086.75</td>\n",
       "      <td>3.44</td>\n",
       "    </tr>\n",
       "    <tr>\n",
       "      <th>2</th>\n",
       "      <td>158.0</td>\n",
       "      <td>0.96</td>\n",
       "      <td>0.96</td>\n",
       "      <td>2</td>\n",
       "      <td>4301.14</td>\n",
       "      <td>6.80</td>\n",
       "    </tr>\n",
       "    <tr>\n",
       "      <th>3</th>\n",
       "      <td>158.0</td>\n",
       "      <td>0.98</td>\n",
       "      <td>0.98</td>\n",
       "      <td>4</td>\n",
       "      <td>2800.52</td>\n",
       "      <td>3.91</td>\n",
       "    </tr>\n",
       "    <tr>\n",
       "      <th>4</th>\n",
       "      <td>158.0</td>\n",
       "      <td>0.05</td>\n",
       "      <td>0.04</td>\n",
       "      <td>4</td>\n",
       "      <td>2.87</td>\n",
       "      <td>3.91</td>\n",
       "    </tr>\n",
       "    <tr>\n",
       "      <th>5</th>\n",
       "      <td>158.0</td>\n",
       "      <td>0.03</td>\n",
       "      <td>0.02</td>\n",
       "      <td>2</td>\n",
       "      <td>4.16</td>\n",
       "      <td>6.80</td>\n",
       "    </tr>\n",
       "  </tbody>\n",
       "</table>\n",
       "</div>"
      ],
      "text/plain": [
       "0  Observations    R2  Adjusted_R2  m    F_nab  F_cr\n",
       "1         158.0  0.98         0.98  5  2086.75  3.44\n",
       "2         158.0  0.96         0.96  2  4301.14  6.80\n",
       "3         158.0  0.98         0.98  4  2800.52  3.91\n",
       "4         158.0  0.05         0.04  4     2.87  3.91\n",
       "5         158.0  0.03         0.02  2     4.16  6.80"
      ]
     },
     "execution_count": 34,
     "metadata": {},
     "output_type": "execute_result"
    }
   ],
   "source": [
    "df['F_nab'] = (df['R2']/(1-df['R2']))*((df['Observations']-df['m'])/(df['m']-1))\n",
    "df.round(2)"
   ]
  },
  {
   "cell_type": "code",
   "execution_count": 33,
   "id": "526684eb",
   "metadata": {},
   "outputs": [
    {
     "data": {
      "text/html": [
       "<div>\n",
       "<style scoped>\n",
       "    .dataframe tbody tr th:only-of-type {\n",
       "        vertical-align: middle;\n",
       "    }\n",
       "\n",
       "    .dataframe tbody tr th {\n",
       "        vertical-align: top;\n",
       "    }\n",
       "\n",
       "    .dataframe thead th {\n",
       "        text-align: right;\n",
       "    }\n",
       "</style>\n",
       "<table border=\"1\" class=\"dataframe\">\n",
       "  <thead>\n",
       "    <tr style=\"text-align: right;\">\n",
       "      <th></th>\n",
       "      <th>Observations</th>\n",
       "      <th>R2</th>\n",
       "      <th>Adjusted_R2</th>\n",
       "      <th>m</th>\n",
       "      <th>F_nab</th>\n",
       "      <th>F_cr</th>\n",
       "    </tr>\n",
       "  </thead>\n",
       "  <tbody>\n",
       "    <tr>\n",
       "      <th>1</th>\n",
       "      <td>158.0</td>\n",
       "      <td>0.982</td>\n",
       "      <td>0.982</td>\n",
       "      <td>5</td>\n",
       "      <td>2086.750</td>\n",
       "      <td>3.444</td>\n",
       "    </tr>\n",
       "    <tr>\n",
       "      <th>2</th>\n",
       "      <td>158.0</td>\n",
       "      <td>0.965</td>\n",
       "      <td>0.965</td>\n",
       "      <td>2</td>\n",
       "      <td>4301.143</td>\n",
       "      <td>6.800</td>\n",
       "    </tr>\n",
       "    <tr>\n",
       "      <th>3</th>\n",
       "      <td>158.0</td>\n",
       "      <td>0.982</td>\n",
       "      <td>0.982</td>\n",
       "      <td>4</td>\n",
       "      <td>2800.519</td>\n",
       "      <td>3.911</td>\n",
       "    </tr>\n",
       "    <tr>\n",
       "      <th>4</th>\n",
       "      <td>158.0</td>\n",
       "      <td>0.053</td>\n",
       "      <td>0.035</td>\n",
       "      <td>4</td>\n",
       "      <td>2.873</td>\n",
       "      <td>3.911</td>\n",
       "    </tr>\n",
       "    <tr>\n",
       "      <th>5</th>\n",
       "      <td>158.0</td>\n",
       "      <td>0.026</td>\n",
       "      <td>0.020</td>\n",
       "      <td>2</td>\n",
       "      <td>4.164</td>\n",
       "      <td>6.800</td>\n",
       "    </tr>\n",
       "  </tbody>\n",
       "</table>\n",
       "</div>"
      ],
      "text/plain": [
       "0  Observations     R2  Adjusted_R2  m     F_nab   F_cr\n",
       "1         158.0  0.982        0.982  5  2086.750  3.444\n",
       "2         158.0  0.965        0.965  2  4301.143  6.800\n",
       "3         158.0  0.982        0.982  4  2800.519  3.911\n",
       "4         158.0  0.053        0.035  4     2.873  3.911\n",
       "5         158.0  0.026        0.020  2     4.164  6.800"
      ]
     },
     "execution_count": 33,
     "metadata": {},
     "output_type": "execute_result"
    }
   ],
   "source": [
    "alpha = 0.01\n",
    "df['F_cr'] = stats.f.ppf(1-alpha,df['m']-1,df['Observations'] - df['m'])\n",
    "df.round(3)"
   ]
  },
  {
   "cell_type": "code",
   "execution_count": 36,
   "id": "0ec94ec6",
   "metadata": {},
   "outputs": [
    {
     "data": {
      "text/html": [
       "<div>\n",
       "<style scoped>\n",
       "    .dataframe tbody tr th:only-of-type {\n",
       "        vertical-align: middle;\n",
       "    }\n",
       "\n",
       "    .dataframe tbody tr th {\n",
       "        vertical-align: top;\n",
       "    }\n",
       "\n",
       "    .dataframe thead th {\n",
       "        text-align: right;\n",
       "    }\n",
       "</style>\n",
       "<table border=\"1\" class=\"dataframe\">\n",
       "  <thead>\n",
       "    <tr style=\"text-align: right;\">\n",
       "      <th></th>\n",
       "      <th>Observations</th>\n",
       "      <th>R2</th>\n",
       "      <th>Adjusted_R2</th>\n",
       "      <th>m</th>\n",
       "      <th>F_nab</th>\n",
       "      <th>F_cr</th>\n",
       "      <th>znachimost</th>\n",
       "    </tr>\n",
       "  </thead>\n",
       "  <tbody>\n",
       "    <tr>\n",
       "      <th>1</th>\n",
       "      <td>158.0</td>\n",
       "      <td>0.982</td>\n",
       "      <td>0.982</td>\n",
       "      <td>5</td>\n",
       "      <td>2086.750</td>\n",
       "      <td>3.444</td>\n",
       "      <td>znachima</td>\n",
       "    </tr>\n",
       "    <tr>\n",
       "      <th>2</th>\n",
       "      <td>158.0</td>\n",
       "      <td>0.965</td>\n",
       "      <td>0.965</td>\n",
       "      <td>2</td>\n",
       "      <td>4301.143</td>\n",
       "      <td>6.800</td>\n",
       "      <td>znachima</td>\n",
       "    </tr>\n",
       "    <tr>\n",
       "      <th>3</th>\n",
       "      <td>158.0</td>\n",
       "      <td>0.982</td>\n",
       "      <td>0.982</td>\n",
       "      <td>4</td>\n",
       "      <td>2800.519</td>\n",
       "      <td>3.911</td>\n",
       "      <td>znachima</td>\n",
       "    </tr>\n",
       "    <tr>\n",
       "      <th>4</th>\n",
       "      <td>158.0</td>\n",
       "      <td>0.053</td>\n",
       "      <td>0.035</td>\n",
       "      <td>4</td>\n",
       "      <td>2.873</td>\n",
       "      <td>3.911</td>\n",
       "      <td>neznachimo</td>\n",
       "    </tr>\n",
       "    <tr>\n",
       "      <th>5</th>\n",
       "      <td>158.0</td>\n",
       "      <td>0.026</td>\n",
       "      <td>0.020</td>\n",
       "      <td>2</td>\n",
       "      <td>4.164</td>\n",
       "      <td>6.800</td>\n",
       "      <td>neznachimo</td>\n",
       "    </tr>\n",
       "  </tbody>\n",
       "</table>\n",
       "</div>"
      ],
      "text/plain": [
       "0  Observations     R2  Adjusted_R2  m     F_nab   F_cr  znachimost\n",
       "1         158.0  0.982        0.982  5  2086.750  3.444    znachima\n",
       "2         158.0  0.965        0.965  2  4301.143  6.800    znachima\n",
       "3         158.0  0.982        0.982  4  2800.519  3.911    znachima\n",
       "4         158.0  0.053        0.035  4     2.873  3.911  neznachimo\n",
       "5         158.0  0.026        0.020  2     4.164  6.800  neznachimo"
      ]
     },
     "execution_count": 36,
     "metadata": {},
     "output_type": "execute_result"
    }
   ],
   "source": [
    "df['znachimost'] = df.apply(lambda x : 'znachima' if x['F_nab'] > x['F_cr'] else 'neznachimo', axis = 1)\n",
    "df.round(3)"
   ]
  },
  {
   "cell_type": "markdown",
   "id": "17ed3f2b",
   "metadata": {},
   "source": [
    "$$H_0: \\beta_{0} = \\beta_{1} = \\dots = 0$$\n",
    "$$H_1: \\beta_{0}^2 + \\beta_{1}^2  + \\dots + \\beta_k^2 > 0$$"
   ]
  },
  {
   "cell_type": "markdown",
   "id": "d72be5b7",
   "metadata": {},
   "source": [
    "# Задача 1.3 sleep equation #2"
   ]
  },
  {
   "cell_type": "code",
   "execution_count": 54,
   "id": "0285b3b0",
   "metadata": {},
   "outputs": [],
   "source": [
    "data_string = '''\n",
    "Observations            706         706         706         706    \n",
    "R2                     0.118       0.022       0.015       0.007   \n",
    "Adjusted_R2            0.110       0.014       0.012       0.002   \n",
    "Residual_Std.Error   419.371     441.301     441.775     444.018  \n",
    "F_Statistic          13.387    2.663    5.224      1.314''' "
   ]
  },
  {
   "cell_type": "code",
   "execution_count": 55,
   "id": "e6b16aea",
   "metadata": {},
   "outputs": [
    {
     "data": {
      "text/html": [
       "<div>\n",
       "<style scoped>\n",
       "    .dataframe tbody tr th:only-of-type {\n",
       "        vertical-align: middle;\n",
       "    }\n",
       "\n",
       "    .dataframe tbody tr th {\n",
       "        vertical-align: top;\n",
       "    }\n",
       "\n",
       "    .dataframe thead th {\n",
       "        text-align: right;\n",
       "    }\n",
       "</style>\n",
       "<table border=\"1\" class=\"dataframe\">\n",
       "  <thead>\n",
       "    <tr style=\"text-align: right;\">\n",
       "      <th></th>\n",
       "      <th>1</th>\n",
       "      <th>2</th>\n",
       "      <th>3</th>\n",
       "      <th>4</th>\n",
       "    </tr>\n",
       "    <tr>\n",
       "      <th>0</th>\n",
       "      <th></th>\n",
       "      <th></th>\n",
       "      <th></th>\n",
       "      <th></th>\n",
       "    </tr>\n",
       "  </thead>\n",
       "  <tbody>\n",
       "    <tr>\n",
       "      <th>Observations</th>\n",
       "      <td>706.000</td>\n",
       "      <td>706.000</td>\n",
       "      <td>706.000</td>\n",
       "      <td>706.000</td>\n",
       "    </tr>\n",
       "    <tr>\n",
       "      <th>R2</th>\n",
       "      <td>0.118</td>\n",
       "      <td>0.022</td>\n",
       "      <td>0.015</td>\n",
       "      <td>0.007</td>\n",
       "    </tr>\n",
       "    <tr>\n",
       "      <th>Adjusted_R2</th>\n",
       "      <td>0.110</td>\n",
       "      <td>0.014</td>\n",
       "      <td>0.012</td>\n",
       "      <td>0.002</td>\n",
       "    </tr>\n",
       "    <tr>\n",
       "      <th>Residual_Std.Error</th>\n",
       "      <td>419.371</td>\n",
       "      <td>441.301</td>\n",
       "      <td>441.775</td>\n",
       "      <td>444.018</td>\n",
       "    </tr>\n",
       "    <tr>\n",
       "      <th>F_Statistic</th>\n",
       "      <td>13.387</td>\n",
       "      <td>2.663</td>\n",
       "      <td>5.224</td>\n",
       "      <td>1.314</td>\n",
       "    </tr>\n",
       "  </tbody>\n",
       "</table>\n",
       "</div>"
      ],
      "text/plain": [
       "                          1        2        3        4\n",
       "0                                                     \n",
       "Observations        706.000  706.000  706.000  706.000\n",
       "R2                    0.118    0.022    0.015    0.007\n",
       "Adjusted_R2           0.110    0.014    0.012    0.002\n",
       "Residual_Std.Error  419.371  441.301  441.775  444.018\n",
       "F_Statistic          13.387    2.663    5.224    1.314"
      ]
     },
     "execution_count": 55,
     "metadata": {},
     "output_type": "execute_result"
    }
   ],
   "source": [
    "df = pd.read_csv(io.StringIO(data_string), sep = '\\s+', header=None, index_col=0)\n",
    "df"
   ]
  },
  {
   "cell_type": "code",
   "execution_count": 56,
   "id": "4d7199b2",
   "metadata": {},
   "outputs": [
    {
     "data": {
      "text/html": [
       "<div>\n",
       "<style scoped>\n",
       "    .dataframe tbody tr th:only-of-type {\n",
       "        vertical-align: middle;\n",
       "    }\n",
       "\n",
       "    .dataframe tbody tr th {\n",
       "        vertical-align: top;\n",
       "    }\n",
       "\n",
       "    .dataframe thead th {\n",
       "        text-align: right;\n",
       "    }\n",
       "</style>\n",
       "<table border=\"1\" class=\"dataframe\">\n",
       "  <thead>\n",
       "    <tr style=\"text-align: right;\">\n",
       "      <th></th>\n",
       "      <th>Observations</th>\n",
       "      <th>R2</th>\n",
       "      <th>Adjusted_R2</th>\n",
       "      <th>Residual_Std.Error</th>\n",
       "      <th>F_Statistic</th>\n",
       "    </tr>\n",
       "  </thead>\n",
       "  <tbody>\n",
       "    <tr>\n",
       "      <th>1</th>\n",
       "      <td>706.0</td>\n",
       "      <td>0.118</td>\n",
       "      <td>0.110</td>\n",
       "      <td>419.371</td>\n",
       "      <td>13.387</td>\n",
       "    </tr>\n",
       "    <tr>\n",
       "      <th>2</th>\n",
       "      <td>706.0</td>\n",
       "      <td>0.022</td>\n",
       "      <td>0.014</td>\n",
       "      <td>441.301</td>\n",
       "      <td>2.663</td>\n",
       "    </tr>\n",
       "    <tr>\n",
       "      <th>3</th>\n",
       "      <td>706.0</td>\n",
       "      <td>0.015</td>\n",
       "      <td>0.012</td>\n",
       "      <td>441.775</td>\n",
       "      <td>5.224</td>\n",
       "    </tr>\n",
       "    <tr>\n",
       "      <th>4</th>\n",
       "      <td>706.0</td>\n",
       "      <td>0.007</td>\n",
       "      <td>0.002</td>\n",
       "      <td>444.018</td>\n",
       "      <td>1.314</td>\n",
       "    </tr>\n",
       "  </tbody>\n",
       "</table>\n",
       "</div>"
      ],
      "text/plain": [
       "0  Observations     R2  Adjusted_R2  Residual_Std.Error  F_Statistic\n",
       "1         706.0  0.118        0.110             419.371       13.387\n",
       "2         706.0  0.022        0.014             441.301        2.663\n",
       "3         706.0  0.015        0.012             441.775        5.224\n",
       "4         706.0  0.007        0.002             444.018        1.314"
      ]
     },
     "execution_count": 56,
     "metadata": {},
     "output_type": "execute_result"
    }
   ],
   "source": [
    "df = df.transpose()\n",
    "df"
   ]
  },
  {
   "cell_type": "code",
   "execution_count": 57,
   "id": "f5a0dc33",
   "metadata": {},
   "outputs": [
    {
     "data": {
      "text/html": [
       "<div>\n",
       "<style scoped>\n",
       "    .dataframe tbody tr th:only-of-type {\n",
       "        vertical-align: middle;\n",
       "    }\n",
       "\n",
       "    .dataframe tbody tr th {\n",
       "        vertical-align: top;\n",
       "    }\n",
       "\n",
       "    .dataframe thead th {\n",
       "        text-align: right;\n",
       "    }\n",
       "</style>\n",
       "<table border=\"1\" class=\"dataframe\">\n",
       "  <thead>\n",
       "    <tr style=\"text-align: right;\">\n",
       "      <th></th>\n",
       "      <th>Observations</th>\n",
       "      <th>R2</th>\n",
       "      <th>Adjusted_R2</th>\n",
       "      <th>Residual_Std.Error</th>\n",
       "      <th>F_Statistic</th>\n",
       "      <th>m</th>\n",
       "    </tr>\n",
       "  </thead>\n",
       "  <tbody>\n",
       "    <tr>\n",
       "      <th>1</th>\n",
       "      <td>706.0</td>\n",
       "      <td>0.118</td>\n",
       "      <td>0.110</td>\n",
       "      <td>419.371</td>\n",
       "      <td>13.387</td>\n",
       "      <td>8</td>\n",
       "    </tr>\n",
       "    <tr>\n",
       "      <th>2</th>\n",
       "      <td>706.0</td>\n",
       "      <td>0.022</td>\n",
       "      <td>0.014</td>\n",
       "      <td>441.301</td>\n",
       "      <td>2.663</td>\n",
       "      <td>7</td>\n",
       "    </tr>\n",
       "    <tr>\n",
       "      <th>3</th>\n",
       "      <td>706.0</td>\n",
       "      <td>0.015</td>\n",
       "      <td>0.012</td>\n",
       "      <td>441.775</td>\n",
       "      <td>5.224</td>\n",
       "      <td>3</td>\n",
       "    </tr>\n",
       "    <tr>\n",
       "      <th>4</th>\n",
       "      <td>706.0</td>\n",
       "      <td>0.007</td>\n",
       "      <td>0.002</td>\n",
       "      <td>444.018</td>\n",
       "      <td>1.314</td>\n",
       "      <td>5</td>\n",
       "    </tr>\n",
       "  </tbody>\n",
       "</table>\n",
       "</div>"
      ],
      "text/plain": [
       "0  Observations     R2  Adjusted_R2  Residual_Std.Error  F_Statistic  m\n",
       "1         706.0  0.118        0.110             419.371       13.387  8\n",
       "2         706.0  0.022        0.014             441.301        2.663  7\n",
       "3         706.0  0.015        0.012             441.775        5.224  3\n",
       "4         706.0  0.007        0.002             444.018        1.314  5"
      ]
     },
     "execution_count": 57,
     "metadata": {},
     "output_type": "execute_result"
    }
   ],
   "source": [
    "df['m'] = [8,7,3,5]\n",
    "df"
   ]
  },
  {
   "cell_type": "code",
   "execution_count": 58,
   "id": "18e5274b",
   "metadata": {},
   "outputs": [
    {
     "data": {
      "text/html": [
       "<div>\n",
       "<style scoped>\n",
       "    .dataframe tbody tr th:only-of-type {\n",
       "        vertical-align: middle;\n",
       "    }\n",
       "\n",
       "    .dataframe tbody tr th {\n",
       "        vertical-align: top;\n",
       "    }\n",
       "\n",
       "    .dataframe thead th {\n",
       "        text-align: right;\n",
       "    }\n",
       "</style>\n",
       "<table border=\"1\" class=\"dataframe\">\n",
       "  <thead>\n",
       "    <tr style=\"text-align: right;\">\n",
       "      <th></th>\n",
       "      <th>Observations</th>\n",
       "      <th>R2</th>\n",
       "      <th>Adjusted_R2</th>\n",
       "      <th>Residual_Std.Error</th>\n",
       "      <th>F_Statistic</th>\n",
       "      <th>m</th>\n",
       "      <th>F_nab</th>\n",
       "    </tr>\n",
       "  </thead>\n",
       "  <tbody>\n",
       "    <tr>\n",
       "      <th>1</th>\n",
       "      <td>706.0</td>\n",
       "      <td>0.12</td>\n",
       "      <td>0.11</td>\n",
       "      <td>419.37</td>\n",
       "      <td>13.39</td>\n",
       "      <td>8</td>\n",
       "      <td>13.34</td>\n",
       "    </tr>\n",
       "    <tr>\n",
       "      <th>2</th>\n",
       "      <td>706.0</td>\n",
       "      <td>0.02</td>\n",
       "      <td>0.01</td>\n",
       "      <td>441.30</td>\n",
       "      <td>2.66</td>\n",
       "      <td>7</td>\n",
       "      <td>2.62</td>\n",
       "    </tr>\n",
       "    <tr>\n",
       "      <th>3</th>\n",
       "      <td>706.0</td>\n",
       "      <td>0.02</td>\n",
       "      <td>0.01</td>\n",
       "      <td>441.78</td>\n",
       "      <td>5.22</td>\n",
       "      <td>3</td>\n",
       "      <td>5.35</td>\n",
       "    </tr>\n",
       "    <tr>\n",
       "      <th>4</th>\n",
       "      <td>706.0</td>\n",
       "      <td>0.01</td>\n",
       "      <td>0.00</td>\n",
       "      <td>444.02</td>\n",
       "      <td>1.31</td>\n",
       "      <td>5</td>\n",
       "      <td>1.24</td>\n",
       "    </tr>\n",
       "  </tbody>\n",
       "</table>\n",
       "</div>"
      ],
      "text/plain": [
       "0  Observations    R2  Adjusted_R2  Residual_Std.Error  F_Statistic  m  F_nab\n",
       "1         706.0  0.12         0.11              419.37        13.39  8  13.34\n",
       "2         706.0  0.02         0.01              441.30         2.66  7   2.62\n",
       "3         706.0  0.02         0.01              441.78         5.22  3   5.35\n",
       "4         706.0  0.01         0.00              444.02         1.31  5   1.24"
      ]
     },
     "execution_count": 58,
     "metadata": {},
     "output_type": "execute_result"
    }
   ],
   "source": [
    "df['F_nab'] = (df['R2']/(1-df['R2']))*((df['Observations']-df['m'])/(df['m']-1))\n",
    "df.round(2)"
   ]
  },
  {
   "cell_type": "code",
   "execution_count": 59,
   "id": "ddde7182",
   "metadata": {},
   "outputs": [
    {
     "data": {
      "text/html": [
       "<div>\n",
       "<style scoped>\n",
       "    .dataframe tbody tr th:only-of-type {\n",
       "        vertical-align: middle;\n",
       "    }\n",
       "\n",
       "    .dataframe tbody tr th {\n",
       "        vertical-align: top;\n",
       "    }\n",
       "\n",
       "    .dataframe thead th {\n",
       "        text-align: right;\n",
       "    }\n",
       "</style>\n",
       "<table border=\"1\" class=\"dataframe\">\n",
       "  <thead>\n",
       "    <tr style=\"text-align: right;\">\n",
       "      <th></th>\n",
       "      <th>Observations</th>\n",
       "      <th>R2</th>\n",
       "      <th>Adjusted_R2</th>\n",
       "      <th>Residual_Std.Error</th>\n",
       "      <th>F_Statistic</th>\n",
       "      <th>m</th>\n",
       "      <th>F_nab</th>\n",
       "      <th>F_cr</th>\n",
       "    </tr>\n",
       "  </thead>\n",
       "  <tbody>\n",
       "    <tr>\n",
       "      <th>1</th>\n",
       "      <td>706.0</td>\n",
       "      <td>0.118</td>\n",
       "      <td>0.110</td>\n",
       "      <td>419.371</td>\n",
       "      <td>13.387</td>\n",
       "      <td>8</td>\n",
       "      <td>13.340</td>\n",
       "      <td>2.665</td>\n",
       "    </tr>\n",
       "    <tr>\n",
       "      <th>2</th>\n",
       "      <td>706.0</td>\n",
       "      <td>0.022</td>\n",
       "      <td>0.014</td>\n",
       "      <td>441.301</td>\n",
       "      <td>2.663</td>\n",
       "      <td>7</td>\n",
       "      <td>2.621</td>\n",
       "      <td>2.828</td>\n",
       "    </tr>\n",
       "    <tr>\n",
       "      <th>3</th>\n",
       "      <td>706.0</td>\n",
       "      <td>0.015</td>\n",
       "      <td>0.012</td>\n",
       "      <td>441.775</td>\n",
       "      <td>5.224</td>\n",
       "      <td>3</td>\n",
       "      <td>5.353</td>\n",
       "      <td>4.635</td>\n",
       "    </tr>\n",
       "    <tr>\n",
       "      <th>4</th>\n",
       "      <td>706.0</td>\n",
       "      <td>0.007</td>\n",
       "      <td>0.002</td>\n",
       "      <td>444.018</td>\n",
       "      <td>1.314</td>\n",
       "      <td>5</td>\n",
       "      <td>1.235</td>\n",
       "      <td>3.346</td>\n",
       "    </tr>\n",
       "  </tbody>\n",
       "</table>\n",
       "</div>"
      ],
      "text/plain": [
       "0  Observations     R2  Adjusted_R2  Residual_Std.Error  F_Statistic  m  \\\n",
       "1         706.0  0.118        0.110             419.371       13.387  8   \n",
       "2         706.0  0.022        0.014             441.301        2.663  7   \n",
       "3         706.0  0.015        0.012             441.775        5.224  3   \n",
       "4         706.0  0.007        0.002             444.018        1.314  5   \n",
       "\n",
       "0   F_nab   F_cr  \n",
       "1  13.340  2.665  \n",
       "2   2.621  2.828  \n",
       "3   5.353  4.635  \n",
       "4   1.235  3.346  "
      ]
     },
     "execution_count": 59,
     "metadata": {},
     "output_type": "execute_result"
    }
   ],
   "source": [
    "alpha = 0.01\n",
    "df['F_cr'] = stats.f.ppf(1-alpha,df['m']-1,df['Observations'] - df['m'])\n",
    "df.round(3)"
   ]
  },
  {
   "cell_type": "code",
   "execution_count": 60,
   "id": "da0286b8",
   "metadata": {
    "scrolled": true
   },
   "outputs": [
    {
     "data": {
      "text/html": [
       "<div>\n",
       "<style scoped>\n",
       "    .dataframe tbody tr th:only-of-type {\n",
       "        vertical-align: middle;\n",
       "    }\n",
       "\n",
       "    .dataframe tbody tr th {\n",
       "        vertical-align: top;\n",
       "    }\n",
       "\n",
       "    .dataframe thead th {\n",
       "        text-align: right;\n",
       "    }\n",
       "</style>\n",
       "<table border=\"1\" class=\"dataframe\">\n",
       "  <thead>\n",
       "    <tr style=\"text-align: right;\">\n",
       "      <th></th>\n",
       "      <th>Observations</th>\n",
       "      <th>R2</th>\n",
       "      <th>Adjusted_R2</th>\n",
       "      <th>Residual_Std.Error</th>\n",
       "      <th>F_Statistic</th>\n",
       "      <th>m</th>\n",
       "      <th>F_nab</th>\n",
       "      <th>F_cr</th>\n",
       "      <th>znachimost</th>\n",
       "    </tr>\n",
       "  </thead>\n",
       "  <tbody>\n",
       "    <tr>\n",
       "      <th>1</th>\n",
       "      <td>706.0</td>\n",
       "      <td>0.118</td>\n",
       "      <td>0.110</td>\n",
       "      <td>419.371</td>\n",
       "      <td>13.387</td>\n",
       "      <td>8</td>\n",
       "      <td>13.340</td>\n",
       "      <td>2.665</td>\n",
       "      <td>znachima</td>\n",
       "    </tr>\n",
       "    <tr>\n",
       "      <th>2</th>\n",
       "      <td>706.0</td>\n",
       "      <td>0.022</td>\n",
       "      <td>0.014</td>\n",
       "      <td>441.301</td>\n",
       "      <td>2.663</td>\n",
       "      <td>7</td>\n",
       "      <td>2.621</td>\n",
       "      <td>2.828</td>\n",
       "      <td>neznachimo</td>\n",
       "    </tr>\n",
       "    <tr>\n",
       "      <th>3</th>\n",
       "      <td>706.0</td>\n",
       "      <td>0.015</td>\n",
       "      <td>0.012</td>\n",
       "      <td>441.775</td>\n",
       "      <td>5.224</td>\n",
       "      <td>3</td>\n",
       "      <td>5.353</td>\n",
       "      <td>4.635</td>\n",
       "      <td>znachima</td>\n",
       "    </tr>\n",
       "    <tr>\n",
       "      <th>4</th>\n",
       "      <td>706.0</td>\n",
       "      <td>0.007</td>\n",
       "      <td>0.002</td>\n",
       "      <td>444.018</td>\n",
       "      <td>1.314</td>\n",
       "      <td>5</td>\n",
       "      <td>1.235</td>\n",
       "      <td>3.346</td>\n",
       "      <td>neznachimo</td>\n",
       "    </tr>\n",
       "  </tbody>\n",
       "</table>\n",
       "</div>"
      ],
      "text/plain": [
       "0  Observations     R2  Adjusted_R2  Residual_Std.Error  F_Statistic  m  \\\n",
       "1         706.0  0.118        0.110             419.371       13.387  8   \n",
       "2         706.0  0.022        0.014             441.301        2.663  7   \n",
       "3         706.0  0.015        0.012             441.775        5.224  3   \n",
       "4         706.0  0.007        0.002             444.018        1.314  5   \n",
       "\n",
       "0   F_nab   F_cr  znachimost  \n",
       "1  13.340  2.665    znachima  \n",
       "2   2.621  2.828  neznachimo  \n",
       "3   5.353  4.635    znachima  \n",
       "4   1.235  3.346  neznachimo  "
      ]
     },
     "execution_count": 60,
     "metadata": {},
     "output_type": "execute_result"
    }
   ],
   "source": [
    "df['znachimost'] = df.apply(lambda x : 'znachima' if x['F_nab'] > x['F_cr'] else 'neznachimo', axis = 1)\n",
    "df.round(3)"
   ]
  },
  {
   "cell_type": "markdown",
   "id": "3f62c9b5",
   "metadata": {},
   "source": [
    "$$H_0: \\beta_{0} = \\beta_{1} = \\dots = 0$$\n",
    "$$H_1: \\beta_{0}^2 + \\beta_{1}^2  + \\dots + \\beta_k^2 > 0$$"
   ]
  },
  {
   "cell_type": "markdown",
   "id": "809bb8f0",
   "metadata": {},
   "source": [
    "# Задача 1.4 cost equation #2"
   ]
  },
  {
   "cell_type": "code",
   "execution_count": 61,
   "id": "12785ceb",
   "metadata": {},
   "outputs": [],
   "source": [
    "data_string = '''\n",
    "Observations            158         158         158        158      158  \n",
    "R2                     0.992       0.976       0.982      0.053    0.026 \n",
    "Adjusted_R2            0.992       0.976       0.982      0.035    0.020 \n",
    "Residual_Std.Error    0.138       0.239       0.209      1.516    1.527 \n",
    "F_Statistic         3880.407 3185.767 2106.934  2.881  4.158'''"
   ]
  },
  {
   "cell_type": "code",
   "execution_count": 62,
   "id": "697a6698",
   "metadata": {},
   "outputs": [
    {
     "data": {
      "text/html": [
       "<div>\n",
       "<style scoped>\n",
       "    .dataframe tbody tr th:only-of-type {\n",
       "        vertical-align: middle;\n",
       "    }\n",
       "\n",
       "    .dataframe tbody tr th {\n",
       "        vertical-align: top;\n",
       "    }\n",
       "\n",
       "    .dataframe thead th {\n",
       "        text-align: right;\n",
       "    }\n",
       "</style>\n",
       "<table border=\"1\" class=\"dataframe\">\n",
       "  <thead>\n",
       "    <tr style=\"text-align: right;\">\n",
       "      <th></th>\n",
       "      <th>1</th>\n",
       "      <th>2</th>\n",
       "      <th>3</th>\n",
       "      <th>4</th>\n",
       "      <th>5</th>\n",
       "    </tr>\n",
       "    <tr>\n",
       "      <th>0</th>\n",
       "      <th></th>\n",
       "      <th></th>\n",
       "      <th></th>\n",
       "      <th></th>\n",
       "      <th></th>\n",
       "    </tr>\n",
       "  </thead>\n",
       "  <tbody>\n",
       "    <tr>\n",
       "      <th>Observations</th>\n",
       "      <td>158.000</td>\n",
       "      <td>158.000</td>\n",
       "      <td>158.000</td>\n",
       "      <td>158.000</td>\n",
       "      <td>158.000</td>\n",
       "    </tr>\n",
       "    <tr>\n",
       "      <th>R2</th>\n",
       "      <td>0.992</td>\n",
       "      <td>0.976</td>\n",
       "      <td>0.982</td>\n",
       "      <td>0.053</td>\n",
       "      <td>0.026</td>\n",
       "    </tr>\n",
       "    <tr>\n",
       "      <th>Adjusted_R2</th>\n",
       "      <td>0.992</td>\n",
       "      <td>0.976</td>\n",
       "      <td>0.982</td>\n",
       "      <td>0.035</td>\n",
       "      <td>0.020</td>\n",
       "    </tr>\n",
       "    <tr>\n",
       "      <th>Residual_Std.Error</th>\n",
       "      <td>0.138</td>\n",
       "      <td>0.239</td>\n",
       "      <td>0.209</td>\n",
       "      <td>1.516</td>\n",
       "      <td>1.527</td>\n",
       "    </tr>\n",
       "    <tr>\n",
       "      <th>F_Statistic</th>\n",
       "      <td>3880.407</td>\n",
       "      <td>3185.767</td>\n",
       "      <td>2106.934</td>\n",
       "      <td>2.881</td>\n",
       "      <td>4.158</td>\n",
       "    </tr>\n",
       "  </tbody>\n",
       "</table>\n",
       "</div>"
      ],
      "text/plain": [
       "                           1         2         3        4        5\n",
       "0                                                                 \n",
       "Observations         158.000   158.000   158.000  158.000  158.000\n",
       "R2                     0.992     0.976     0.982    0.053    0.026\n",
       "Adjusted_R2            0.992     0.976     0.982    0.035    0.020\n",
       "Residual_Std.Error     0.138     0.239     0.209    1.516    1.527\n",
       "F_Statistic         3880.407  3185.767  2106.934    2.881    4.158"
      ]
     },
     "execution_count": 62,
     "metadata": {},
     "output_type": "execute_result"
    }
   ],
   "source": [
    "df = pd.read_csv(io.StringIO(data_string), sep = '\\s+', header=None, index_col=0)\n",
    "df"
   ]
  },
  {
   "cell_type": "code",
   "execution_count": 63,
   "id": "b319fe58",
   "metadata": {},
   "outputs": [
    {
     "data": {
      "text/html": [
       "<div>\n",
       "<style scoped>\n",
       "    .dataframe tbody tr th:only-of-type {\n",
       "        vertical-align: middle;\n",
       "    }\n",
       "\n",
       "    .dataframe tbody tr th {\n",
       "        vertical-align: top;\n",
       "    }\n",
       "\n",
       "    .dataframe thead th {\n",
       "        text-align: right;\n",
       "    }\n",
       "</style>\n",
       "<table border=\"1\" class=\"dataframe\">\n",
       "  <thead>\n",
       "    <tr style=\"text-align: right;\">\n",
       "      <th></th>\n",
       "      <th>Observations</th>\n",
       "      <th>R2</th>\n",
       "      <th>Adjusted_R2</th>\n",
       "      <th>Residual_Std.Error</th>\n",
       "      <th>F_Statistic</th>\n",
       "    </tr>\n",
       "  </thead>\n",
       "  <tbody>\n",
       "    <tr>\n",
       "      <th>1</th>\n",
       "      <td>158.0</td>\n",
       "      <td>0.992</td>\n",
       "      <td>0.992</td>\n",
       "      <td>0.138</td>\n",
       "      <td>3880.407</td>\n",
       "    </tr>\n",
       "    <tr>\n",
       "      <th>2</th>\n",
       "      <td>158.0</td>\n",
       "      <td>0.976</td>\n",
       "      <td>0.976</td>\n",
       "      <td>0.239</td>\n",
       "      <td>3185.767</td>\n",
       "    </tr>\n",
       "    <tr>\n",
       "      <th>3</th>\n",
       "      <td>158.0</td>\n",
       "      <td>0.982</td>\n",
       "      <td>0.982</td>\n",
       "      <td>0.209</td>\n",
       "      <td>2106.934</td>\n",
       "    </tr>\n",
       "    <tr>\n",
       "      <th>4</th>\n",
       "      <td>158.0</td>\n",
       "      <td>0.053</td>\n",
       "      <td>0.035</td>\n",
       "      <td>1.516</td>\n",
       "      <td>2.881</td>\n",
       "    </tr>\n",
       "    <tr>\n",
       "      <th>5</th>\n",
       "      <td>158.0</td>\n",
       "      <td>0.026</td>\n",
       "      <td>0.020</td>\n",
       "      <td>1.527</td>\n",
       "      <td>4.158</td>\n",
       "    </tr>\n",
       "  </tbody>\n",
       "</table>\n",
       "</div>"
      ],
      "text/plain": [
       "0  Observations     R2  Adjusted_R2  Residual_Std.Error  F_Statistic\n",
       "1         158.0  0.992        0.992               0.138     3880.407\n",
       "2         158.0  0.976        0.976               0.239     3185.767\n",
       "3         158.0  0.982        0.982               0.209     2106.934\n",
       "4         158.0  0.053        0.035               1.516        2.881\n",
       "5         158.0  0.026        0.020               1.527        4.158"
      ]
     },
     "execution_count": 63,
     "metadata": {},
     "output_type": "execute_result"
    }
   ],
   "source": [
    "df = df.transpose()\n",
    "df"
   ]
  },
  {
   "cell_type": "code",
   "execution_count": 64,
   "id": "35534b29",
   "metadata": {},
   "outputs": [
    {
     "data": {
      "text/html": [
       "<div>\n",
       "<style scoped>\n",
       "    .dataframe tbody tr th:only-of-type {\n",
       "        vertical-align: middle;\n",
       "    }\n",
       "\n",
       "    .dataframe tbody tr th {\n",
       "        vertical-align: top;\n",
       "    }\n",
       "\n",
       "    .dataframe thead th {\n",
       "        text-align: right;\n",
       "    }\n",
       "</style>\n",
       "<table border=\"1\" class=\"dataframe\">\n",
       "  <thead>\n",
       "    <tr style=\"text-align: right;\">\n",
       "      <th></th>\n",
       "      <th>Observations</th>\n",
       "      <th>R2</th>\n",
       "      <th>Adjusted_R2</th>\n",
       "      <th>Residual_Std.Error</th>\n",
       "      <th>F_Statistic</th>\n",
       "      <th>m</th>\n",
       "    </tr>\n",
       "  </thead>\n",
       "  <tbody>\n",
       "    <tr>\n",
       "      <th>1</th>\n",
       "      <td>158.0</td>\n",
       "      <td>0.992</td>\n",
       "      <td>0.992</td>\n",
       "      <td>0.138</td>\n",
       "      <td>3880.407</td>\n",
       "      <td>6</td>\n",
       "    </tr>\n",
       "    <tr>\n",
       "      <th>2</th>\n",
       "      <td>158.0</td>\n",
       "      <td>0.976</td>\n",
       "      <td>0.976</td>\n",
       "      <td>0.239</td>\n",
       "      <td>3185.767</td>\n",
       "      <td>3</td>\n",
       "    </tr>\n",
       "    <tr>\n",
       "      <th>3</th>\n",
       "      <td>158.0</td>\n",
       "      <td>0.982</td>\n",
       "      <td>0.982</td>\n",
       "      <td>0.209</td>\n",
       "      <td>2106.934</td>\n",
       "      <td>5</td>\n",
       "    </tr>\n",
       "    <tr>\n",
       "      <th>4</th>\n",
       "      <td>158.0</td>\n",
       "      <td>0.053</td>\n",
       "      <td>0.035</td>\n",
       "      <td>1.516</td>\n",
       "      <td>2.881</td>\n",
       "      <td>4</td>\n",
       "    </tr>\n",
       "    <tr>\n",
       "      <th>5</th>\n",
       "      <td>158.0</td>\n",
       "      <td>0.026</td>\n",
       "      <td>0.020</td>\n",
       "      <td>1.527</td>\n",
       "      <td>4.158</td>\n",
       "      <td>2</td>\n",
       "    </tr>\n",
       "  </tbody>\n",
       "</table>\n",
       "</div>"
      ],
      "text/plain": [
       "0  Observations     R2  Adjusted_R2  Residual_Std.Error  F_Statistic  m\n",
       "1         158.0  0.992        0.992               0.138     3880.407  6\n",
       "2         158.0  0.976        0.976               0.239     3185.767  3\n",
       "3         158.0  0.982        0.982               0.209     2106.934  5\n",
       "4         158.0  0.053        0.035               1.516        2.881  4\n",
       "5         158.0  0.026        0.020               1.527        4.158  2"
      ]
     },
     "execution_count": 64,
     "metadata": {},
     "output_type": "execute_result"
    }
   ],
   "source": [
    "df['m'] = [6,3,5,4,2]\n",
    "df"
   ]
  },
  {
   "cell_type": "code",
   "execution_count": 65,
   "id": "4a2fff60",
   "metadata": {},
   "outputs": [
    {
     "data": {
      "text/html": [
       "<div>\n",
       "<style scoped>\n",
       "    .dataframe tbody tr th:only-of-type {\n",
       "        vertical-align: middle;\n",
       "    }\n",
       "\n",
       "    .dataframe tbody tr th {\n",
       "        vertical-align: top;\n",
       "    }\n",
       "\n",
       "    .dataframe thead th {\n",
       "        text-align: right;\n",
       "    }\n",
       "</style>\n",
       "<table border=\"1\" class=\"dataframe\">\n",
       "  <thead>\n",
       "    <tr style=\"text-align: right;\">\n",
       "      <th></th>\n",
       "      <th>Observations</th>\n",
       "      <th>R2</th>\n",
       "      <th>Adjusted_R2</th>\n",
       "      <th>Residual_Std.Error</th>\n",
       "      <th>F_Statistic</th>\n",
       "      <th>m</th>\n",
       "      <th>F_nab</th>\n",
       "    </tr>\n",
       "  </thead>\n",
       "  <tbody>\n",
       "    <tr>\n",
       "      <th>1</th>\n",
       "      <td>158.0</td>\n",
       "      <td>0.99</td>\n",
       "      <td>0.99</td>\n",
       "      <td>0.14</td>\n",
       "      <td>3880.41</td>\n",
       "      <td>6</td>\n",
       "      <td>3769.60</td>\n",
       "    </tr>\n",
       "    <tr>\n",
       "      <th>2</th>\n",
       "      <td>158.0</td>\n",
       "      <td>0.98</td>\n",
       "      <td>0.98</td>\n",
       "      <td>0.24</td>\n",
       "      <td>3185.77</td>\n",
       "      <td>3</td>\n",
       "      <td>3151.67</td>\n",
       "    </tr>\n",
       "    <tr>\n",
       "      <th>3</th>\n",
       "      <td>158.0</td>\n",
       "      <td>0.98</td>\n",
       "      <td>0.98</td>\n",
       "      <td>0.21</td>\n",
       "      <td>2106.93</td>\n",
       "      <td>5</td>\n",
       "      <td>2086.75</td>\n",
       "    </tr>\n",
       "    <tr>\n",
       "      <th>4</th>\n",
       "      <td>158.0</td>\n",
       "      <td>0.05</td>\n",
       "      <td>0.04</td>\n",
       "      <td>1.52</td>\n",
       "      <td>2.88</td>\n",
       "      <td>4</td>\n",
       "      <td>2.87</td>\n",
       "    </tr>\n",
       "    <tr>\n",
       "      <th>5</th>\n",
       "      <td>158.0</td>\n",
       "      <td>0.03</td>\n",
       "      <td>0.02</td>\n",
       "      <td>1.53</td>\n",
       "      <td>4.16</td>\n",
       "      <td>2</td>\n",
       "      <td>4.16</td>\n",
       "    </tr>\n",
       "  </tbody>\n",
       "</table>\n",
       "</div>"
      ],
      "text/plain": [
       "0  Observations    R2  Adjusted_R2  Residual_Std.Error  F_Statistic  m  \\\n",
       "1         158.0  0.99         0.99                0.14      3880.41  6   \n",
       "2         158.0  0.98         0.98                0.24      3185.77  3   \n",
       "3         158.0  0.98         0.98                0.21      2106.93  5   \n",
       "4         158.0  0.05         0.04                1.52         2.88  4   \n",
       "5         158.0  0.03         0.02                1.53         4.16  2   \n",
       "\n",
       "0    F_nab  \n",
       "1  3769.60  \n",
       "2  3151.67  \n",
       "3  2086.75  \n",
       "4     2.87  \n",
       "5     4.16  "
      ]
     },
     "execution_count": 65,
     "metadata": {},
     "output_type": "execute_result"
    }
   ],
   "source": [
    "df['F_nab'] = (df['R2']/(1-df['R2']))*((df['Observations']-df['m'])/(df['m']-1))\n",
    "df.round(2)"
   ]
  },
  {
   "cell_type": "code",
   "execution_count": 66,
   "id": "2ca0f9d6",
   "metadata": {},
   "outputs": [
    {
     "data": {
      "text/html": [
       "<div>\n",
       "<style scoped>\n",
       "    .dataframe tbody tr th:only-of-type {\n",
       "        vertical-align: middle;\n",
       "    }\n",
       "\n",
       "    .dataframe tbody tr th {\n",
       "        vertical-align: top;\n",
       "    }\n",
       "\n",
       "    .dataframe thead th {\n",
       "        text-align: right;\n",
       "    }\n",
       "</style>\n",
       "<table border=\"1\" class=\"dataframe\">\n",
       "  <thead>\n",
       "    <tr style=\"text-align: right;\">\n",
       "      <th></th>\n",
       "      <th>Observations</th>\n",
       "      <th>R2</th>\n",
       "      <th>Adjusted_R2</th>\n",
       "      <th>Residual_Std.Error</th>\n",
       "      <th>F_Statistic</th>\n",
       "      <th>m</th>\n",
       "      <th>F_nab</th>\n",
       "      <th>F_cr</th>\n",
       "    </tr>\n",
       "  </thead>\n",
       "  <tbody>\n",
       "    <tr>\n",
       "      <th>1</th>\n",
       "      <td>158.0</td>\n",
       "      <td>0.992</td>\n",
       "      <td>0.992</td>\n",
       "      <td>0.138</td>\n",
       "      <td>3880.407</td>\n",
       "      <td>6</td>\n",
       "      <td>3769.600</td>\n",
       "      <td>3.140</td>\n",
       "    </tr>\n",
       "    <tr>\n",
       "      <th>2</th>\n",
       "      <td>158.0</td>\n",
       "      <td>0.976</td>\n",
       "      <td>0.976</td>\n",
       "      <td>0.239</td>\n",
       "      <td>3185.767</td>\n",
       "      <td>3</td>\n",
       "      <td>3151.667</td>\n",
       "      <td>4.745</td>\n",
       "    </tr>\n",
       "    <tr>\n",
       "      <th>3</th>\n",
       "      <td>158.0</td>\n",
       "      <td>0.982</td>\n",
       "      <td>0.982</td>\n",
       "      <td>0.209</td>\n",
       "      <td>2106.934</td>\n",
       "      <td>5</td>\n",
       "      <td>2086.750</td>\n",
       "      <td>3.444</td>\n",
       "    </tr>\n",
       "    <tr>\n",
       "      <th>4</th>\n",
       "      <td>158.0</td>\n",
       "      <td>0.053</td>\n",
       "      <td>0.035</td>\n",
       "      <td>1.516</td>\n",
       "      <td>2.881</td>\n",
       "      <td>4</td>\n",
       "      <td>2.873</td>\n",
       "      <td>3.911</td>\n",
       "    </tr>\n",
       "    <tr>\n",
       "      <th>5</th>\n",
       "      <td>158.0</td>\n",
       "      <td>0.026</td>\n",
       "      <td>0.020</td>\n",
       "      <td>1.527</td>\n",
       "      <td>4.158</td>\n",
       "      <td>2</td>\n",
       "      <td>4.164</td>\n",
       "      <td>6.800</td>\n",
       "    </tr>\n",
       "  </tbody>\n",
       "</table>\n",
       "</div>"
      ],
      "text/plain": [
       "0  Observations     R2  Adjusted_R2  Residual_Std.Error  F_Statistic  m  \\\n",
       "1         158.0  0.992        0.992               0.138     3880.407  6   \n",
       "2         158.0  0.976        0.976               0.239     3185.767  3   \n",
       "3         158.0  0.982        0.982               0.209     2106.934  5   \n",
       "4         158.0  0.053        0.035               1.516        2.881  4   \n",
       "5         158.0  0.026        0.020               1.527        4.158  2   \n",
       "\n",
       "0     F_nab   F_cr  \n",
       "1  3769.600  3.140  \n",
       "2  3151.667  4.745  \n",
       "3  2086.750  3.444  \n",
       "4     2.873  3.911  \n",
       "5     4.164  6.800  "
      ]
     },
     "execution_count": 66,
     "metadata": {},
     "output_type": "execute_result"
    }
   ],
   "source": [
    "alpha = 0.01\n",
    "df['F_cr'] = stats.f.ppf(1-alpha,df['m']-1,df['Observations'] - df['m'])\n",
    "df.round(3)"
   ]
  },
  {
   "cell_type": "code",
   "execution_count": 67,
   "id": "df11e59d",
   "metadata": {},
   "outputs": [
    {
     "data": {
      "text/html": [
       "<div>\n",
       "<style scoped>\n",
       "    .dataframe tbody tr th:only-of-type {\n",
       "        vertical-align: middle;\n",
       "    }\n",
       "\n",
       "    .dataframe tbody tr th {\n",
       "        vertical-align: top;\n",
       "    }\n",
       "\n",
       "    .dataframe thead th {\n",
       "        text-align: right;\n",
       "    }\n",
       "</style>\n",
       "<table border=\"1\" class=\"dataframe\">\n",
       "  <thead>\n",
       "    <tr style=\"text-align: right;\">\n",
       "      <th></th>\n",
       "      <th>Observations</th>\n",
       "      <th>R2</th>\n",
       "      <th>Adjusted_R2</th>\n",
       "      <th>Residual_Std.Error</th>\n",
       "      <th>F_Statistic</th>\n",
       "      <th>m</th>\n",
       "      <th>F_nab</th>\n",
       "      <th>F_cr</th>\n",
       "      <th>znachimost</th>\n",
       "    </tr>\n",
       "  </thead>\n",
       "  <tbody>\n",
       "    <tr>\n",
       "      <th>1</th>\n",
       "      <td>158.0</td>\n",
       "      <td>0.992</td>\n",
       "      <td>0.992</td>\n",
       "      <td>0.138</td>\n",
       "      <td>3880.407</td>\n",
       "      <td>6</td>\n",
       "      <td>3769.600</td>\n",
       "      <td>3.140</td>\n",
       "      <td>znachima</td>\n",
       "    </tr>\n",
       "    <tr>\n",
       "      <th>2</th>\n",
       "      <td>158.0</td>\n",
       "      <td>0.976</td>\n",
       "      <td>0.976</td>\n",
       "      <td>0.239</td>\n",
       "      <td>3185.767</td>\n",
       "      <td>3</td>\n",
       "      <td>3151.667</td>\n",
       "      <td>4.745</td>\n",
       "      <td>znachima</td>\n",
       "    </tr>\n",
       "    <tr>\n",
       "      <th>3</th>\n",
       "      <td>158.0</td>\n",
       "      <td>0.982</td>\n",
       "      <td>0.982</td>\n",
       "      <td>0.209</td>\n",
       "      <td>2106.934</td>\n",
       "      <td>5</td>\n",
       "      <td>2086.750</td>\n",
       "      <td>3.444</td>\n",
       "      <td>znachima</td>\n",
       "    </tr>\n",
       "    <tr>\n",
       "      <th>4</th>\n",
       "      <td>158.0</td>\n",
       "      <td>0.053</td>\n",
       "      <td>0.035</td>\n",
       "      <td>1.516</td>\n",
       "      <td>2.881</td>\n",
       "      <td>4</td>\n",
       "      <td>2.873</td>\n",
       "      <td>3.911</td>\n",
       "      <td>neznachimo</td>\n",
       "    </tr>\n",
       "    <tr>\n",
       "      <th>5</th>\n",
       "      <td>158.0</td>\n",
       "      <td>0.026</td>\n",
       "      <td>0.020</td>\n",
       "      <td>1.527</td>\n",
       "      <td>4.158</td>\n",
       "      <td>2</td>\n",
       "      <td>4.164</td>\n",
       "      <td>6.800</td>\n",
       "      <td>neznachimo</td>\n",
       "    </tr>\n",
       "  </tbody>\n",
       "</table>\n",
       "</div>"
      ],
      "text/plain": [
       "0  Observations     R2  Adjusted_R2  Residual_Std.Error  F_Statistic  m  \\\n",
       "1         158.0  0.992        0.992               0.138     3880.407  6   \n",
       "2         158.0  0.976        0.976               0.239     3185.767  3   \n",
       "3         158.0  0.982        0.982               0.209     2106.934  5   \n",
       "4         158.0  0.053        0.035               1.516        2.881  4   \n",
       "5         158.0  0.026        0.020               1.527        4.158  2   \n",
       "\n",
       "0     F_nab   F_cr  znachimost  \n",
       "1  3769.600  3.140    znachima  \n",
       "2  3151.667  4.745    znachima  \n",
       "3  2086.750  3.444    znachima  \n",
       "4     2.873  3.911  neznachimo  \n",
       "5     4.164  6.800  neznachimo  "
      ]
     },
     "execution_count": 67,
     "metadata": {},
     "output_type": "execute_result"
    }
   ],
   "source": [
    "df['znachimost'] = df.apply(lambda x : 'znachima' if x['F_nab'] > x['F_cr'] else 'neznachimo', axis = 1)\n",
    "df.round(3)"
   ]
  },
  {
   "cell_type": "markdown",
   "id": "4711ca98",
   "metadata": {},
   "source": [
    "# 2 F-тест: совместная значимость"
   ]
  },
  {
   "cell_type": "markdown",
   "id": "5dd9d4de",
   "metadata": {},
   "source": [
    "#  Задача 2.1 sleep equation #1"
   ]
  },
  {
   "cell_type": "markdown",
   "id": "3e901a26",
   "metadata": {},
   "source": [
    "$$H_0: \\beta_{marr} = \\beta_{union} = \\beta_{ynkid} = \\beta_{smsa} = 0$$\n",
    "$$H_1: \\beta_{marr}^2 + \\beta_{union}^2  + \\beta_{unkid} + \\beta_{smsa}^2 > 0$$"
   ]
  },
  {
   "cell_type": "code",
   "execution_count": 68,
   "id": "a5811249",
   "metadata": {},
   "outputs": [
    {
     "name": "stdout",
     "output_type": "stream",
     "text": [
      "0.131 0.127\n"
     ]
    }
   ],
   "source": [
    "unrest ,rest = np.float_( re.findall(r'([-+]?\\d+.\\d+)', 'R2                     0.131          0.127   '))\n",
    "print(unrest,rest)"
   ]
  },
  {
   "cell_type": "code",
   "execution_count": 69,
   "id": "de4899a3",
   "metadata": {},
   "outputs": [
    {
     "data": {
      "text/plain": [
       "0.802"
      ]
     },
     "execution_count": 69,
     "metadata": {},
     "output_type": "execute_result"
    }
   ],
   "source": [
    "F_obs = (unrest - rest)/(1 - unrest)*(706 - 9)/(4)\n",
    "F_obs.round(3)"
   ]
  },
  {
   "cell_type": "code",
   "execution_count": 70,
   "id": "a9bb42cf",
   "metadata": {},
   "outputs": [
    {
     "data": {
      "text/plain": [
       "2.385"
      ]
     },
     "execution_count": 70,
     "metadata": {},
     "output_type": "execute_result"
    }
   ],
   "source": [
    "alpha = 0.05\n",
    "F_crit = stats.f.ppf(1 - alpha, 4, 706 - 9)\n",
    "F_crit.round(3)"
   ]
  },
  {
   "cell_type": "markdown",
   "id": "5170a62c",
   "metadata": {},
   "source": [
    "$F_{obs} < F_{cr}$ следовательно данные согласуются с $H_0$. Коэффициенты совместно незначимы"
   ]
  },
  {
   "cell_type": "markdown",
   "id": "d8294b68",
   "metadata": {},
   "source": [
    "#  Задача 2.2 sleep equation #2"
   ]
  },
  {
   "cell_type": "markdown",
   "id": "9ffd5e27",
   "metadata": {},
   "source": [
    "$$H_0: \\beta_{age} = \\beta_{age}^2 = 0$$\n",
    "$$H_1: \\beta_{age} + \\beta_{age}^2 > 0$$"
   ]
  },
  {
   "cell_type": "code",
   "execution_count": 72,
   "id": "124eb3f9",
   "metadata": {},
   "outputs": [
    {
     "name": "stdout",
     "output_type": "stream",
     "text": [
      "0.128 0.122\n"
     ]
    }
   ],
   "source": [
    "unrest ,rest = np.float_( re.findall(r'([-+]?\\d+.\\d+)', 'R2                      0.128          0.122  '))\n",
    "print(unrest,rest)"
   ]
  },
  {
   "cell_type": "code",
   "execution_count": 75,
   "id": "41f46d19",
   "metadata": {},
   "outputs": [
    {
     "data": {
      "text/plain": [
       "2.408"
      ]
     },
     "execution_count": 75,
     "metadata": {},
     "output_type": "execute_result"
    }
   ],
   "source": [
    "F_obs = (unrest - rest)/(1 - unrest)*(706 - 6)/(2)\n",
    "F_obs.round(3)"
   ]
  },
  {
   "cell_type": "code",
   "execution_count": 82,
   "id": "f1303729",
   "metadata": {},
   "outputs": [
    {
     "data": {
      "text/plain": [
       "4.636"
      ]
     },
     "execution_count": 82,
     "metadata": {},
     "output_type": "execute_result"
    }
   ],
   "source": [
    "alpha = 0.01\n",
    "F_crit = stats.f.ppf(1 - alpha, 2, 706 - 6)\n",
    "F_crit.round(3)"
   ]
  },
  {
   "cell_type": "markdown",
   "id": "b4940163",
   "metadata": {},
   "source": [
    "$F_{obs} < F_{cr}$ следовательно данные согласуются с $H_0$. Коэффициенты совместно незначимы"
   ]
  },
  {
   "cell_type": "markdown",
   "id": "76a198f5",
   "metadata": {},
   "source": [
    "#  Задача 2.3 sleep equation #3"
   ]
  },
  {
   "cell_type": "markdown",
   "id": "7b056c54",
   "metadata": {},
   "source": [
    "$$H_0: \\beta_{male} = \\beta_{male*totwrk} = 0$$\n",
    "$$H_1: \\beta_{male} + \\beta_{male*totwrk} > 0$$"
   ]
  },
  {
   "cell_type": "code",
   "execution_count": 84,
   "id": "258bd80c",
   "metadata": {},
   "outputs": [
    {
     "name": "stdout",
     "output_type": "stream",
     "text": [
      "0.129 0.119\n"
     ]
    }
   ],
   "source": [
    "unrest ,rest = np.float_( re.findall(r'([-+]?\\d+.\\d+)', 'R2                      0.129          0.119 '))\n",
    "print(unrest,rest)"
   ]
  },
  {
   "cell_type": "code",
   "execution_count": 85,
   "id": "acff6501",
   "metadata": {},
   "outputs": [
    {
     "data": {
      "text/plain": [
       "4.013"
      ]
     },
     "execution_count": 85,
     "metadata": {},
     "output_type": "execute_result"
    }
   ],
   "source": [
    "F_obs = (unrest - rest)/(1 - unrest)*(706 - 7)/(2)\n",
    "F_obs.round(3)"
   ]
  },
  {
   "cell_type": "code",
   "execution_count": 86,
   "id": "39e1ec93",
   "metadata": {},
   "outputs": [
    {
     "data": {
      "text/plain": [
       "4.636"
      ]
     },
     "execution_count": 86,
     "metadata": {},
     "output_type": "execute_result"
    }
   ],
   "source": [
    "alpha = 0.01\n",
    "F_crit = stats.f.ppf(1 - alpha, 2, 706 - 7)\n",
    "F_crit.round(3)"
   ]
  },
  {
   "cell_type": "markdown",
   "id": "ba108d0c",
   "metadata": {},
   "source": [
    "$F_{obs} < F_{cr}$ следовательно данные согласуются с $H_0$. Коэффициенты совместно незначимы"
   ]
  },
  {
   "cell_type": "markdown",
   "id": "a465da56",
   "metadata": {},
   "source": [
    "#  Задача 2.4 wage equation #1"
   ]
  },
  {
   "cell_type": "markdown",
   "id": "b8f23b5f",
   "metadata": {},
   "source": [
    "$$H_0: \\beta_{age} = \\beta_{age^2} = 0$$\n",
    "$$H_1: \\beta_{age} + \\beta_{age^2} > 0$$"
   ]
  },
  {
   "cell_type": "code",
   "execution_count": 87,
   "id": "5650c03f",
   "metadata": {},
   "outputs": [
    {
     "name": "stdout",
     "output_type": "stream",
     "text": [
      "0.201 0.175\n"
     ]
    }
   ],
   "source": [
    "unrest ,rest = np.float_( re.findall(r'([-+]?\\d+.\\d+)', 'R2                      0.201          0.175  '))\n",
    "print(unrest,rest)"
   ]
  },
  {
   "cell_type": "code",
   "execution_count": 89,
   "id": "614d5827",
   "metadata": {},
   "outputs": [
    {
     "data": {
      "text/plain": [
       "15.099"
      ]
     },
     "execution_count": 89,
     "metadata": {},
     "output_type": "execute_result"
    }
   ],
   "source": [
    "F_obs = (unrest - rest)/(1 - unrest)*(935 - 7)/(2)\n",
    "F_obs.round(3)"
   ]
  },
  {
   "cell_type": "code",
   "execution_count": 90,
   "id": "a59272cd",
   "metadata": {},
   "outputs": [
    {
     "data": {
      "text/plain": [
       "4.628"
      ]
     },
     "execution_count": 90,
     "metadata": {},
     "output_type": "execute_result"
    }
   ],
   "source": [
    "alpha = 0.01\n",
    "F_crit = stats.f.ppf(1 - alpha, 2, 935 - 7)\n",
    "F_crit.round(3)"
   ]
  },
  {
   "cell_type": "markdown",
   "id": "bbf1bc54",
   "metadata": {},
   "source": [
    "$F_{obs} > F_{cr}$ следовательно данные согласуются с $H_1$. Коэффициенты совместно значимы"
   ]
  },
  {
   "cell_type": "markdown",
   "id": "ae785127",
   "metadata": {},
   "source": [
    "# 3 F-тест: структурные ограничения"
   ]
  },
  {
   "cell_type": "markdown",
   "id": "357ed120",
   "metadata": {},
   "source": [
    "# Задача 3.1 cost equation"
   ]
  },
  {
   "cell_type": "code",
   "execution_count": 3,
   "id": "710f5e8e",
   "metadata": {},
   "outputs": [
    {
     "data": {
      "text/plain": [
       "(158, 8)"
      ]
     },
     "execution_count": 3,
     "metadata": {},
     "output_type": "execute_result"
    }
   ],
   "source": [
    "data2 = pd.read_csv('https://raw.githubusercontent.com/artamonoff/Econometrica/master/python-notebooks/data-csv/Electricity.csv')\n",
    "data2.shape"
   ]
  },
  {
   "cell_type": "code",
   "execution_count": 8,
   "id": "74e0f64e",
   "metadata": {},
   "outputs": [
    {
     "data": {
      "text/html": [
       "<table class=\"simpletable\">\n",
       "<caption>OLS Regression Results</caption>\n",
       "<tr>\n",
       "  <th>Dep. Variable:</th>      <td>np.log(cost)</td>   <th>  R-squared:         </th> <td>   0.992</td> \n",
       "</tr>\n",
       "<tr>\n",
       "  <th>Model:</th>                   <td>OLS</td>       <th>  Adj. R-squared:    </th> <td>   0.992</td> \n",
       "</tr>\n",
       "<tr>\n",
       "  <th>Method:</th>             <td>Least Squares</td>  <th>  F-statistic:       </th> <td>   3880.</td> \n",
       "</tr>\n",
       "<tr>\n",
       "  <th>Date:</th>             <td>Fri, 31 Mar 2023</td> <th>  Prob (F-statistic):</th> <td>2.45e-158</td>\n",
       "</tr>\n",
       "<tr>\n",
       "  <th>Time:</th>                 <td>16:16:53</td>     <th>  Log-Likelihood:    </th> <td>  91.515</td> \n",
       "</tr>\n",
       "<tr>\n",
       "  <th>No. Observations:</th>      <td>   158</td>      <th>  AIC:               </th> <td>  -171.0</td> \n",
       "</tr>\n",
       "<tr>\n",
       "  <th>Df Residuals:</th>          <td>   152</td>      <th>  BIC:               </th> <td>  -152.7</td> \n",
       "</tr>\n",
       "<tr>\n",
       "  <th>Df Model:</th>              <td>     5</td>      <th>                     </th>     <td> </td>    \n",
       "</tr>\n",
       "<tr>\n",
       "  <th>Covariance Type:</th>      <td>nonrobust</td>    <th>                     </th>     <td> </td>    \n",
       "</tr>\n",
       "</table>\n",
       "<table class=\"simpletable\">\n",
       "<tr>\n",
       "          <td></td>             <th>coef</th>     <th>std err</th>      <th>t</th>      <th>P>|t|</th>  <th>[0.025</th>    <th>0.975]</th>  \n",
       "</tr>\n",
       "<tr>\n",
       "  <th>Intercept</th>         <td>   -6.7387</td> <td>    0.706</td> <td>   -9.541</td> <td> 0.000</td> <td>   -8.134</td> <td>   -5.343</td>\n",
       "</tr>\n",
       "<tr>\n",
       "  <th>np.log(q)</th>         <td>    0.4030</td> <td>    0.032</td> <td>   12.734</td> <td> 0.000</td> <td>    0.340</td> <td>    0.466</td>\n",
       "</tr>\n",
       "<tr>\n",
       "  <th>I(np.log(q) ** 2)</th> <td>    0.0304</td> <td>    0.002</td> <td>   14.024</td> <td> 0.000</td> <td>    0.026</td> <td>    0.035</td>\n",
       "</tr>\n",
       "<tr>\n",
       "  <th>np.log(pl)</th>        <td>    0.1461</td> <td>    0.070</td> <td>    2.073</td> <td> 0.040</td> <td>    0.007</td> <td>    0.285</td>\n",
       "</tr>\n",
       "<tr>\n",
       "  <th>np.log(pk)</th>        <td>    0.1571</td> <td>    0.058</td> <td>    2.721</td> <td> 0.007</td> <td>    0.043</td> <td>    0.271</td>\n",
       "</tr>\n",
       "<tr>\n",
       "  <th>np.log(pf)</th>        <td>    0.6847</td> <td>    0.043</td> <td>   16.043</td> <td> 0.000</td> <td>    0.600</td> <td>    0.769</td>\n",
       "</tr>\n",
       "</table>\n",
       "<table class=\"simpletable\">\n",
       "<tr>\n",
       "  <th>Omnibus:</th>       <td> 2.342</td> <th>  Durbin-Watson:     </th> <td>   1.798</td>\n",
       "</tr>\n",
       "<tr>\n",
       "  <th>Prob(Omnibus):</th> <td> 0.310</td> <th>  Jarque-Bera (JB):  </th> <td>   2.078</td>\n",
       "</tr>\n",
       "<tr>\n",
       "  <th>Skew:</th>          <td> 0.109</td> <th>  Prob(JB):          </th> <td>   0.354</td>\n",
       "</tr>\n",
       "<tr>\n",
       "  <th>Kurtosis:</th>      <td> 3.518</td> <th>  Cond. No.          </th> <td>4.99e+03</td>\n",
       "</tr>\n",
       "</table><br/><br/>Notes:<br/>[1] Standard Errors assume that the covariance matrix of the errors is correctly specified.<br/>[2] The condition number is large, 4.99e+03. This might indicate that there are<br/>strong multicollinearity or other numerical problems."
      ],
      "text/plain": [
       "<class 'statsmodels.iolib.summary.Summary'>\n",
       "\"\"\"\n",
       "                            OLS Regression Results                            \n",
       "==============================================================================\n",
       "Dep. Variable:           np.log(cost)   R-squared:                       0.992\n",
       "Model:                            OLS   Adj. R-squared:                  0.992\n",
       "Method:                 Least Squares   F-statistic:                     3880.\n",
       "Date:                Fri, 31 Mar 2023   Prob (F-statistic):          2.45e-158\n",
       "Time:                        16:16:53   Log-Likelihood:                 91.515\n",
       "No. Observations:                 158   AIC:                            -171.0\n",
       "Df Residuals:                     152   BIC:                            -152.7\n",
       "Df Model:                           5                                         \n",
       "Covariance Type:            nonrobust                                         \n",
       "=====================================================================================\n",
       "                        coef    std err          t      P>|t|      [0.025      0.975]\n",
       "-------------------------------------------------------------------------------------\n",
       "Intercept            -6.7387      0.706     -9.541      0.000      -8.134      -5.343\n",
       "np.log(q)             0.4030      0.032     12.734      0.000       0.340       0.466\n",
       "I(np.log(q) ** 2)     0.0304      0.002     14.024      0.000       0.026       0.035\n",
       "np.log(pl)            0.1461      0.070      2.073      0.040       0.007       0.285\n",
       "np.log(pk)            0.1571      0.058      2.721      0.007       0.043       0.271\n",
       "np.log(pf)            0.6847      0.043     16.043      0.000       0.600       0.769\n",
       "==============================================================================\n",
       "Omnibus:                        2.342   Durbin-Watson:                   1.798\n",
       "Prob(Omnibus):                  0.310   Jarque-Bera (JB):                2.078\n",
       "Skew:                           0.109   Prob(JB):                        0.354\n",
       "Kurtosis:                       3.518   Cond. No.                     4.99e+03\n",
       "==============================================================================\n",
       "\n",
       "Notes:\n",
       "[1] Standard Errors assume that the covariance matrix of the errors is correctly specified.\n",
       "[2] The condition number is large, 4.99e+03. This might indicate that there are\n",
       "strong multicollinearity or other numerical problems.\n",
       "\"\"\""
      ]
     },
     "execution_count": 8,
     "metadata": {},
     "output_type": "execute_result"
    }
   ],
   "source": [
    "mod31 =smf.ols(formula='np.log(cost) ~ np.log(q)+I(np.log(q)**2)+np.log(pl)+np.log(pk)+np.log(pf)', data=data2)\n",
    "сost_eq31 = mod31.fit()\n",
    "сost_eq31.summary()"
   ]
  },
  {
   "cell_type": "code",
   "execution_count": 12,
   "id": "2027bfa4",
   "metadata": {},
   "outputs": [
    {
     "name": "stdout",
     "output_type": "stream",
     "text": [
      "Уровень значимости alpha:  0.01\n",
      "Критическое значение t_crit:  2.609\n"
     ]
    }
   ],
   "source": [
    "alpha = 0.01 \n",
    "print('Уровень значимости alpha: ', alpha)\n",
    "df = int(сost_eq31.df_resid)\n",
    "t_crit = stats.t.ppf(1-alpha/2, df)\n",
    "print('Критическое значение t_crit: ', t_crit.round(3))"
   ]
  },
  {
   "cell_type": "code",
   "execution_count": 15,
   "id": "05584b21",
   "metadata": {},
   "outputs": [
    {
     "data": {
      "text/html": [
       "<div>\n",
       "<style scoped>\n",
       "    .dataframe tbody tr th:only-of-type {\n",
       "        vertical-align: middle;\n",
       "    }\n",
       "\n",
       "    .dataframe tbody tr th {\n",
       "        vertical-align: top;\n",
       "    }\n",
       "\n",
       "    .dataframe thead th {\n",
       "        text-align: right;\n",
       "    }\n",
       "</style>\n",
       "<table border=\"1\" class=\"dataframe\">\n",
       "  <thead>\n",
       "    <tr style=\"text-align: right;\">\n",
       "      <th></th>\n",
       "      <th>coef</th>\n",
       "      <th>std err</th>\n",
       "      <th>t</th>\n",
       "      <th>P&gt;|t|</th>\n",
       "      <th>[0.025</th>\n",
       "      <th>0.975]</th>\n",
       "      <th>significance</th>\n",
       "    </tr>\n",
       "  </thead>\n",
       "  <tbody>\n",
       "    <tr>\n",
       "      <th>Intercept</th>\n",
       "      <td>-6.7387</td>\n",
       "      <td>0.706</td>\n",
       "      <td>-9.541</td>\n",
       "      <td>0.000</td>\n",
       "      <td>-8.134</td>\n",
       "      <td>-5.343</td>\n",
       "      <td>Значим</td>\n",
       "    </tr>\n",
       "    <tr>\n",
       "      <th>np.log(q)</th>\n",
       "      <td>0.4030</td>\n",
       "      <td>0.032</td>\n",
       "      <td>12.734</td>\n",
       "      <td>0.000</td>\n",
       "      <td>0.340</td>\n",
       "      <td>0.466</td>\n",
       "      <td>Значим</td>\n",
       "    </tr>\n",
       "    <tr>\n",
       "      <th>I(np.log(q) ** 2)</th>\n",
       "      <td>0.0304</td>\n",
       "      <td>0.002</td>\n",
       "      <td>14.024</td>\n",
       "      <td>0.000</td>\n",
       "      <td>0.026</td>\n",
       "      <td>0.035</td>\n",
       "      <td>Значим</td>\n",
       "    </tr>\n",
       "    <tr>\n",
       "      <th>np.log(pl)</th>\n",
       "      <td>0.1461</td>\n",
       "      <td>0.070</td>\n",
       "      <td>2.073</td>\n",
       "      <td>0.040</td>\n",
       "      <td>0.007</td>\n",
       "      <td>0.285</td>\n",
       "      <td>Незначим</td>\n",
       "    </tr>\n",
       "    <tr>\n",
       "      <th>np.log(pk)</th>\n",
       "      <td>0.1571</td>\n",
       "      <td>0.058</td>\n",
       "      <td>2.721</td>\n",
       "      <td>0.007</td>\n",
       "      <td>0.043</td>\n",
       "      <td>0.271</td>\n",
       "      <td>Значим</td>\n",
       "    </tr>\n",
       "    <tr>\n",
       "      <th>np.log(pf)</th>\n",
       "      <td>0.6847</td>\n",
       "      <td>0.043</td>\n",
       "      <td>16.043</td>\n",
       "      <td>0.000</td>\n",
       "      <td>0.600</td>\n",
       "      <td>0.769</td>\n",
       "      <td>Значим</td>\n",
       "    </tr>\n",
       "  </tbody>\n",
       "</table>\n",
       "</div>"
      ],
      "text/plain": [
       "                     coef  std err       t  P>|t|  [0.025  0.975] significance\n",
       "Intercept         -6.7387    0.706  -9.541  0.000  -8.134  -5.343       Значим\n",
       "np.log(q)          0.4030    0.032  12.734  0.000   0.340   0.466       Значим\n",
       "I(np.log(q) ** 2)  0.0304    0.002  14.024  0.000   0.026   0.035       Значим\n",
       "np.log(pl)         0.1461    0.070   2.073  0.040   0.007   0.285     Незначим\n",
       "np.log(pk)         0.1571    0.058   2.721  0.007   0.043   0.271       Значим\n",
       "np.log(pf)         0.6847    0.043  16.043  0.000   0.600   0.769       Значим"
      ]
     },
     "execution_count": 15,
     "metadata": {},
     "output_type": "execute_result"
    }
   ],
   "source": [
    "table2 = pd.read_html(сost_eq31.summary().tables[1].as_html(), header=0, index_col=0)[0] \n",
    "table2['significance'] = table2.apply(lambda x : 'Значим' if np.abs(x['t']) > t_crit else 'Незначим', axis = 1 )\n",
    "table2"
   ]
  },
  {
   "cell_type": "markdown",
   "id": "e63511e1",
   "metadata": {},
   "source": [
    "# 3.1.1 Гипотеза 1"
   ]
  },
  {
   "cell_type": "markdown",
   "id": "e580f8fd",
   "metadata": {},
   "source": [
    "$$H_0: \\beta_{pf}+\\beta_{pl}+\\beta_{pk}=1$$"
   ]
  },
  {
   "cell_type": "markdown",
   "id": "65b5601b",
   "metadata": {},
   "source": [
    "# Интерпритация"
   ]
  },
  {
   "cell_type": "markdown",
   "id": "191ec731",
   "metadata": {},
   "source": [
    "Постоянная отдача  от  $log(pl), log(pk)$ и $log(pf)$"
   ]
  },
  {
   "cell_type": "code",
   "execution_count": 17,
   "id": "f694b91c",
   "metadata": {},
   "outputs": [
    {
     "name": "stdout",
     "output_type": "stream",
     "text": [
      "<F test: F=0.01454118487627077, p=0.9041775484872097, df_denom=152, df_num=1>\n"
     ]
    }
   ],
   "source": [
    "print(сost_eq31.f_test(\"np.log(pl)+np.log(pk)+np.log(pf) = 1\"))"
   ]
  },
  {
   "cell_type": "code",
   "execution_count": 18,
   "id": "1efa25e2",
   "metadata": {},
   "outputs": [
    {
     "name": "stdout",
     "output_type": "stream",
     "text": [
      "Уровень значимости alpha:  0.01\n",
      "J = 1 ,  n-k-1 = 152\n",
      "F-critical:  6.805\n"
     ]
    }
   ],
   "source": [
    "alpha = 0.01 \n",
    "print('Уровень значимости alpha: ', alpha)\n",
    "dfn = int(1) \n",
    "dfd = int(сost_eq31.df_resid) \n",
    "print(\"J =\", dfn,\", \", \"n-k-1 =\", dfd)\n",
    "F_crit = stats.f.ppf(1-alpha, dfn, dfd)\n",
    "print(\"F-critical: \", F_crit.round(3))"
   ]
  },
  {
   "cell_type": "markdown",
   "id": "eca3e194",
   "metadata": {},
   "source": [
    "Гипотезу 1 не отвергаем"
   ]
  },
  {
   "cell_type": "markdown",
   "id": "841ba216",
   "metadata": {},
   "source": [
    "# 3.1.2 Гипотеза 2"
   ]
  },
  {
   "cell_type": "markdown",
   "id": "73c04400",
   "metadata": {},
   "source": [
    "$$H_0: \\beta_{pl} = \\beta_{pk}$$"
   ]
  },
  {
   "cell_type": "markdown",
   "id": "a56ef6f8",
   "metadata": {},
   "source": [
    "Интерпретация: отдача от $log(pl)$ и отдача от $log(pk)$ равны"
   ]
  },
  {
   "cell_type": "code",
   "execution_count": 21,
   "id": "b06e6664",
   "metadata": {},
   "outputs": [
    {
     "name": "stdout",
     "output_type": "stream",
     "text": [
      "<F test: F=0.02008627589852221, p=0.8874840609151121, df_denom=152, df_num=1>\n"
     ]
    }
   ],
   "source": [
    "print(сost_eq31.f_test(\"np.log(pl) = np.log(pk)\"))"
   ]
  },
  {
   "cell_type": "code",
   "execution_count": 22,
   "id": "99161231",
   "metadata": {},
   "outputs": [
    {
     "name": "stdout",
     "output_type": "stream",
     "text": [
      "Уровень значимости alpha:  0.01\n",
      "J = 1 ,  n-k-1 = 152\n",
      "F-critical:  6.805\n"
     ]
    }
   ],
   "source": [
    "alpha = 0.01\n",
    "print('Уровень значимости alpha: ', alpha)\n",
    "dfn = int(1) \n",
    "dfd = int(сost_eq31.df_resid) \n",
    "print(\"J =\", dfn,\", \", \"n-k-1 =\", dfd)\n",
    "F_crit = stats.f.ppf(1-alpha, dfn, dfd)\n",
    "print(\"F-critical: \", F_crit.round(3))"
   ]
  },
  {
   "cell_type": "markdown",
   "id": "0a367c65",
   "metadata": {},
   "source": [
    "Гипотезу 2 не отвергаем"
   ]
  },
  {
   "cell_type": "markdown",
   "id": "8afb98c6",
   "metadata": {},
   "source": [
    "# 3.1.3 Гипотеза 3"
   ]
  },
  {
   "cell_type": "markdown",
   "id": "6053dc0c",
   "metadata": {},
   "source": [
    "$$H_0: \\beta_{pf} = \\beta_{pl} = \\beta_{pk}$$"
   ]
  },
  {
   "cell_type": "markdown",
   "id": "2ffa9272",
   "metadata": {},
   "source": [
    "Интерпритация: отдача от $log(pf)$, отадча от $log(pl)$ и отдача от $log(pk)$ равны"
   ]
  },
  {
   "cell_type": "code",
   "execution_count": 24,
   "id": "7f66c7e2",
   "metadata": {},
   "outputs": [
    {
     "name": "stdout",
     "output_type": "stream",
     "text": [
      "<F test: F=26.41708068625231, p=1.424069501505384e-10, df_denom=152, df_num=2>\n"
     ]
    }
   ],
   "source": [
    "print(сost_eq31.f_test(\"np.log(pf)=np.log(pl)=np.log(pk)\")) "
   ]
  },
  {
   "cell_type": "code",
   "execution_count": 25,
   "id": "64afaea2",
   "metadata": {},
   "outputs": [
    {
     "name": "stdout",
     "output_type": "stream",
     "text": [
      "Уровень значимости alpha:  0.01\n",
      "J = 2 ,  n-k-1 = 152\n",
      "F-critical:  4.748\n"
     ]
    }
   ],
   "source": [
    "alpha = 0.01 \n",
    "print('Уровень значимости alpha: ', alpha)\n",
    "dfn = int(2) \n",
    "dfd = int(сost_eq31.df_resid) \n",
    "print(\"J =\", dfn,\", \", \"n-k-1 =\", dfd)\n",
    "F_crit = stats.f.ppf(1-alpha, dfn, dfd)\n",
    "print(\"F-critical: \", F_crit.round(3))"
   ]
  },
  {
   "cell_type": "markdown",
   "id": "974216d8",
   "metadata": {},
   "source": [
    "Гипотезу 3 отвергаем"
   ]
  },
  {
   "cell_type": "markdown",
   "id": "95582d8e",
   "metadata": {},
   "source": [
    "# Задача 3.2 output equation"
   ]
  },
  {
   "cell_type": "code",
   "execution_count": 26,
   "id": "3a63262a",
   "metadata": {},
   "outputs": [
    {
     "data": {
      "text/plain": [
       "(569, 4)"
      ]
     },
     "execution_count": 26,
     "metadata": {},
     "output_type": "execute_result"
    }
   ],
   "source": [
    "data3 = pd.read_csv('https://raw.githubusercontent.com/artamonoff/Econometrica/master/python-notebooks/data-csv/Labour.csv')\n",
    "data3.shape"
   ]
  },
  {
   "cell_type": "code",
   "execution_count": 27,
   "id": "4f7438b9",
   "metadata": {},
   "outputs": [
    {
     "data": {
      "text/html": [
       "<table class=\"simpletable\">\n",
       "<caption>OLS Regression Results</caption>\n",
       "<tr>\n",
       "  <th>Dep. Variable:</th>     <td>np.log(output)</td>  <th>  R-squared:         </th> <td>   0.888</td> \n",
       "</tr>\n",
       "<tr>\n",
       "  <th>Model:</th>                   <td>OLS</td>       <th>  Adj. R-squared:    </th> <td>   0.888</td> \n",
       "</tr>\n",
       "<tr>\n",
       "  <th>Method:</th>             <td>Least Squares</td>  <th>  F-statistic:       </th> <td>   1499.</td> \n",
       "</tr>\n",
       "<tr>\n",
       "  <th>Date:</th>             <td>Fri, 31 Mar 2023</td> <th>  Prob (F-statistic):</th> <td>1.65e-268</td>\n",
       "</tr>\n",
       "<tr>\n",
       "  <th>Time:</th>                 <td>17:10:01</td>     <th>  Log-Likelihood:    </th> <td> -279.62</td> \n",
       "</tr>\n",
       "<tr>\n",
       "  <th>No. Observations:</th>      <td>   569</td>      <th>  AIC:               </th> <td>   567.2</td> \n",
       "</tr>\n",
       "<tr>\n",
       "  <th>Df Residuals:</th>          <td>   565</td>      <th>  BIC:               </th> <td>   584.6</td> \n",
       "</tr>\n",
       "<tr>\n",
       "  <th>Df Model:</th>              <td>     3</td>      <th>                     </th>     <td> </td>    \n",
       "</tr>\n",
       "<tr>\n",
       "  <th>Covariance Type:</th>      <td>nonrobust</td>    <th>                     </th>     <td> </td>    \n",
       "</tr>\n",
       "</table>\n",
       "<table class=\"simpletable\">\n",
       "<tr>\n",
       "         <td></td>            <th>coef</th>     <th>std err</th>      <th>t</th>      <th>P>|t|</th>  <th>[0.025</th>    <th>0.975]</th>  \n",
       "</tr>\n",
       "<tr>\n",
       "  <th>Intercept</th>       <td>   -5.0073</td> <td>    0.221</td> <td>  -22.649</td> <td> 0.000</td> <td>   -5.442</td> <td>   -4.573</td>\n",
       "</tr>\n",
       "<tr>\n",
       "  <th>np.log(capital)</th> <td>    0.1493</td> <td>    0.015</td> <td>   10.141</td> <td> 0.000</td> <td>    0.120</td> <td>    0.178</td>\n",
       "</tr>\n",
       "<tr>\n",
       "  <th>np.log(labour)</th>  <td>    0.7204</td> <td>    0.019</td> <td>   37.487</td> <td> 0.000</td> <td>    0.683</td> <td>    0.758</td>\n",
       "</tr>\n",
       "<tr>\n",
       "  <th>np.log(wage)</th>    <td>    0.9214</td> <td>    0.058</td> <td>   16.001</td> <td> 0.000</td> <td>    0.808</td> <td>    1.034</td>\n",
       "</tr>\n",
       "</table>\n",
       "<table class=\"simpletable\">\n",
       "<tr>\n",
       "  <th>Omnibus:</th>       <td>252.010</td> <th>  Durbin-Watson:     </th> <td>   2.008</td>\n",
       "</tr>\n",
       "<tr>\n",
       "  <th>Prob(Omnibus):</th> <td> 0.000</td>  <th>  Jarque-Bera (JB):  </th> <td>3723.965</td>\n",
       "</tr>\n",
       "<tr>\n",
       "  <th>Skew:</th>          <td> 1.547</td>  <th>  Prob(JB):          </th> <td>    0.00</td>\n",
       "</tr>\n",
       "<tr>\n",
       "  <th>Kurtosis:</th>      <td>15.145</td>  <th>  Cond. No.          </th> <td>    82.3</td>\n",
       "</tr>\n",
       "</table><br/><br/>Notes:<br/>[1] Standard Errors assume that the covariance matrix of the errors is correctly specified."
      ],
      "text/plain": [
       "<class 'statsmodels.iolib.summary.Summary'>\n",
       "\"\"\"\n",
       "                            OLS Regression Results                            \n",
       "==============================================================================\n",
       "Dep. Variable:         np.log(output)   R-squared:                       0.888\n",
       "Model:                            OLS   Adj. R-squared:                  0.888\n",
       "Method:                 Least Squares   F-statistic:                     1499.\n",
       "Date:                Fri, 31 Mar 2023   Prob (F-statistic):          1.65e-268\n",
       "Time:                        17:10:01   Log-Likelihood:                -279.62\n",
       "No. Observations:                 569   AIC:                             567.2\n",
       "Df Residuals:                     565   BIC:                             584.6\n",
       "Df Model:                           3                                         \n",
       "Covariance Type:            nonrobust                                         \n",
       "===================================================================================\n",
       "                      coef    std err          t      P>|t|      [0.025      0.975]\n",
       "-----------------------------------------------------------------------------------\n",
       "Intercept          -5.0073      0.221    -22.649      0.000      -5.442      -4.573\n",
       "np.log(capital)     0.1493      0.015     10.141      0.000       0.120       0.178\n",
       "np.log(labour)      0.7204      0.019     37.487      0.000       0.683       0.758\n",
       "np.log(wage)        0.9214      0.058     16.001      0.000       0.808       1.034\n",
       "==============================================================================\n",
       "Omnibus:                      252.010   Durbin-Watson:                   2.008\n",
       "Prob(Omnibus):                  0.000   Jarque-Bera (JB):             3723.965\n",
       "Skew:                           1.547   Prob(JB):                         0.00\n",
       "Kurtosis:                      15.145   Cond. No.                         82.3\n",
       "==============================================================================\n",
       "\n",
       "Notes:\n",
       "[1] Standard Errors assume that the covariance matrix of the errors is correctly specified.\n",
       "\"\"\""
      ]
     },
     "execution_count": 27,
     "metadata": {},
     "output_type": "execute_result"
    }
   ],
   "source": [
    "mod32 =smf.ols(formula='np.log(output)~np.log(capital)+np.log(labour)+np.log(wage)', data=data3)\n",
    "output_eq31 = mod32.fit()\n",
    "output_eq31.summary()"
   ]
  },
  {
   "cell_type": "code",
   "execution_count": 28,
   "id": "e20199e9",
   "metadata": {},
   "outputs": [
    {
     "name": "stdout",
     "output_type": "stream",
     "text": [
      "Уровень значимости alpha:  0.05\n",
      "Критическое значение t_crit:  1.964\n"
     ]
    }
   ],
   "source": [
    "alpha = 0.05 \n",
    "print('Уровень значимости alpha: ', alpha)\n",
    "DF = int(output_eq31.df_resid)\n",
    "t_crit = stats.t.ppf(1-alpha/2, DF)\n",
    "print('Критическое значение t_crit: ', t_crit.round(3))"
   ]
  },
  {
   "cell_type": "code",
   "execution_count": 29,
   "id": "a160ccfe",
   "metadata": {},
   "outputs": [
    {
     "data": {
      "text/html": [
       "<div>\n",
       "<style scoped>\n",
       "    .dataframe tbody tr th:only-of-type {\n",
       "        vertical-align: middle;\n",
       "    }\n",
       "\n",
       "    .dataframe tbody tr th {\n",
       "        vertical-align: top;\n",
       "    }\n",
       "\n",
       "    .dataframe thead th {\n",
       "        text-align: right;\n",
       "    }\n",
       "</style>\n",
       "<table border=\"1\" class=\"dataframe\">\n",
       "  <thead>\n",
       "    <tr style=\"text-align: right;\">\n",
       "      <th></th>\n",
       "      <th>coef</th>\n",
       "      <th>std err</th>\n",
       "      <th>t</th>\n",
       "      <th>P&gt;|t|</th>\n",
       "      <th>[0.025</th>\n",
       "      <th>0.975]</th>\n",
       "      <th>significance</th>\n",
       "    </tr>\n",
       "  </thead>\n",
       "  <tbody>\n",
       "    <tr>\n",
       "      <th>Intercept</th>\n",
       "      <td>-5.0073</td>\n",
       "      <td>0.221</td>\n",
       "      <td>-22.649</td>\n",
       "      <td>0.0</td>\n",
       "      <td>-5.442</td>\n",
       "      <td>-4.573</td>\n",
       "      <td>Значим</td>\n",
       "    </tr>\n",
       "    <tr>\n",
       "      <th>np.log(capital)</th>\n",
       "      <td>0.1493</td>\n",
       "      <td>0.015</td>\n",
       "      <td>10.141</td>\n",
       "      <td>0.0</td>\n",
       "      <td>0.120</td>\n",
       "      <td>0.178</td>\n",
       "      <td>Значим</td>\n",
       "    </tr>\n",
       "    <tr>\n",
       "      <th>np.log(labour)</th>\n",
       "      <td>0.7204</td>\n",
       "      <td>0.019</td>\n",
       "      <td>37.487</td>\n",
       "      <td>0.0</td>\n",
       "      <td>0.683</td>\n",
       "      <td>0.758</td>\n",
       "      <td>Значим</td>\n",
       "    </tr>\n",
       "    <tr>\n",
       "      <th>np.log(wage)</th>\n",
       "      <td>0.9214</td>\n",
       "      <td>0.058</td>\n",
       "      <td>16.001</td>\n",
       "      <td>0.0</td>\n",
       "      <td>0.808</td>\n",
       "      <td>1.034</td>\n",
       "      <td>Значим</td>\n",
       "    </tr>\n",
       "  </tbody>\n",
       "</table>\n",
       "</div>"
      ],
      "text/plain": [
       "                   coef  std err       t  P>|t|  [0.025  0.975] significance\n",
       "Intercept       -5.0073    0.221 -22.649    0.0  -5.442  -4.573       Значим\n",
       "np.log(capital)  0.1493    0.015  10.141    0.0   0.120   0.178       Значим\n",
       "np.log(labour)   0.7204    0.019  37.487    0.0   0.683   0.758       Значим\n",
       "np.log(wage)     0.9214    0.058  16.001    0.0   0.808   1.034       Значим"
      ]
     },
     "execution_count": 29,
     "metadata": {},
     "output_type": "execute_result"
    }
   ],
   "source": [
    "table2 = pd.read_html(output_eq31.summary().tables[1].as_html(), header=0, index_col=0)[0]\n",
    "table2['significance'] = table2.apply(lambda x : 'Значим' if np.abs(x['t']) > t_crit else 'Незначим', axis = 1 )\n",
    "table2"
   ]
  },
  {
   "cell_type": "markdown",
   "id": "a0ba8592",
   "metadata": {},
   "source": [
    "# 3.2.1 Гипотеза 1"
   ]
  },
  {
   "cell_type": "markdown",
   "id": "14731f09",
   "metadata": {},
   "source": [
    "$$H_0: \\beta_{capital} + \\beta_{labour} + \\beta_{wage} = 1$$"
   ]
  },
  {
   "cell_type": "markdown",
   "id": "deb01484",
   "metadata": {},
   "source": [
    "Интерпретация: Постоянная отдача от масштаба"
   ]
  },
  {
   "cell_type": "code",
   "execution_count": 30,
   "id": "ee786a3b",
   "metadata": {},
   "outputs": [
    {
     "name": "stdout",
     "output_type": "stream",
     "text": [
      "198.5869331584923\n",
      "7.280959454662307e-39\n",
      "565.0\n",
      "1.0\n",
      "<F test: F=198.5869331584923, p=7.280959454662307e-39, df_denom=565, df_num=1>\n"
     ]
    }
   ],
   "source": [
    "A = output_eq31.f_test(\"np.log(capital)+np.log(labour)+np.log(wage) = 1\")\n",
    "print(A.fvalue)\n",
    "print(A.pvalue)\n",
    "print(A.df_denom)\n",
    "print(A.df_num)\n",
    "print(output_eq31.f_test(\"np.log(capital)+np.log(labour)+np.log(wage) = 1\")) "
   ]
  },
  {
   "cell_type": "code",
   "execution_count": 31,
   "id": "20037ecb",
   "metadata": {},
   "outputs": [
    {
     "data": {
      "text/plain": [
       "statsmodels.stats.contrast.ContrastResults"
      ]
     },
     "execution_count": 31,
     "metadata": {},
     "output_type": "execute_result"
    }
   ],
   "source": [
    "type(output_eq31.f_test(\"np.log(capital)+np.log(labour)+np.log(wage) = 1\"))"
   ]
  },
  {
   "cell_type": "code",
   "execution_count": 32,
   "id": "a49d8f4d",
   "metadata": {},
   "outputs": [
    {
     "name": "stdout",
     "output_type": "stream",
     "text": [
      "Уровень значимости alpha:  0.05\n",
      "J = 1 ,  n-k-1 = 565\n",
      "F-critical:  3.858\n"
     ]
    }
   ],
   "source": [
    "alpha = 0.05\n",
    "print('Уровень значимости alpha: ', alpha)\n",
    "dfn = int(1) \n",
    "dfd = int(output_eq31.df_resid) \n",
    "print(\"J =\", dfn,\", \", \"n-k-1 =\", dfd)\n",
    "F_crit = stats.f.ppf(1-alpha, dfn, dfd)\n",
    "print(\"F-critical: \", F_crit.round(3))"
   ]
  },
  {
   "cell_type": "code",
   "execution_count": 33,
   "id": "45296a5a",
   "metadata": {},
   "outputs": [
    {
     "name": "stdout",
     "output_type": "stream",
     "text": [
      "Гипотеза 1 отвергается\n"
     ]
    }
   ],
   "source": [
    "F_stat = A.fvalue\n",
    "if (F_stat > F_crit):\n",
    "    print('Гипотеза 1 отвергается')\n",
    "else:\n",
    "    print('Гипотеза 1 не отвергается')"
   ]
  },
  {
   "cell_type": "markdown",
   "id": "0b815fb9",
   "metadata": {},
   "source": [
    "# 3.2.2 Гипотеза 2"
   ]
  },
  {
   "cell_type": "markdown",
   "id": "fe0318a5",
   "metadata": {},
   "source": [
    "$$H_0: \\beta_{labour} = \\beta_{wage}$$"
   ]
  },
  {
   "cell_type": "markdown",
   "id": "b63e80f8",
   "metadata": {},
   "source": [
    "Интерпретация: отдача от labour и отдача от wage равны"
   ]
  },
  {
   "cell_type": "code",
   "execution_count": 34,
   "id": "5ad08805",
   "metadata": {},
   "outputs": [
    {
     "name": "stdout",
     "output_type": "stream",
     "text": [
      "<F test: F=11.080978246342188, p=0.0009289780461988841, df_denom=565, df_num=1>\n"
     ]
    }
   ],
   "source": [
    "print(output_eq31.f_test(\"np.log(labour)=np.log(wage)\")) "
   ]
  },
  {
   "cell_type": "code",
   "execution_count": 35,
   "id": "a4f85987",
   "metadata": {},
   "outputs": [
    {
     "name": "stdout",
     "output_type": "stream",
     "text": [
      "Уровень значимости alpha:  0.05\n",
      "J = 1 ,  n-k-1 = 565\n",
      "F-critical:  3.858\n"
     ]
    }
   ],
   "source": [
    "alpha = 0.05\n",
    "print('Уровень значимости alpha: ', alpha)\n",
    "dfn = int(1) \n",
    "dfd = int(output_eq31.df_resid) \n",
    "print(\"J =\", dfn,\", \", \"n-k-1 =\", dfd)\n",
    "F_crit = stats.f.ppf(1-alpha, dfn, dfd)\n",
    "print(\"F-critical: \", F_crit.round(3))"
   ]
  },
  {
   "cell_type": "code",
   "execution_count": 36,
   "id": "deb57b9d",
   "metadata": {},
   "outputs": [
    {
     "name": "stdout",
     "output_type": "stream",
     "text": [
      "Гипотеза 2 отвергается\n"
     ]
    }
   ],
   "source": [
    "F_stat = A.fvalue\n",
    "if (F_stat > F_crit):\n",
    "    print('Гипотеза 2 отвергается')\n",
    "else:\n",
    "    print('Гипотеза 2 не отвергается')"
   ]
  },
  {
   "cell_type": "markdown",
   "id": "c096f41e",
   "metadata": {},
   "source": [
    "# 3.2.3 Гипотеза 3"
   ]
  },
  {
   "cell_type": "markdown",
   "id": "bfa3d69c",
   "metadata": {},
   "source": [
    "$$H_0: \\beta_{capital} + \\beta_{labour} + \\beta_{wage}$$"
   ]
  },
  {
   "cell_type": "markdown",
   "id": "ced04991",
   "metadata": {},
   "source": [
    "Интерпретация: отдача от capital, отдача от labour и отдача от wage равны"
   ]
  },
  {
   "cell_type": "code",
   "execution_count": 41,
   "id": "60731e5a",
   "metadata": {},
   "outputs": [
    {
     "name": "stdout",
     "output_type": "stream",
     "text": [
      "<F test: F=192.36687126560258, p=1.9105516323872783e-64, df_denom=565, df_num=2>\n"
     ]
    }
   ],
   "source": [
    "print(output_eq31.f_test(\"np.log(capital)=np.log(labour)=np.log(wage)\"))"
   ]
  },
  {
   "cell_type": "code",
   "execution_count": 42,
   "id": "8f6d6e42",
   "metadata": {},
   "outputs": [
    {
     "name": "stdout",
     "output_type": "stream",
     "text": [
      "Уровень значимости alpha:  0.05\n",
      "J = 2 ,  n-k-1 = 565\n",
      "F-critical:  3.012\n"
     ]
    }
   ],
   "source": [
    "alpha = 0.05\n",
    "print('Уровень значимости alpha: ', alpha)\n",
    "dfn = int(2) \n",
    "dfd = int(output_eq31.df_resid) \n",
    "print(\"J =\", dfn,\", \", \"n-k-1 =\", dfd)\n",
    "F_crit = stats.f.ppf(1-alpha, dfn, dfd)\n",
    "print(\"F-critical: \", F_crit.round(3))"
   ]
  },
  {
   "cell_type": "code",
   "execution_count": 40,
   "id": "3609bbaa",
   "metadata": {},
   "outputs": [
    {
     "name": "stdout",
     "output_type": "stream",
     "text": [
      "Гипотеза 3 отвергается\n"
     ]
    }
   ],
   "source": [
    "F_stat = A.fvalue\n",
    "if (F_stat > F_crit):\n",
    "    print('Гипотеза 3 отвергается')\n",
    "else:\n",
    "    print('Гипотеза 3 не отвергается')"
   ]
  }
 ],
 "metadata": {
  "kernelspec": {
   "display_name": "Python 3 (ipykernel)",
   "language": "python",
   "name": "python3"
  },
  "language_info": {
   "codemirror_mode": {
    "name": "ipython",
    "version": 3
   },
   "file_extension": ".py",
   "mimetype": "text/x-python",
   "name": "python",
   "nbconvert_exporter": "python",
   "pygments_lexer": "ipython3",
   "version": "3.9.13"
  }
 },
 "nbformat": 4,
 "nbformat_minor": 5
}
